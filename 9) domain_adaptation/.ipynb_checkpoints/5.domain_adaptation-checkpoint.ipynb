{
 "cells": [
  {
   "cell_type": "markdown",
   "metadata": {},
   "source": [
    "\\# Developer: Ali Hashaam (ali.hashaam@initos.com) <br>\n",
    "\\# 5th March 2019 <br>\n",
    "\n",
    "\\# © 2019 initOS GmbH <br>\n",
    "\\# License MIT <br>\n",
    "\n",
    "\\# Library for TSVM and SelfLearning taken from https://github.com/tmadl/semisup-learn <br>\n",
    "\\# Library for lagrangean-S3VM taken from https://github.com/fbagattini/lagrangean-s3vm <br>"
   ]
  },
  {
   "cell_type": "code",
   "execution_count": 1,
   "metadata": {},
   "outputs": [],
   "source": [
    "from sklearn.svm import SVC\n",
    "import pandas as pd\n",
    "import numpy as np\n",
    "from __future__ import division\n",
    "import re\n",
    "from sklearn.model_selection import StratifiedShuffleSplit\n",
    "from sklearn.feature_extraction.text import TfidfVectorizer, CountVectorizer\n",
    "from frameworks.SelfLearning import *\n",
    "from imblearn.over_sampling import SMOTE\n",
    "from collections import Counter\n",
    "from imblearn.under_sampling import RepeatedEditedNearestNeighbours\n",
    "from sklearn.naive_bayes import MultinomialNB\n",
    "from sklearn.linear_model import LogisticRegression\n",
    "from sklearn.model_selection import GridSearchCV\n",
    "from sklearn.externals import joblib\n",
    "import time\n",
    "import matplotlib.pyplot as plt\n",
    "from sklearn.metrics import classification_report\n",
    "from methods.scikitTSVM import SKTSVM\n",
    "from sklearn.metrics import confusion_matrix\n",
    "from sklearn.utils.multiclass import unique_labels"
   ]
  },
  {
   "cell_type": "code",
   "execution_count": 2,
   "metadata": {},
   "outputs": [],
   "source": [
    "source_domain = pd.read_csv('github_preprocessed_data.csv')\n",
    "target_domain = pd.read_csv('mantis_data_for_domain_adaptation.csv')"
   ]
  },
  {
   "cell_type": "code",
   "execution_count": 3,
   "metadata": {},
   "outputs": [],
   "source": [
    "source_domain.drop([\"Unnamed: 0\"], axis=1, inplace=True)\n",
    "target_domain.drop([\"Unnamed: 0\"], axis=1, inplace=True)\n",
    "\n",
    "source_domain['text'] = source_domain['text'].fillna(\"\")\n",
    "target_domain['textual_data'] = target_domain['textual_data'].fillna(\"\")"
   ]
  },
  {
   "cell_type": "code",
   "execution_count": 4,
   "metadata": {},
   "outputs": [
    {
     "name": "stdout",
     "output_type": "stream",
     "text": [
      "1    734\n",
      "0    430\n",
      "Name: type, dtype: int64\n"
     ]
    }
   ],
   "source": [
    "print source_domain['type'].value_counts()"
   ]
  },
  {
   "cell_type": "code",
   "execution_count": 5,
   "metadata": {},
   "outputs": [
    {
     "name": "stdout",
     "output_type": "stream",
     "text": [
      "1.0    756\n",
      "0.0     92\n",
      "Name: type, dtype: int64\n"
     ]
    }
   ],
   "source": [
    "print target_domain['type'].value_counts()"
   ]
  },
  {
   "cell_type": "code",
   "execution_count": 6,
   "metadata": {},
   "outputs": [],
   "source": [
    "unlabelled_index_target = target_domain[(target_domain['bug_or_not'].isnull())].index\n",
    "labelled_index_target = target_domain[~(target_domain['bug_or_not'].isnull())].index"
   ]
  },
  {
   "cell_type": "code",
   "execution_count": 7,
   "metadata": {},
   "outputs": [
    {
     "data": {
      "text/plain": [
       "(8367, 848)"
      ]
     },
     "execution_count": 7,
     "metadata": {},
     "output_type": "execute_result"
    }
   ],
   "source": [
    "len(unlabelled_index_target), len(labelled_index_target)"
   ]
  },
  {
   "cell_type": "code",
   "execution_count": 8,
   "metadata": {},
   "outputs": [],
   "source": [
    "target_domain_labeled = target_domain.loc[labelled_index_target]"
   ]
  },
  {
   "cell_type": "code",
   "execution_count": 9,
   "metadata": {},
   "outputs": [
    {
     "data": {
      "text/plain": [
       "(848, 9215)"
      ]
     },
     "execution_count": 9,
     "metadata": {},
     "output_type": "execute_result"
    }
   ],
   "source": [
    "len(target_domain_labeled), len(target_domain)"
   ]
  },
  {
   "cell_type": "code",
   "execution_count": 10,
   "metadata": {},
   "outputs": [],
   "source": [
    "tfidf_vectorizer_source = TfidfVectorizer(max_df=0.95, min_df=2, max_features=500, stop_words='english')"
   ]
  },
  {
   "cell_type": "code",
   "execution_count": 11,
   "metadata": {},
   "outputs": [
    {
     "name": "stdout",
     "output_type": "stream",
     "text": [
      "1    734\n",
      "0    430\n",
      "Name: type, dtype: int64\n"
     ]
    }
   ],
   "source": [
    "source_domain_balanced = source_domain.groupby('type').apply(lambda x: x.sample(400))\n",
    "print source_domain['type'].value_counts()"
   ]
  },
  {
   "cell_type": "code",
   "execution_count": 12,
   "metadata": {},
   "outputs": [],
   "source": [
    "source_domain_X = tfidf_vectorizer_source.fit_transform(source_domain_balanced['text'])\n",
    "source_domain_Y = np.array(source_domain_balanced['type'])"
   ]
  },
  {
   "cell_type": "code",
   "execution_count": 13,
   "metadata": {},
   "outputs": [
    {
     "name": "stdout",
     "output_type": "stream",
     "text": [
      "0.845833333333\n",
      "              f1-score  precision    recall  support\n",
      "0.0           0.841202   0.867257  0.816667    120.0\n",
      "1.0           0.850202   0.826772  0.875000    120.0\n",
      "macro avg     0.845702   0.847014  0.845833    240.0\n",
      "micro avg     0.845833   0.845833  0.845833    240.0\n",
      "weighted avg  0.845702   0.847014  0.845833    240.0\n",
      "0.85\n",
      "              f1-score  precision    recall  support\n",
      "0.0           0.848739   0.855932  0.841667    120.0\n",
      "1.0           0.851240   0.844262  0.858333    120.0\n",
      "macro avg     0.849990   0.850097  0.850000    240.0\n",
      "micro avg     0.850000   0.850000  0.850000    240.0\n",
      "weighted avg  0.849990   0.850097  0.850000    240.0\n",
      "0.895833333333\n",
      "              f1-score  precision    recall  support\n",
      "0.0           0.889868   0.943925  0.841667    120.0\n",
      "1.0           0.901186   0.857143  0.950000    120.0\n",
      "macro avg     0.895527   0.900534  0.895833    240.0\n",
      "micro avg     0.895833   0.895833  0.895833    240.0\n",
      "weighted avg  0.895527   0.900534  0.895833    240.0\n"
     ]
    }
   ],
   "source": [
    "stratified_shuffle_split = StratifiedShuffleSplit(n_splits=3, test_size=0.3, random_state=0)\n",
    "scores = []\n",
    "iteration = 1\n",
    "for train_index, test_index in stratified_shuffle_split.split(source_domain_X, source_domain_Y):\n",
    "    X_train = source_domain_X[train_index].copy()\n",
    "    Y_train = source_domain_Y[train_index].copy()\n",
    "    X_test = source_domain_X[test_index].copy()\n",
    "    Y_test = source_domain_Y[test_index].copy()\n",
    "    clf = MultinomialNB()\n",
    "    clf.fit(X_train, Y_train)\n",
    "    print clf.score(X_test, Y_test.astype(float))\n",
    "    y_pred = clf.predict(X_test)\n",
    "    result = classification_report(Y_test.astype(float), y_pred.astype(float), output_dict=True)\n",
    "    src = pd.DataFrame(result)\n",
    "    src.transpose().to_csv('{}_{}_{}_latex_table_report.csv'.format('source_vs_source', '500', iteration))\n",
    "    print src.transpose()\n",
    "    iteration += 1"
   ]
  },
  {
   "cell_type": "markdown",
   "metadata": {},
   "source": [
    "# Baseline TL Source VS Target Supervised"
   ]
  },
  {
   "cell_type": "code",
   "execution_count": 14,
   "metadata": {},
   "outputs": [],
   "source": [
    "source_domain_X = tfidf_vectorizer_source.fit_transform(source_domain['text'])\n",
    "source_domain_Y = np.array(source_domain['type'])"
   ]
  },
  {
   "cell_type": "code",
   "execution_count": 15,
   "metadata": {},
   "outputs": [
    {
     "name": "stdout",
     "output_type": "stream",
     "text": [
      "members for classes (0.0,90),(1.0,90)\n",
      "Baseline TL Score: 0.566666666667\n",
      "members for classes (0,44),(1,136)\n",
      "                 0.0        1.0   macro avg   micro avg  weighted avg\n",
      "f1-score    0.417910   0.654867    0.536389    0.566667      0.536389\n",
      "precision   0.636364   0.544118    0.590241    0.566667      0.590241\n",
      "recall      0.311111   0.822222    0.566667    0.566667      0.566667\n",
      "support    90.000000  90.000000  180.000000  180.000000    180.000000\n",
      "members for classes (0.0,90),(1.0,90)\n",
      "Baseline TL Score: 0.6\n",
      "members for classes (0,38),(1,142)\n",
      "                 0.0        1.0   macro avg  micro avg  weighted avg\n",
      "f1-score    0.437500   0.689655    0.563578        0.6      0.563578\n",
      "precision   0.736842   0.563380    0.650111        0.6      0.650111\n",
      "recall      0.311111   0.888889    0.600000        0.6      0.600000\n",
      "support    90.000000  90.000000  180.000000      180.0    180.000000\n",
      "members for classes (0.0,90),(1.0,90)\n",
      "Baseline TL Score: 0.6\n",
      "members for classes (0,36),(1,144)\n",
      "                 0.0        1.0  macro avg  micro avg  weighted avg\n",
      "f1-score    0.428571   0.692308    0.56044        0.6       0.56044\n",
      "precision   0.750000   0.562500    0.65625        0.6       0.65625\n",
      "recall      0.300000   0.900000    0.60000        0.6       0.60000\n",
      "support    90.000000  90.000000  180.00000      180.0     180.00000\n",
      "members for classes (0.0,90),(1.0,90)\n",
      "Baseline TL Score: 0.583333333333\n",
      "members for classes (0,41),(1,139)\n",
      "                 0.0        1.0   macro avg   micro avg  weighted avg\n",
      "f1-score    0.427481   0.672489    0.549985    0.583333      0.549985\n",
      "precision   0.682927   0.553957    0.618442    0.583333      0.618442\n",
      "recall      0.311111   0.855556    0.583333    0.583333      0.583333\n",
      "support    90.000000  90.000000  180.000000  180.000000    180.000000\n",
      "members for classes (0.0,90),(1.0,90)\n",
      "Baseline TL Score: 0.633333333333\n",
      "members for classes (0,32),(1,148)\n",
      "                 0.0        1.0   macro avg   micro avg  weighted avg\n",
      "f1-score    0.459016   0.722689    0.590853    0.633333      0.590853\n",
      "precision   0.875000   0.581081    0.728041    0.633333      0.728041\n",
      "recall      0.311111   0.955556    0.633333    0.633333      0.633333\n",
      "support    90.000000  90.000000  180.000000  180.000000    180.000000\n"
     ]
    }
   ],
   "source": [
    "for x in xrange(5):\n",
    "    clf = MultinomialNB()\n",
    "    clf.fit(source_domain_X, source_domain_Y)\n",
    "    target_domain_labeled_balanced = target_domain_labeled.groupby('type').apply(lambda x: x.sample(90))\n",
    "    target_domain_X = tfidf_vectorizer_source.transform(target_domain_labeled_balanced['textual_data'])\n",
    "    target_domain_Y = np.array(target_domain_labeled_balanced['type'])\n",
    "    print(\"members for classes {}\".format(\",\".join(\"(%s,%s)\" % tup for tup in sorted(Counter(target_domain_Y).items()))))\n",
    "    score = clf.score(target_domain_X, target_domain_Y.astype(float))\n",
    "    print \"Baseline TL Score: \"+ str(score)\n",
    "    y_pred = clf.predict(target_domain_X)\n",
    "    print(\"members for classes {}\".format(\",\".join(\"(%s,%s)\" % tup for tup in sorted(Counter(y_pred).items()))))\n",
    "    result = classification_report(target_domain_Y.astype(float), y_pred.astype(float), output_dict=True)\n",
    "    src = pd.DataFrame(result)\n",
    "    print src\n",
    "    src.transpose().to_csv('{}_{}_{}_latex_table_report.csv'.format('source_vs_target_supervised', '500', x))"
   ]
  },
  {
   "cell_type": "markdown",
   "metadata": {
    "scrolled": true
   },
   "source": [
    "# TL Source Semi-Supervised"
   ]
  },
  {
   "cell_type": "code",
   "execution_count": 16,
   "metadata": {},
   "outputs": [],
   "source": [
    "target_domain_unlabeled = target_domain.loc[unlabelled_index_target, [\"textual_data\", \"type\"]].copy()\n",
    "target_domain_unlabeled[\"type\"] = -1\n",
    "source_domain_df = source_domain[[\"text\", \"type\"]].copy()\n",
    "source_domain_df.rename({\"text\":\"textual_data\", \"type\":\"type\"}, axis=1, inplace=1)\n",
    "domain_adaptation_df = pd.concat([source_domain_df, target_domain_unlabeled])"
   ]
  },
  {
   "cell_type": "code",
   "execution_count": 17,
   "metadata": {},
   "outputs": [
    {
     "data": {
      "text/plain": [
       "(9531, 1164, 8367)"
      ]
     },
     "execution_count": 17,
     "metadata": {},
     "output_type": "execute_result"
    }
   ],
   "source": [
    "len(domain_adaptation_df), len(source_domain_df), len(target_domain_unlabeled)"
   ]
  },
  {
   "cell_type": "code",
   "execution_count": 18,
   "metadata": {},
   "outputs": [
    {
     "name": "stdout",
     "output_type": "stream",
     "text": [
      "-1    8367\n",
      " 1     734\n",
      " 0     430\n",
      "Name: type, dtype: int64\n",
      "1.0    90\n",
      "0.0    90\n",
      "Name: type, dtype: int64\n"
     ]
    }
   ],
   "source": [
    "print domain_adaptation_df['type'].value_counts()\n",
    "print target_domain_labeled_balanced['type'].value_counts()"
   ]
  },
  {
   "cell_type": "code",
   "execution_count": 19,
   "metadata": {},
   "outputs": [],
   "source": [
    "from collections import Counter\n",
    "#print(\"members for classes {}\".format(\",\".join(\"(%s,%s)\" % tup for tup in sorted(Counter(Y).items()))))\n",
    "def domain_adaptation(dom_a_df, target_domain_labeled, \n",
    "                                        classifier, label_type, neg_class, classifier_name):\n",
    "    dom_a_df.loc[dom_a_df['type']==0, 'type'] = neg_class\n",
    "    dom_a_df.loc[dom_a_df['type']==1, 'type'] = 1\n",
    "    \n",
    "    target_domain_labeled.loc[target_domain_labeled['type']==0, 'type'] = neg_class\n",
    "    target_domain_labeled.loc[target_domain_labeled['type']==1, 'type'] = 1\n",
    "    \n",
    "    tfidf_vectorizer_source = TfidfVectorizer(max_df=0.95, min_df=2, max_features=500, stop_words='english')\n",
    "    source_X = tfidf_vectorizer_source.fit_transform(dom_a_df['textual_data']).toarray()\n",
    "    source_Y = np.array(dom_a_df['type'])\n",
    "    \n",
    "    target_domain_X = tfidf_vectorizer_source.transform(target_domain_labeled['textual_data']).toarray()\n",
    "    target_domain_Y = np.array(target_domain_labeled['type'])\n",
    "    \n",
    "    if label_type != 'int':\n",
    "        source_Y = source_Y.astype(float)\n",
    "    else:\n",
    "         source_Y = source_Y.astype(int)\n",
    "            \n",
    "    classifier.fit(source_X, source_Y)\n",
    "    score = classifier.score(target_domain_X, target_domain_Y.astype(int))\n",
    "    joblib.dump(classifier, 'models/DA_{}.pkl'.format(classifier_name))\n",
    "    joblib.dump(target_domain_X, 'models/X_test_DA_{}.pkl'.format(classifier_name))\n",
    "    joblib.dump(target_domain_Y, 'models/Y_test_DA_{}.pkl'.format(classifier_name))\n",
    "    print \"{} score: {}\".format(classifier_name, score)"
   ]
  },
  {
   "cell_type": "code",
   "execution_count": 27,
   "metadata": {},
   "outputs": [
    {
     "name": "stdout",
     "output_type": "stream",
     "text": [
      "ST_LR score: 0.5\n"
     ]
    }
   ],
   "source": [
    "sklearn_lr = LogisticRegression(solver='lbfgs')\n",
    "domain_adaptation(domain_adaptation_df.copy(), target_domain_labeled_balanced.copy(), \n",
    "                               SelfLearningModel(sklearn_lr), 'float', 0, 'ST_LR')"
   ]
  },
  {
   "cell_type": "code",
   "execution_count": 21,
   "metadata": {},
   "outputs": [
    {
     "name": "stdout",
     "output_type": "stream",
     "text": [
      "TSVM score: 0.516666666667\n"
     ]
    }
   ],
   "source": [
    "domain_adaptation(domain_adaptation_df.copy(), target_domain_labeled_balanced.copy(), \n",
    "                               SKTSVM(), 'int', 0, 'TSVM')"
   ]
  },
  {
   "cell_type": "code",
   "execution_count": 28,
   "metadata": {},
   "outputs": [],
   "source": [
    "def plot_confusion_matrix(y_true, y_pred, classes,\n",
    "                          normalize=False,\n",
    "                          title=None,\n",
    "                          cmap=plt.cm.Blues):\n",
    "    \"\"\"\n",
    "    This function prints and plots the confusion matrix.\n",
    "    Normalization can be applied by setting `normalize=True`.\n",
    "    \"\"\"\n",
    "    if not title:\n",
    "        if normalize:\n",
    "            title = 'Normalized confusion matrix'\n",
    "        else:\n",
    "            title = 'Confusion matrix, without normalization'\n",
    "\n",
    "    # Compute confusion matrix\n",
    "    cm = confusion_matrix(y_true, y_pred)\n",
    "    # Only use the labels that appear in the data\n",
    "    #classes = classes[unique_labels(y_true, y_pred)]\n",
    "    if normalize:\n",
    "        cm = cm.astype('float') / cm.sum(axis=1)[:, np.newaxis]\n",
    "        print(\"Normalized confusion matrix\")\n",
    "    else:\n",
    "        print('Confusion matrix, without normalization')\n",
    "\n",
    "    print(cm)\n",
    "\n",
    "    fig, ax = plt.subplots()\n",
    "    im = ax.imshow(cm, interpolation='nearest', cmap=cmap)\n",
    "    ax.figure.colorbar(im, ax=ax)\n",
    "    # We want to show all ticks...\n",
    "    ax.set(xticks=np.arange(cm.shape[1]),\n",
    "           yticks=np.arange(cm.shape[0]),\n",
    "           # ... and label them with the respective list entries\n",
    "           xticklabels=['Bug', 'Non-Bug'], yticklabels=['Bug', 'Non-Bug'],\n",
    "           title=title,\n",
    "           ylabel='True label',\n",
    "           xlabel='Predicted label')\n",
    "\n",
    "    # Rotate the tick labels and set their alignment.\n",
    "    plt.setp(ax.get_xticklabels(), rotation=45, ha=\"right\",\n",
    "             rotation_mode=\"anchor\")\n",
    "\n",
    "    # Loop over data dimensions and create text annotations.\n",
    "    fmt = '.2f' if normalize else 'd'\n",
    "    thresh = cm.max() / 2.\n",
    "    for i in range(cm.shape[0]):\n",
    "        for j in range(cm.shape[1]):\n",
    "            ax.text(j, i, format(cm[i, j], fmt),\n",
    "                    ha=\"center\", va=\"center\",\n",
    "                    color=\"white\" if cm[i, j] > thresh else \"black\")\n",
    "    fig.tight_layout()\n",
    "    #plt.savefig('Confusion_matrix(Phase_3).png', bbox_inches='tight')\n",
    "    return ax"
   ]
  },
  {
   "cell_type": "code",
   "execution_count": 29,
   "metadata": {},
   "outputs": [],
   "source": [
    "def get_results(classifier, data_type):\n",
    "    dict_features = {}\n",
    "    model = joblib.load('models/DA_{}.pkl'.format(classifier, 3))\n",
    "    x_tst = joblib.load('models/X_test_DA_{}.pkl'.format(classifier, 3))\n",
    "    y_tst = joblib.load('models/Y_test_DA_{}.pkl'.format(classifier, 3))\n",
    "    acc = model.score(x_tst, y_tst.astype(data_type))\n",
    "    print acc\n",
    "    y_pred = model.predict(x_tst)\n",
    "    print(\"members for classes {}\".format(\",\".join(\"(%s,%s)\" % tup for tup in sorted(Counter(y_tst).items()))))\n",
    "    print(\"members for classes {}\".format(\",\".join(\"(%s,%s)\" % tup for tup in sorted(Counter(y_pred).items()))))\n",
    "    result = classification_report(y_tst.astype(data_type), y_pred.astype(data_type), output_dict=True)\n",
    "    result_df = pd.DataFrame(result)\n",
    "    result_df.transpose().to_csv('DA_{}_latex_table_report.csv'.format(classifier))\n",
    "    np.set_printoptions(precision=2)\n",
    "\n",
    "    # Plot non-normalized confusion matrix\n",
    "    plot_confusion_matrix(y_tst.astype(data_type), y_pred.astype(data_type), classes=[0, 1],\n",
    "                          title='Confusion matrix, without normalization')\n",
    "\n",
    "    # Plot normalized confusion matrix\n",
    "    #plot_confusion_matrix(y_tst.astype(data_type), y_pred.astype(data_type), classes=[0, 1], normalize=True,\n",
    "     #                     title='Normalized confusion matrix')\n",
    "\n",
    "    plt.show()\n",
    "    print result_df.transpose()\n",
    "    return result_df"
   ]
  },
  {
   "cell_type": "code",
   "execution_count": null,
   "metadata": {},
   "outputs": [],
   "source": [
    "st_results = get_results('ST_LR', float)"
   ]
  },
  {
   "cell_type": "code",
   "execution_count": 25,
   "metadata": {},
   "outputs": [
    {
     "name": "stdout",
     "output_type": "stream",
     "text": [
      "0.516666666667\n",
      "members for classes (0.0,90),(1.0,90)\n",
      "members for classes (0.0,5),(1.0,175)\n",
      "Confusion matrix, without normalization\n",
      "[[ 4 86]\n",
      " [ 1 89]]\n"
     ]
    },
    {
     "data": {
      "image/png": "[encoded data removed]",
      "text/plain": [
       "<Figure size 432x288 with 2 Axes>"
      ]
     },
     "metadata": {
      "needs_background": "light"
     },
     "output_type": "display_data"
    },
    {
     "name": "stdout",
     "output_type": "stream",
     "text": [
      "              f1-score  precision    recall  support\n",
      "0             0.084211   0.800000  0.044444     90.0\n",
      "1             0.671698   0.508571  0.988889     90.0\n",
      "macro avg     0.377954   0.654286  0.516667    180.0\n",
      "micro avg     0.516667   0.516667  0.516667    180.0\n",
      "weighted avg  0.377954   0.654286  0.516667    180.0\n"
     ]
    }
   ],
   "source": [
    "tsvm_results = get_results('TSVM', int)"
   ]
  },
  {
   "cell_type": "code",
   "execution_count": null,
   "metadata": {},
   "outputs": [],
   "source": []
  },
  {
   "cell_type": "code",
   "execution_count": null,
   "metadata": {},
   "outputs": [],
   "source": []
  },
  {
   "cell_type": "code",
   "execution_count": null,
   "metadata": {},
   "outputs": [],
   "source": []
  },
  {
   "cell_type": "code",
   "execution_count": null,
   "metadata": {},
   "outputs": [],
   "source": []
  },
  {
   "cell_type": "code",
   "execution_count": null,
   "metadata": {},
   "outputs": [],
   "source": []
  },
  {
   "cell_type": "code",
   "execution_count": null,
   "metadata": {},
   "outputs": [],
   "source": []
  }
 ],
 "metadata": {
  "kernelspec": {
   "display_name": "Python 3",
   "language": "python",
   "name": "python3"
  },
  "language_info": {
   "codemirror_mode": {
    "name": "ipython",
    "version": 3
   },
   "file_extension": ".py",
   "mimetype": "text/x-python",
   "name": "python",
   "nbconvert_exporter": "python",
   "pygments_lexer": "ipython3",
   "version": "3.6.9"
  }
 },
 "nbformat": 4,
 "nbformat_minor": 2
}
