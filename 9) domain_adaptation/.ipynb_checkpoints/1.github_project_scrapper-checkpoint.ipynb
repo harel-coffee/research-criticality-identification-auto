{
 "cells": [
  {
   "cell_type": "markdown",
   "metadata": {},
   "source": [
    "\\# Developer: Ali Hashaam (ali.hashaam@initos.com) <br>\n",
    "\\# 26th February 2019 <br>\n",
    "\n",
    "\\# © 2019 initOS GmbH <br>\n",
    "\\# License MIT <br>\n",
    "\n",
    "The code is responsible to get data for ERPNext (https://github.com/frappe/erpnext) from github"
   ]
  },
  {
   "cell_type": "code",
   "execution_count": null,
   "metadata": {},
   "outputs": [],
   "source": [
    "from __future__ import unicode_literals\n",
    "import urllib2, json, re\n",
    "import pandas as pd\n",
    "from bs4 import BeautifulSoup\n",
    "import logging\n",
    "import logging.handlers\n",
    "from github import Github\n",
    "import pickle"
   ]
  },
  {
   "cell_type": "code",
   "execution_count": 6,
   "metadata": {},
   "outputs": [],
   "source": [
    "def establish_logger(plateform):\n",
    "    logger = logging.getLogger(plateform+\"git_scrapper\")\n",
    "    #logger.setLevel(logging.INFO)\n",
    "    fh = logging.FileHandler('scrapping_logs/'+plateform+\"git.log\")\n",
    "    fh.setLevel(logging.INFO)\n",
    "    formatter = logging.Formatter(\"%(asctime)s - %(name)s - %(levelname)s - %(message)s\")\n",
    "    fh.setFormatter(formatter)\n",
    "    logger.addHandler(fh)\n",
    "    return logger"
   ]
  },
  {
   "cell_type": "code",
   "execution_count": 7,
   "metadata": {},
   "outputs": [],
   "source": [
    "def get_data(repo, issues_to_be_done, issues_list):\n",
    "    try:\n",
    "        for i in issues_to_be_done:\n",
    "            issue = repo.get_issue(number=i)\n",
    "            labels = [l.name for l in issue.get_labels()]\n",
    "            if 'bug' in labels:\n",
    "                issue_type = 'bug'\n",
    "            else:\n",
    "                issue_type = ','.join(labels)\n",
    "            comments = issue.get_comments()\n",
    "            issue_num = issue.number\n",
    "            issue_body = issue.body\n",
    "            issue_user = issue.user.login\n",
    "            issue_state = issue.state\n",
    "            #comments_list = []\n",
    "            if comments.totalCount:\n",
    "                for comment in comments:\n",
    "                    #comments_list.append(comment)\n",
    "                    issues_list.append({\n",
    "                        'id': issue_num,\n",
    "                        'title': issue_body,\n",
    "                        'user': issue_user,\n",
    "                        'type': issue_type,\n",
    "                        'comment_user': comment.user.login,\n",
    "                        'comments': comment.body,\n",
    "                        'status': issue_state\n",
    "                    })\n",
    "            else:\n",
    "                issues_list.append({\n",
    "                        'id': issue_num,\n",
    "                        'title': issue_body,\n",
    "                        'user': issue_user,\n",
    "                        'type': issue_type,\n",
    "                        'comment_user': '',\n",
    "                        'comments': '',\n",
    "                        'status': issue_state\n",
    "                    })\n",
    "            print 'issue {} done'.format(issue_num)\n",
    "    except Exception as e: \n",
    "        print(e)\n",
    "    return issues_list"
   ]
  },
  {
   "cell_type": "code",
   "execution_count": 3,
   "metadata": {},
   "outputs": [],
   "source": [
    "data = pd.read_csv('erpnext_issues_seperated_comments.csv')\n",
    "done_issues = data['id'].tolist()\n",
    "pickle_file=open('erpnext_issue_list.pkl', 'rb')\n",
    "issue_list = pickle.load(pickle_file)\n",
    "issues_to_be_done = set(issue_list)-set(done_issues)\n",
    "\n",
    "g = Github(\"*******\", \"******\")\n",
    "logger = establish_logger('erpnext')\n",
    "repo = g.get_repo(\"frappe/erpnext\")\n",
    "\n",
    "issues_list = []\n",
    "\n",
    "issues_data = get_data(repo, issues_to_be_done, issues_list)\n",
    "\n",
    "df_seperated_comments =  pd.DataFrame(data = issues_data)\n",
    "df_seperated_comments = df_seperated_comments.dropna(subset=['title'])\n",
    "df_final = pd.concat([data, df_seperated_comments])"
   ]
  },
  {
   "cell_type": "code",
   "execution_count": 13,
   "metadata": {},
   "outputs": [
    {
     "data": {
      "text/plain": [
       "(2550, 2441, 8286, 10727)"
      ]
     },
     "execution_count": 13,
     "metadata": {},
     "output_type": "execute_result"
    }
   ],
   "source": [
    "len(issues_data), len(df_seperated_comments), len(data), len(df_final)"
   ]
  },
  {
   "cell_type": "code",
   "execution_count": 14,
   "metadata": {},
   "outputs": [],
   "source": [
    "df_final.to_csv('erpnext_issues_seperated_comments.csv', index=False,\n",
    "                             encoding='utf-8')\n",
    "\n",
    "df_final['type'] = df_final['type'].fillna('')\n",
    "df_final['comments'] = df_final['comments'].fillna('')\n",
    "df_final['comments'] = df_final['comments'].str.decode(\"utf-8\")\n",
    "df_final['title'] = df_final['title'].str.decode(\"utf-8\")\n",
    "df_final_groupby = df_final.groupby(['id'])['comments'] \\\n",
    "                                .apply(','.join).to_frame('textual_data').reset_index()\n",
    "df = pd.merge(df_final_groupby, df_final, how='left', on='id')\n",
    "df['textual_data'] = df['title'].fillna('') + ',' + df['textual_data'].fillna('')\n",
    "df = df.dropna(subset=['textual_data'])\n",
    "df[['id', 'type', 'textual_data']].to_csv('erpnext_issues.csv', index=False,\n",
    "                             encoding='utf-8')"
   ]
  },
  {
   "cell_type": "code",
   "execution_count": 45,
   "metadata": {},
   "outputs": [],
   "source": []
  },
  {
   "cell_type": "code",
   "execution_count": 47,
   "metadata": {},
   "outputs": [],
   "source": []
  },
  {
   "cell_type": "code",
   "execution_count": null,
   "metadata": {},
   "outputs": [],
   "source": []
  },
  {
   "cell_type": "code",
   "execution_count": null,
   "metadata": {},
   "outputs": [],
   "source": []
  }
 ],
 "metadata": {
  "kernelspec": {
   "display_name": "Python 3",
   "language": "python",
   "name": "python3"
  },
  "language_info": {
   "codemirror_mode": {
    "name": "ipython",
    "version": 3
   },
   "file_extension": ".py",
   "mimetype": "text/x-python",
   "name": "python",
   "nbconvert_exporter": "python",
   "pygments_lexer": "ipython3",
   "version": "3.6.9"
  }
 },
 "nbformat": 4,
 "nbformat_minor": 2
}
