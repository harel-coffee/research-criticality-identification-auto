{
 "cells": [
  {
   "cell_type": "markdown",
   "metadata": {},
   "source": [
    "\\# Developer: Ali Hashaam (ali.hashaam@initos.com) <br>\n",
    "\\# 2nd March 2019 <br>\n",
    "\n",
    "\\# © 2019 initOS GmbH <br>\n",
    "\\# License MIT <br>\n",
    "\n",
    "The code is responsible to get data for Jira Projects <br>\n",
    "- lucene <br>\n",
    "- jackrabbit <br> \n",
    "- httpclient <br>"
   ]
  },
  {
   "cell_type": "code",
   "execution_count": 1,
   "metadata": {},
   "outputs": [],
   "source": [
    "import urllib2, json, re\n",
    "import pandas as pd\n",
    "from bs4 import BeautifulSoup\n",
    "from __future__ import unicode_literals\n",
    "import logging\n",
    "import logging.handlers"
   ]
  },
  {
   "cell_type": "code",
   "execution_count": 2,
   "metadata": {},
   "outputs": [],
   "source": [
    "def establish_logger(plateform):\n",
    "    logger = logging.getLogger(plateform+\"_scrapper\")\n",
    "    logger.setLevel(logging.INFO)\n",
    "    fh = logging.FileHandler('scrapping_logs/'+plateform+\"_scrapping_output.log\")\n",
    "    fh.setLevel(logging.INFO)\n",
    "    formatter = logging.Formatter(\"%(asctime)s - %(name)s - %(levelname)s - %(message)s\")\n",
    "    fh.setFormatter(formatter)\n",
    "    logger.addHandler(fh)\n",
    "    return logger"
   ]
  },
  {
   "cell_type": "code",
   "execution_count": 3,
   "metadata": {},
   "outputs": [],
   "source": [
    "def scrap_data(issue_id, description): #LUCENE-754\n",
    "    comments = []\n",
    "    results = urllib2.urlopen('https://issues.apache.org/jira/browse/'+issue_id)\n",
    "    body = BeautifulSoup(results, \"lxml\").body\n",
    "    issue_id = body.find(id=\"key-val\").text\n",
    "    issue_summary = body.find(id=\"summary-val\").text.strip().replace(',','')\n",
    "    description_html = body.find(id=\"descriptionmodule\")\n",
    "    if description_html:\n",
    "        issue_description = description_html.find(id=\"description-val\").text.strip().replace(',','')\n",
    "    else: \n",
    "        issue_description = ''\n",
    "    scripts = body.find_all('script')\n",
    "    for script in scripts:\n",
    "        if 'activity-panel-pipe-id' in script.text:\n",
    "            script = script.string.decode('unicode-escape')\n",
    "            html = script[script.find('<div'):script.rfind('/div>')+5].replace('\\\\n', ''\n",
    "                                                                              ).replace('\\\\\"', '\"').replace('\\\\/', '/')\n",
    "            break\n",
    "    if html:\n",
    "        html = BeautifulSoup(html, \"lxml\")\n",
    "        content = html.body.find(id='issue_actions_container').find_all('div', 'issue-data-block')\n",
    "        if content:\n",
    "            for con in content:\n",
    "                temp_dict = {}\n",
    "                temp_dict['id'] = issue_id\n",
    "                temp_dict['comment_id'] = con['id']\n",
    "                head = con.find('div','action-head')\n",
    "                body = con.find('div','action-body')\n",
    "                temp_dict['comment_head'] = head.find('div','action-details').text.strip().replace(',','')\n",
    "                if body.p:\n",
    "                    temp_dict['comment_body'] = body.p.text.replace(',','')\n",
    "                comments.append(temp_dict)\n",
    "        else:\n",
    "            comments.append({'id':issue_id, 'comment_id':'','comment_head':'','comment_body':''})\n",
    "    description.append({'id':issue_id, 'summary':issue_summary, 'description': issue_description})\n",
    "    return comments, description"
   ]
  },
  {
   "cell_type": "code",
   "execution_count": 4,
   "metadata": {},
   "outputs": [],
   "source": [
    "def collect_data(lookup_df, logger, df):\n",
    "    description = []\n",
    "    ignored_ids = []\n",
    "    for ids in lookup_df['ID']:\n",
    "        try:\n",
    "            data, description = scrap_data(ids, description)\n",
    "            df = pd.concat([df, pd.DataFrame(data)], ignore_index=True)\n",
    "            logger.info('Data for '+ids+' scrapped')\n",
    "        except:\n",
    "            ignored_ids.append(ids)\n",
    "            logger.info(ids+' not scrapped because of errors.')\n",
    "            continue\n",
    "    description_df = pd.DataFrame(description)\n",
    "    return df, description_df, ignored_ids"
   ]
  },
  {
   "cell_type": "code",
   "execution_count": 5,
   "metadata": {},
   "outputs": [],
   "source": [
    "def scrapper_main(plateform): #lucene, jackrabbit, httpclient\n",
    "    logger = establish_logger(plateform)\n",
    "    df = pd.DataFrame(columns=['id', 'comment_id', 'comment_head', 'comment_body'])\n",
    "    lookup_df = pd.read_csv('../scrapped_data/'+plateform+'_classification_vs_type.csv')\n",
    "    df, description_df, ignored_ids = collect_data(lookup_df, logger, df)\n",
    "    print 'for plateform '+plateform+' error occured for: '+','.join(ignored_ids)\n",
    "    df.to_csv('../scrapped_data/'+plateform+'_issues_comments.csv', encoding = 'utf-8', index=False)\n",
    "    description_df.to_csv('../scrapped_data/'+plateform+'_issues_description.csv', encoding = 'utf-8', index=False)\n",
    "    return ignored_ids, logger"
   ]
  },
  {
   "cell_type": "code",
   "execution_count": 19,
   "metadata": {
    "scrolled": true
   },
   "outputs": [],
   "source": [
    "def scrap_failed_ids(plateform, ignored_ids, logger):\n",
    "    df = pd.read_csv('../scrapped_data/'+plateform+'_issues_comments.csv')\n",
    "    df_description = pd.read_csv('../scrapped_data/'+plateform+'_issues_description.csv')\n",
    "    print len(df), len(df_description)\n",
    "    description = []\n",
    "    for ids in ignored_ids:\n",
    "        data, description = scrap_data(ids, description)\n",
    "        df = pd.concat([df, pd.DataFrame(data)], ignore_index=True)\n",
    "        logger.info('Data for '+ids+' scrapped')\n",
    "    description_df = pd.DataFrame(description)\n",
    "    df.to_csv('../scrapped_data/'+plateform+'_issues_comments.csv', encoding = 'utf-8', index=False)\n",
    "    description_df.to_csv('../scrapped_data/'+plateform+'_issues_description.csv', encoding = 'utf-8', index=False)"
   ]
  },
  {
   "cell_type": "code",
   "execution_count": null,
   "metadata": {},
   "outputs": [],
   "source": [
    "def merge_all_comments(plateform):\n",
    "    \"\"\"\n",
    "    merge textual data into one column\n",
    "    \n",
    "    > Parameters:\n",
    "    plateform: str- Name of plateform whose textual data is to be dealt with\n",
    "    \n",
    "    > Returns:\n",
    "    df: Pandas Dataframe- dataframe with two columns id and text, with text containing all the textual\n",
    "        data belonging to particular id\n",
    "    \"\"\"\n",
    "    df_comments = pd.read_csv('../scrapped_data/'+plateform+'_issues_comments.csv')\n",
    "    df_comments = df_comments.fillna('')\n",
    "    df_comments = df_comments.groupby(['id'])['comment_body'].apply('. '.join).to_frame('comments').reset_index()\n",
    "    df_description = pd.read_csv('../scrapped_data/'+plateform+'_issues_description.csv')\n",
    "    df = pd.merge(df_description, df_comments, how='left', left_on='id', right_on='id')\n",
    "    df.to_csv('../datasets/'+plateform+'_issues.csv', encoding = 'utf-8', index=False)"
   ]
  },
  {
   "cell_type": "code",
   "execution_count": 6,
   "metadata": {},
   "outputs": [
    {
     "name": "stdout",
     "output_type": "stream",
     "text": [
      "for plateform jackrabbit error occured for: JCR-145,JCR-209\n",
      "for plateform httpclient error occured for: HTTPCLIENT-1087\n"
     ]
    }
   ],
   "source": [
    "for plateform in ['lucene', 'jackrabbit', 'httpclient']:\n",
    "    ignored_ids, logger = scrapper_main(plateform)\n",
    "    scrap_failed_ids(plateform, ignored_ids, logger)\n",
    "    merge_all_comments(plateform)"
   ]
  },
  {
   "cell_type": "code",
   "execution_count": 7,
   "metadata": {},
   "outputs": [],
   "source": []
  },
  {
   "cell_type": "markdown",
   "metadata": {},
   "source": [
    "# Testing"
   ]
  },
  {
   "cell_type": "code",
   "execution_count": 41,
   "metadata": {},
   "outputs": [],
   "source": [
    "#with open('httpclient_scrapping_output.log') as fp:\n",
    "#    lines = (line.rstrip() for line in fp) # All lines including the blank ones\n",
    "#    lines = (line for line in lines if line) # Non-blank lines\n",
    "#    for line in lines:\n",
    "#        if \"not scrapped because of errors.\" in line:\n",
    "#            print line"
   ]
  },
  {
   "cell_type": "code",
   "execution_count": 46,
   "metadata": {},
   "outputs": [],
   "source": [
    "#for platefprm in ['lucene', 'jackrabbit', 'httpclient']:\n",
    "#    lookup_df = pd.read_csv(plateform+'_classification_vs_type.csv')\n",
    "#    df = pd.read_csv(plateform+'_issues_comments.csv')\n",
    "#    description_df = pd.read_csv(plateform+'_issues_description.csv')\n",
    "#    print plateform\n",
    "#    print len(lookup_df[~(lookup_df['ID'].isin(df['id']))])\n",
    "#    print len(lookup_df[~(lookup_df['ID'].isin(description_df['id']))])"
   ]
  },
  {
   "cell_type": "code",
   "execution_count": 39,
   "metadata": {},
   "outputs": [],
   "source": []
  },
  {
   "cell_type": "code",
   "execution_count": null,
   "metadata": {},
   "outputs": [],
   "source": []
  },
  {
   "cell_type": "code",
   "execution_count": null,
   "metadata": {},
   "outputs": [],
   "source": []
  },
  {
   "cell_type": "code",
   "execution_count": null,
   "metadata": {},
   "outputs": [],
   "source": []
  },
  {
   "cell_type": "code",
   "execution_count": null,
   "metadata": {},
   "outputs": [],
   "source": []
  }
 ],
 "metadata": {
  "kernelspec": {
   "display_name": "Python 3",
   "language": "python",
   "name": "python3"
  },
  "language_info": {
   "codemirror_mode": {
    "name": "ipython",
    "version": 3
   },
   "file_extension": ".py",
   "mimetype": "text/x-python",
   "name": "python",
   "nbconvert_exporter": "python",
   "pygments_lexer": "ipython3",
   "version": "3.6.9"
  }
 },
 "nbformat": 4,
 "nbformat_minor": 2
}
