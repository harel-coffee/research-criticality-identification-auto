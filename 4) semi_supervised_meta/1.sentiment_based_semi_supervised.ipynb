{
 "cells": [
  {
   "cell_type": "markdown",
   "metadata": {},
   "source": [
    "\\# Developer: Ali Hashaam (ali.hashaam@initos.com) <br>\n",
    "\\# 15th February 2019 <br>\n",
    "\n",
    "\\# © 2019 initOS GmbH <br>\n",
    "\\# License MIT <br>\n",
    "\n",
    "\n",
    "\\# Library for TSVM and SelfLearning taken from https://github.com/tmadl/semisup-learn <br>\n",
    "\\# Library for lagrangean-S3VM taken from https://github.com/fbagattini/lagrangean-s3vm <br>"
   ]
  },
  {
   "cell_type": "code",
   "execution_count": 1,
   "metadata": {},
   "outputs": [],
   "source": [
    "import pandas as pd\n",
    "import numpy as np\n",
    "import re\n",
    "from sklearn.model_selection import StratifiedShuffleSplit\n",
    "from sklearn.semi_supervised import LabelPropagation, LabelSpreading\n",
    "from sklearn.preprocessing import StandardScaler, OneHotEncoder\n",
    "from sklearn.compose import ColumnTransformer, make_column_transformer\n",
    "from methods.scikitTSVM import SKTSVM\n",
    "from lagrangian_s3vm import *\n",
    "from utils import *\n",
    "from frameworks.SelfLearning import *\n",
    "from sklearn.externals import joblib\n",
    "from sklearn.linear_model import LogisticRegression\n",
    "from sklearn.metrics import classification_report\n",
    "from sklearn.metrics import cohen_kappa_score\n",
    "import matplotlib.pyplot as plt"
   ]
  },
  {
   "cell_type": "code",
   "execution_count": 4,
   "metadata": {},
   "outputs": [],
   "source": [
    "bugs = pd.read_csv('../datasets/sentiments_with_class_expansion.csv')\n",
    "text_predictions_df = pd.read_csv('../datasets/unigram_based_majority_voting_classifier.csv')"
   ]
  },
  {
   "cell_type": "code",
   "execution_count": 5,
   "metadata": {},
   "outputs": [
    {
     "name": "stdout",
     "output_type": "stream",
     "text": [
      "non-critical    2591\n",
      "critical        1104\n",
      "Name: class, dtype: int64\n"
     ]
    }
   ],
   "source": [
    "merged_df = pd.merge(bugs, text_predictions_df, how='left', left_on='id', right_on='id')\n",
    "senti_vector = merged_df[['id', 'neg_normalized', 'pos_normalized', 'neu_normalized', 'pred_class', 'class_x']]\n",
    "values = {'neg_normalized': 0, 'pos_normalized': 0, 'neu_normalized': 0}\n",
    "senti_vector = senti_vector.fillna(value=values)\n",
    "senti_vector = senti_vector.rename({'class_x':'class'}, axis=1)\n",
    "print senti_vector['class'].value_counts()"
   ]
  },
  {
   "cell_type": "code",
   "execution_count": 6,
   "metadata": {},
   "outputs": [],
   "source": [
    "#print(\"members for classes {}\".format(\",\".join(\"(%s,%s)\" % tup for tup in sorted(Counter(Y).items()))))\n",
    "def sentiment_based_classification_tsvm(senti_vector, classifier, label_type, neg_class, classifier_name):\n",
    "    senti_vector.loc[senti_vector['class']=='critical', 'class'] = neg_class\n",
    "    senti_vector.loc[senti_vector['class']=='non-critical', 'class'] = 1\n",
    "    unlabelled_index = senti_vector[(senti_vector['class'].isnull())].index\n",
    "    labelled_index = senti_vector[~(senti_vector['class'].isnull())].index\n",
    "    X = np.array(senti_vector[['neg_normalized', 'pos_normalized', 'neu_normalized', 'pred_class']])\n",
    "    Y = np.array(senti_vector['class'])\n",
    "    X_U = X[unlabelled_index]\n",
    "    X_l = X[labelled_index]\n",
    "    Y_l = Y[labelled_index]\n",
    "    stratified_shuffle_split = StratifiedShuffleSplit(n_splits=3, test_size=0.6, random_state=0)\n",
    "    scores = []\n",
    "    classifiers = []\n",
    "    iteration = 1\n",
    "    for train_index, test_index in stratified_shuffle_split.split(X_l, Y_l):\n",
    "        X_train = X_l[train_index].copy()\n",
    "        Y_train = Y_l[train_index].copy()\n",
    "        X_test = X_l[test_index].copy()\n",
    "        Y_test = Y_l[test_index].copy()\n",
    "        X_l_u = np.vstack((X_train, X_U))\n",
    "        Y_U = np.full((X_U.shape[0], ), -1)\n",
    "        if label_type == 'int':\n",
    "            Y_l_u = np.concatenate((Y_train, Y_U))\n",
    "        else:\n",
    "            Y_l_u = np.concatenate((Y_train, Y_U)).astype(float)\n",
    "        classifier.fit(X_l_u, Y_l_u)\n",
    "        score = classifier.score(X_test, Y_test.astype(float))\n",
    "        scores.append(score)\n",
    "        joblib.dump(classifier, 'models/meta_{}_{}.pkl'.format(classifier_name, iteration))\n",
    "        joblib.dump(X_test, 'models/X_test_meta_{}_{}.pkl'.format(classifier_name, iteration))\n",
    "        joblib.dump(Y_test, 'models/Y_test_meta_{}_{}.pkl'.format(classifier_name, iteration))\n",
    "        iteration +=1\n",
    "    print scores\n",
    "    print \"{} average score: {}\".format(classifier_name, np.mean(scores))"
   ]
  },
  {
   "cell_type": "code",
   "execution_count": 7,
   "metadata": {},
   "outputs": [],
   "source": [
    "def sentiment_based_classification_lsv3m(senti_vector, neg_class):\n",
    "    senti_vector.loc[senti_vector['class']=='critical', 'class'] = neg_class\n",
    "    senti_vector.loc[senti_vector['class']=='non-critical', 'class'] = 1\n",
    "    unlabelled_index = senti_vector[(senti_vector['class'].isnull())].index\n",
    "    labelled_index = senti_vector[~(senti_vector['class'].isnull())].index\n",
    "    X = np.array(senti_vector[['neg_normalized', 'pos_normalized', 'neu_normalized', 'pred_class']])\n",
    "    Y = np.array(senti_vector['class'])\n",
    "    #print(\"members for classes {}\".format(\",\".join(\"(%s,%s)\" % tup for tup in sorted(Counter(Y).items()))))\n",
    "    X_U = X[unlabelled_index]\n",
    "    X_l = X[labelled_index]\n",
    "    Y_l = Y[labelled_index]\n",
    "    stratified_shuffle_split = StratifiedShuffleSplit(n_splits=3, test_size=0.6, random_state=0)\n",
    "    scores = []\n",
    "    iteration = 1\n",
    "    classifiers = []\n",
    "    for train_index, test_index in stratified_shuffle_split.split(X_l, Y_l):\n",
    "        X_train = X_l[train_index].copy()\n",
    "        Y_train = Y_l[train_index].copy()\n",
    "        X_test = X_l[test_index].copy()\n",
    "        Y_test = Y_l[test_index].copy()\n",
    "        svc = get_best_estimator_by_cv(X_train, Y_train.astype(float), 5)\n",
    "        classifier = lagrangian_s3vm_train(X_train,\n",
    "                                              Y_train.astype(float),\n",
    "                                              X_U,\n",
    "                                              svc,\n",
    "                                              r=0.5)\n",
    "        score = classifier.score(X_test, Y_test.astype(float))\n",
    "        joblib.dump(classifier, 'models/meta_lagrangean_S3VM_{}.pkl'.format(iteration))\n",
    "        joblib.dump(X_test, 'models/X_test_meta_lagrangean_S3VM_{}.pkl'.format(iteration))\n",
    "        joblib.dump(Y_test, 'models/Y_test_meta_lagrangean_S3VM_{}.pkl'.format(iteration))\n",
    "        iteration +=1\n",
    "        scores.append(score)\n",
    "    print scores\n",
    "    print \"{} average score: {}\".format('lagrangean S3VM', np.mean(scores))"
   ]
  },
  {
   "cell_type": "code",
   "execution_count": null,
   "metadata": {},
   "outputs": [],
   "source": [
    "sentiment_based_classification_tsvm(senti_vector.copy(), SKTSVM(), 'int', 0, 'TSVM')"
   ]
  },
  {
   "cell_type": "code",
   "execution_count": 16,
   "metadata": {},
   "outputs": [
    {
     "name": "stdout",
     "output_type": "stream",
     "text": [
      "[0.89670726206585472, 0.89986468200270631, 0.89941362201172759]\n",
      "ST_LR average score: 0.89866185536\n"
     ]
    }
   ],
   "source": [
    "sklearn_lr = LogisticRegression(n_jobs=-1, class_weight='balanced')\n",
    "sentiment_based_classification_tsvm(senti_vector.copy(), SelfLearningModel(sklearn_lr), 'float', 0, 'ST_LR')"
   ]
  },
  {
   "cell_type": "code",
   "execution_count": 14,
   "metadata": {},
   "outputs": [
    {
     "name": "stdout",
     "output_type": "stream",
     "text": [
      "[0.8651330626973387, 0.85656292286874158, 0.87054578258908433]\n",
      "lagrangean S3VM average score: 0.864080589385\n"
     ]
    }
   ],
   "source": [
    "sentiment_based_classification_lsv3m(senti_vector.copy(), -1)"
   ]
  },
  {
   "cell_type": "code",
   "execution_count": 10,
   "metadata": {},
   "outputs": [],
   "source": [
    "def get_results(classifier, data_type):\n",
    "    dict_features = {}\n",
    "    model = joblib.load('models/meta_{}_{}.pkl'.format(classifier, 3))\n",
    "    x_tst = joblib.load('models/X_test_meta_{}_{}.pkl'.format(classifier, 3))\n",
    "    y_tst = joblib.load('models/Y_test_meta_{}_{}.pkl'.format(classifier, 3))\n",
    "    acc = model.score(x_tst, y_tst.astype(data_type))\n",
    "    y_pred = model.predict(x_tst)\n",
    "    result = classification_report(y_tst.astype(data_type), y_pred.astype(data_type), output_dict=True)\n",
    "    result = pd.DataFrame(result)\n",
    "    print result\n",
    "    arrays = [[\"Precision\", \"Precision\", \"Precision\", \"Recall\", \"Recall\", \"Recall\", \"F1-score\", \"F1-score\", \n",
    "               \"F1-score\"], ['Critical', 'Non-Critical', 'Weighted Avg.', 'Critical', 'Non-Critical', \n",
    "                                       'Weighted Avg.', 'Critical', 'Non-Critical', 'Weighted Avg.']]\n",
    "    MI = pd.MultiIndex.from_arrays(arrays, names=('Measures', 'Classes'))\n",
    "    vals = [[round(result.loc['precision', '0'], 2)],\n",
    "             [round(result.loc['precision', '1'], 2)],\n",
    "             [round(result.loc['precision', 'weighted avg'], 2)],\n",
    "             [round(result.loc['recall', '0'], 2)],\n",
    "             [round(result.loc['recall', '1'], 2)],\n",
    "             [round(result.loc['recall', 'weighted avg'], 2)],\n",
    "             [round(result.loc['f1-score', '0'], 2)],\n",
    "             [round(result.loc['f1-score', '1'], 2)],\n",
    "             [round(result.loc['f1-score', 'weighted avg'], 2)]]\n",
    "             #[round(dict_acc[str(features)],2)]]\n",
    "    df = pd.DataFrame(vals, index=MI, columns=['vals'])  \n",
    "    df = df.unstack().transpose().reset_index(level=0, drop=True)\n",
    "    ax = df.plot(kind='bar', figsize=(8,6), rot=False)\n",
    "    patches, labels = ax.get_legend_handles_labels()\n",
    "    ax.legend(patches, labels, loc='upper left')\n",
    "    \n",
    "    plt.xlabel('Evaluation Measure Meta Model {}'.format(classifier), fontsize=12)\n",
    "    plt.savefig('meta_model_results_{}.pdf'.format(classifier), dpi=720)\n",
    "    \n",
    "    #result_df = pd.DataFrame(result)\n",
    "    #result_df.transpose().to_csv('meta_{}_latex_table_report.csv'.format(classifier))\n",
    "    #print result_df.transpose()\n",
    "    return df, y_tst.astype(data_type), y_pred.astype(data_type)"
   ]
  },
  {
   "cell_type": "code",
   "execution_count": 11,
   "metadata": {},
   "outputs": [
    {
     "name": "stdout",
     "output_type": "stream",
     "text": [
      "                    0            1    macro avg    micro avg  weighted avg\n",
      "f1-score     0.833333     0.931166     0.882250     0.902571      0.901953\n",
      "precision    0.851735     0.922931     0.887333     0.902571      0.901672\n",
      "recall       0.815710     0.939550     0.877630     0.902571      0.902571\n",
      "support    662.000000  1555.000000  2217.000000  2217.000000   2217.000000\n"
     ]
    },
    {
     "data": {
      "image/png": "[encoded data removed]",
      "text/plain": [
       "<Figure size 576x432 with 1 Axes>"
      ]
     },
     "metadata": {
      "needs_background": "light"
     },
     "output_type": "display_data"
    }
   ],
   "source": [
    "tsvm_results, y_test_true, y_test_pred = get_results('TSVM', int)"
   ]
  },
  {
   "cell_type": "code",
   "execution_count": 12,
   "metadata": {},
   "outputs": [],
   "source": [
    "from sklearn.metrics import confusion_matrix\n",
    "from sklearn.utils.multiclass import unique_labels\n",
    "\n",
    "def plot_confusion_matrix(y_true, y_pred, classes,\n",
    "                          normalize=False,\n",
    "                          title=None,\n",
    "                          cmap=plt.cm.Blues):\n",
    "    \"\"\"\n",
    "    This function prints and plots the confusion matrix.\n",
    "    Normalization can be applied by setting `normalize=True`.\n",
    "    \"\"\"\n",
    "    if not title:\n",
    "        if normalize:\n",
    "            title = 'Normalized confusion matrix'\n",
    "        else:\n",
    "            title = 'Confusion matrix, without normalization'\n",
    "\n",
    "    # Compute confusion matrix\n",
    "    cm = confusion_matrix(y_true, y_pred)\n",
    "    # Only use the labels that appear in the data\n",
    "    #classes = classes[unique_labels(y_true, y_pred)]\n",
    "    if normalize:\n",
    "        cm = cm.astype('float') / cm.sum(axis=1)[:, np.newaxis]\n",
    "        print(\"Normalized confusion matrix\")\n",
    "    else:\n",
    "        print('Confusion matrix, without normalization')\n",
    "\n",
    "    print(cm)\n",
    "\n",
    "    fig, ax = plt.subplots()\n",
    "    im = ax.imshow(cm, interpolation='nearest', cmap=cmap)\n",
    "    ax.figure.colorbar(im, ax=ax)\n",
    "    # We want to show all ticks...\n",
    "    ax.set(xticks=np.arange(cm.shape[1]),\n",
    "           yticks=np.arange(cm.shape[0]),\n",
    "           # ... and label them with the respective list entries\n",
    "           xticklabels=['Critical', 'Non-Critical'], yticklabels=['Critical', 'Non-Critical'],\n",
    "           title=title,\n",
    "           ylabel='True label',\n",
    "           xlabel='Predicted label')\n",
    "\n",
    "    # Rotate the tick labels and set their alignment.\n",
    "    plt.setp(ax.get_xticklabels(), rotation=45, ha=\"right\",\n",
    "             rotation_mode=\"anchor\")\n",
    "\n",
    "    # Loop over data dimensions and create text annotations.\n",
    "    fmt = '.2f' if normalize else 'd'\n",
    "    thresh = cm.max() / 2.\n",
    "    for i in range(cm.shape[0]):\n",
    "        for j in range(cm.shape[1]):\n",
    "            ax.text(j, i, format(cm[i, j], fmt),\n",
    "                    ha=\"center\", va=\"center\",\n",
    "                    color=\"white\" if cm[i, j] > thresh else \"black\")\n",
    "    fig.tight_layout()\n",
    "    plt.savefig('Confusion_matrix(Meta Model).pdf', bbox_inches='tight')\n",
    "    return ax"
   ]
  },
  {
   "cell_type": "code",
   "execution_count": 13,
   "metadata": {},
   "outputs": [
    {
     "name": "stdout",
     "output_type": "stream",
     "text": [
      "Normalized confusion matrix\n",
      "[[ 0.82  0.18]\n",
      " [ 0.06  0.94]]\n"
     ]
    },
    {
     "data": {
      "image/png": "[encoded data removed]",
      "text/plain": [
       "<Figure size 432x288 with 2 Axes>"
      ]
     },
     "metadata": {
      "needs_background": "light"
     },
     "output_type": "display_data"
    }
   ],
   "source": [
    "np.set_printoptions(precision=2)\n",
    "\n",
    "# Plot non-normalized confusion matrix\n",
    "#plot_confusion_matrix(y_tst.astype(int), y_pred.astype(float), classes=[-1, 1],\n",
    "#                      title='Confusion matrix, without normalization')\n",
    "# Plot normalized confusion matrix\n",
    "plot_confusion_matrix(y_test_true, y_test_pred, classes=[-1, 1], normalize=True,\n",
    "                      title='Normalized confusion matrix')\n",
    "plt.show()"
   ]
  },
  {
   "cell_type": "code",
   "execution_count": null,
   "metadata": {},
   "outputs": [],
   "source": [
    "st_results, y_test_true, y_test_pred = get_results('ST_LR', float)"
   ]
  },
  {
   "cell_type": "code",
   "execution_count": null,
   "metadata": {},
   "outputs": [],
   "source": [
    "ls3vm_results, y_test_true, y_test_pred = get_results('lagrangean_S3VM', float)"
   ]
  },
  {
   "cell_type": "code",
   "execution_count": 6,
   "metadata": {},
   "outputs": [],
   "source": [
    "df = pd.DataFrame({'QN-S3VM': {'F1-Score': round(tsvm_results.loc['f1-score', 'weighted avg'], 2),\n",
    "                               'Precision': round(tsvm_results.loc['precision', 'weighted avg'], 2),\n",
    "                               'Recall': round(tsvm_results.loc['recall', 'weighted avg'], 2),\n",
    "                               'Accuracy': round(0.90,2)},\n",
    "                   'Self-Training-LR': {'F1-Score': round(st_results.loc['f1-score', 'weighted avg'], 2),\n",
    "                                        'Precision': round(st_results.loc['precision', 'weighted avg'], 2),\n",
    "                                       'Recall': round(st_results.loc['recall', 'weighted avg'], 2),\n",
    "                                        'Accuracy': round(0.898,2)},\n",
    "                   'Lagrangean S3VM': {'F1-Score': round(ls3vm_results.loc['f1-score', 'weighted avg'], 2),\n",
    "                                       'Precision': round(ls3vm_results.loc['precision', 'weighted avg'], 2),\n",
    "                                       'Recall': round(ls3vm_results.loc['recall', 'weighted avg'], 2),\n",
    "                                       'Accuracy': round(0.864,2)}})"
   ]
  },
  {
   "cell_type": "code",
   "execution_count": 7,
   "metadata": {},
   "outputs": [
    {
     "data": {
      "text/html": [
       "<div>\n",
       "<style scoped>\n",
       "    .dataframe tbody tr th:only-of-type {\n",
       "        vertical-align: middle;\n",
       "    }\n",
       "\n",
       "    .dataframe tbody tr th {\n",
       "        vertical-align: top;\n",
       "    }\n",
       "\n",
       "    .dataframe thead th {\n",
       "        text-align: right;\n",
       "    }\n",
       "</style>\n",
       "<table border=\"1\" class=\"dataframe\">\n",
       "  <thead>\n",
       "    <tr style=\"text-align: right;\">\n",
       "      <th></th>\n",
       "      <th>Lagrangean S3VM</th>\n",
       "      <th>QN-S3VM</th>\n",
       "      <th>Self-Training-LR</th>\n",
       "    </tr>\n",
       "  </thead>\n",
       "  <tbody>\n",
       "    <tr>\n",
       "      <th>Accuracy</th>\n",
       "      <td>0.86</td>\n",
       "      <td>0.9</td>\n",
       "      <td>0.9</td>\n",
       "    </tr>\n",
       "    <tr>\n",
       "      <th>F1-Score</th>\n",
       "      <td>0.87</td>\n",
       "      <td>0.9</td>\n",
       "      <td>0.9</td>\n",
       "    </tr>\n",
       "    <tr>\n",
       "      <th>Precision</th>\n",
       "      <td>0.88</td>\n",
       "      <td>0.9</td>\n",
       "      <td>0.9</td>\n",
       "    </tr>\n",
       "    <tr>\n",
       "      <th>Recall</th>\n",
       "      <td>0.87</td>\n",
       "      <td>0.9</td>\n",
       "      <td>0.9</td>\n",
       "    </tr>\n",
       "  </tbody>\n",
       "</table>\n",
       "</div>"
      ],
      "text/plain": [
       "           Lagrangean S3VM  QN-S3VM  Self-Training-LR\n",
       "Accuracy              0.86      0.9               0.9\n",
       "F1-Score              0.87      0.9               0.9\n",
       "Precision             0.88      0.9               0.9\n",
       "Recall                0.87      0.9               0.9"
      ]
     },
     "execution_count": 7,
     "metadata": {},
     "output_type": "execute_result"
    }
   ],
   "source": [
    "df"
   ]
  },
  {
   "cell_type": "code",
   "execution_count": 8,
   "metadata": {},
   "outputs": [
    {
     "data": {
      "image/png": "[encoded data removed]",
      "text/plain": [
       "<Figure size 576x432 with 1 Axes>"
      ]
     },
     "metadata": {
      "needs_background": "light"
     },
     "output_type": "display_data"
    }
   ],
   "source": [
    "ax = df.plot(kind='bar', figsize=(8,6), rot=False)\n",
    "plt.xlabel('Features', fontsize=12)\n",
    "plt.ylabel(\"%\", fontsize=12)\n",
    "plt.legend(loc='lower right')\n",
    "plt.savefig('{}_results.pdf'.format('Meta_modeling'), dpi=720)"
   ]
  },
  {
   "cell_type": "code",
   "execution_count": null,
   "metadata": {},
   "outputs": [],
   "source": []
  },
  {
   "cell_type": "code",
   "execution_count": null,
   "metadata": {},
   "outputs": [],
   "source": []
  }
 ],
 "metadata": {
  "kernelspec": {
   "display_name": "Python 3",
   "language": "python",
   "name": "python3"
  },
  "language_info": {
   "codemirror_mode": {
    "name": "ipython",
    "version": 3
   },
   "file_extension": ".py",
   "mimetype": "text/x-python",
   "name": "python",
   "nbconvert_exporter": "python",
   "pygments_lexer": "ipython3",
   "version": "3.6.9"
  }
 },
 "nbformat": 4,
 "nbformat_minor": 2
}
