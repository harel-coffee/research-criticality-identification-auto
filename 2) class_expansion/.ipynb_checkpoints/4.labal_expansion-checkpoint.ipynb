{
 "cells": [
  {
   "cell_type": "markdown",
   "metadata": {},
   "source": [
    "\\# Developer: Ali Hashaam (ali.hashaam@initos.com) <br>\n",
    "\\# 18th December 2018"
   ]
  },
  {
   "cell_type": "code",
   "execution_count": 1,
   "metadata": {},
   "outputs": [],
   "source": [
    "import pandas as pd\n",
    "import numpy as np\n",
    "from sklearn.preprocessing import StandardScaler, OneHotEncoder\n",
    "from sklearn.compose import ColumnTransformer, make_column_transformer\n",
    "from sklearn.cluster import DBSCAN#\n",
    "from sklearn.cluster import KMeans\n",
    "from sklearn.mixture import GaussianMixture\n",
    "import sklearn, re\n",
    "import matplotlib.pyplot as plt\n",
    "import seaborn as sns\n",
    "import math\n",
    "from sklearn.decomposition import PCA as sklearnPCA\n",
    "from sklearn.discriminant_analysis import LinearDiscriminantAnalysis as LDA\n",
    "from sklearn.feature_extraction.text import TfidfVectorizer\n",
    "from sklearn.metrics import silhouette_samples, silhouette_score"
   ]
  },
  {
   "cell_type": "code",
   "execution_count": 14,
   "metadata": {},
   "outputs": [],
   "source": [
    "clustered_df = pd.read_csv('../datasets/clusters_for_outsourcing')\n",
    "bugs = pd.read_csv('../datasets/lexical_semantic_preprocessed_mantis_bugs_less_columns_with_class.csv')\n",
    "SO_vectors = pd.read_csv('../datasets/mantis_bugs_vector.csv')"
   ]
  },
  {
   "cell_type": "code",
   "execution_count": 15,
   "metadata": {},
   "outputs": [
    {
     "data": {
      "text/plain": [
       "non-critical    824\n",
       "critical        296\n",
       "Name: class, dtype: int64"
      ]
     },
     "execution_count": 15,
     "metadata": {},
     "output_type": "execute_result"
    }
   ],
   "source": [
    "bugs['class'].value_counts()"
   ]
  },
  {
   "cell_type": "code",
   "execution_count": 16,
   "metadata": {},
   "outputs": [
    {
     "name": "stdout",
     "output_type": "stream",
     "text": [
      "non-critical    2476\n",
      "critical         835\n",
      "Name: class, dtype: int64\n"
     ]
    }
   ],
   "source": [
    "ind = bugs[(bugs['id'].isin(SO_vectors[SO_vectors['pos_normalized'] == 1]['id'])) & (bugs['class'].isnull())].index\n",
    "n_ind = bugs[(bugs['id'].isin(SO_vectors[SO_vectors['neg_normalized'] > 0.95]['id'])) & (bugs['class'].isnull())].index\n",
    "bugs.loc[ind, 'class'] = 'non-critical'\n",
    "bugs.loc[n_ind, 'class'] = 'critical'\n",
    "print bugs['class'].value_counts()"
   ]
  },
  {
   "cell_type": "code",
   "execution_count": 17,
   "metadata": {},
   "outputs": [],
   "source": [
    "high_sim = clustered_df[clustered_df['cluster_dbscan_silhouette_mean']>0.7]"
   ]
  },
  {
   "cell_type": "code",
   "execution_count": 18,
   "metadata": {},
   "outputs": [],
   "source": [
    "high_sim = pd.merge(high_sim, bugs[['id', 'class']], how='left', left_on='id', right_on='id')"
   ]
  },
  {
   "cell_type": "code",
   "execution_count": 19,
   "metadata": {},
   "outputs": [],
   "source": [
    "for clu in set(high_sim[~(high_sim['class'].isnull())]['cluster_#']):\n",
    "    index_to_be_done = high_sim[high_sim['cluster_#']==clu]\n",
    "    classes = list(set(index_to_be_done['class']))\n",
    "    if len(classes) == 1:\n",
    "        bugs.loc[bugs['id'].isin(index_to_be_done['id']), 'class'] = classes[0]\n",
    "    else:\n",
    "        if index_to_be_done['cluster_dbscan_silhouette_mean'].iloc[0] == float(1):\n",
    "            bugs.loc[bugs['id'].isin(index_to_be_done['id']), 'class'] = 'critical'\n",
    "        else:\n",
    "            bugs.loc[bugs['id'].isin(index_to_be_done['id']), 'class'] = index_to_be_done['class'].value_counts().idxmax()"
   ]
  },
  {
   "cell_type": "code",
   "execution_count": 20,
   "metadata": {},
   "outputs": [
    {
     "data": {
      "text/plain": [
       "non-critical    2591\n",
       "critical        1038\n",
       "Name: class, dtype: int64"
      ]
     },
     "execution_count": 20,
     "metadata": {},
     "output_type": "execute_result"
    }
   ],
   "source": [
    "bugs['class'].value_counts()"
   ]
  },
  {
   "cell_type": "code",
   "execution_count": 9,
   "metadata": {},
   "outputs": [],
   "source": [
    "high_sim = clustered_df[clustered_df['cluster_dbscan_silhouette_mean']>0.5]\n",
    "high_sim = pd.merge(high_sim, bugs[['id', 'class']], how='left', left_on='id', right_on='id')\n",
    "to_be_clustered = high_sim[(high_sim['class'].isnull())]\n",
    "bugs.to_csv('../datasets/lexical_semantic_preprocessed_mantis_bugs_less_columns_with_class_expansion.csv', index = False)"
   ]
  },
  {
   "cell_type": "code",
   "execution_count": 2,
   "metadata": {},
   "outputs": [],
   "source": [
    "bugs = pd.read_csv('../datasets/lexical_semantic_preprocessed_mantis_bugs_less_columns_with_class_expansion.csv')\n",
    "SO_vectors = pd.read_csv('../datasets/mantis_bugs_vector.csv')"
   ]
  },
  {
   "cell_type": "code",
   "execution_count": 7,
   "metadata": {},
   "outputs": [],
   "source": [
    "result = pd.merge(SO_vectors, bugs[['id', 'class']], how='left', left_on='id', right_on='id')"
   ]
  },
  {
   "cell_type": "code",
   "execution_count": 28,
   "metadata": {},
   "outputs": [
    {
     "data": {
      "text/plain": [
       "non-critical    2591\n",
       "critical        1038\n",
       "Name: class, dtype: int64"
      ]
     },
     "execution_count": 28,
     "metadata": {},
     "output_type": "execute_result"
    }
   ],
   "source": [
    "bugs['class'].value_counts()"
   ]
  },
  {
   "cell_type": "code",
   "execution_count": 2,
   "metadata": {},
   "outputs": [],
   "source": [
    "a = pd.DataFrame(data=[{'Phase': 'Severity Based Expansion', 'Critical':296, 'Non-Critical':824, 'Total-Labelled': 1120}, \n",
    "                  {'Phase': 'Constraints Based Expansion', 'Critical':539, 'Non-Critical':1652, 'Total-Labelled': 2191 }, \n",
    "                  {'Phase': 'Density Based Expansion', 'Critical':203, 'Non-Critical':115, 'Total-Labelled': 318 }])"
   ]
  },
  {
   "cell_type": "code",
   "execution_count": 3,
   "metadata": {},
   "outputs": [
    {
     "data": {
      "image/png": "[encoded data removed]",
      "text/plain": [
       "<Figure size 648x432 with 1 Axes>"
      ]
     },
     "metadata": {
      "needs_background": "light"
     },
     "output_type": "display_data"
    }
   ],
   "source": [
    "a.plot(kind='bar', x='Phase', rot=False, figsize=(9, 6))\n",
    "plt.savefig('class_expansion_bar.pdf', dpi=720)"
   ]
  },
  {
   "cell_type": "code",
   "execution_count": null,
   "metadata": {},
   "outputs": [],
   "source": []
  }
 ],
 "metadata": {
  "kernelspec": {
   "display_name": "Python 3",
   "language": "python",
   "name": "python3"
  },
  "language_info": {
   "codemirror_mode": {
    "name": "ipython",
    "version": 3
   },
   "file_extension": ".py",
   "mimetype": "text/x-python",
   "name": "python",
   "nbconvert_exporter": "python",
   "pygments_lexer": "ipython3",
   "version": "3.6.9"
  }
 },
 "nbformat": 4,
 "nbformat_minor": 2
}
