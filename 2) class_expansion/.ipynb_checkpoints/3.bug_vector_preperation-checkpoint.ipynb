{
 "cells": [
  {
   "cell_type": "markdown",
   "metadata": {},
   "source": [
    "\\# Developer: Ali Hashaam (ali.hashaam@initos.com) <br>\n",
    "\\# 18th December 2018"
   ]
  },
  {
   "cell_type": "code",
   "execution_count": 1,
   "metadata": {},
   "outputs": [],
   "source": [
    "import pandas as pd"
   ]
  },
  {
   "cell_type": "code",
   "execution_count": 3,
   "metadata": {},
   "outputs": [],
   "source": [
    "bugs = pd.read_csv('../datasets/lexical_semantic_preprocessed_mantis_bugs_less_columns_with_class.csv')\n",
    "bug_notes = pd.read_csv('../datasets/lexical_semantic_preprocessed_mantis_bugnotes.csv', index_col='bug_id')"
   ]
  },
  {
   "cell_type": "code",
   "execution_count": 5,
   "metadata": {
    "scrolled": true
   },
   "outputs": [],
   "source": [
    "bugs_list = []\n",
    "no_bug_notes = []\n",
    "for index, row in bugs.iterrows():\n",
    "    pos = e_pos = neg = e_neg = neutral = 0\n",
    "    bug_features = {'id': row['id'], 'pos': 0, 'neg': 0, 'neu': 0, 'priority': row['priority'], \n",
    "                    'severity': row['severity'], 'pm_ticket': row['pm_ticket']}\n",
    "    for col in ['additional_information_vader_polarity', 'summary_vader_polarity', 'description_vader_polarity']:\n",
    "        bug_features[row[col]] += row[col+'_weight']\n",
    "    try:\n",
    "        bug_notes_for_id = bug_notes.loc[row['id'], ['bug_note_vader_polarity', 'bug_note_vader_polarity_weight']]\n",
    "        if isinstance(bug_notes_for_id, pd.core.frame.DataFrame):\n",
    "            for index, row in bug_notes_for_id.iterrows():\n",
    "                bug_features[row['bug_note_vader_polarity']] += row['bug_note_vader_polarity_weight']\n",
    "        else:\n",
    "            bug_features[bug_notes_for_id['bug_note_vader_polarity']] += bug_notes_for_id['bug_note_vader_polarity_weight']\n",
    "    except Exception as e:\n",
    "        no_bug_notes.append(row['id'])\n",
    "    bugs_list.append(bug_features)"
   ]
  },
  {
   "cell_type": "code",
   "execution_count": 6,
   "metadata": {
    "scrolled": true
   },
   "outputs": [],
   "source": [
    "vector_df = pd.DataFrame(bugs_list)\n",
    "vector_df['total_sentiments'] = vector_df['pos'].abs() + vector_df['neg'].abs() + vector_df['neu'].abs()\n",
    "for col in ['pos', 'neg', 'neu']:\n",
    "    vector_df[col+'_normalized'] = vector_df[col].abs() / vector_df['total_sentiments']\n",
    "    vector_df.to_csv('../datasets/mantis_bugs_vector.csv', encoding='utf-8', index=False)"
   ]
  },
  {
   "cell_type": "code",
   "execution_count": 7,
   "metadata": {},
   "outputs": [],
   "source": [
    "result = pd.merge(bugs, df_bug_note_table, how='left', left_on='id', right_on='bug_id')"
   ]
  },
  {
   "cell_type": "code",
   "execution_count": null,
   "metadata": {},
   "outputs": [],
   "source": []
  }
 ],
 "metadata": {
  "kernelspec": {
   "display_name": "Python 3",
   "language": "python",
   "name": "python3"
  },
  "language_info": {
   "codemirror_mode": {
    "name": "ipython",
    "version": 3
   },
   "file_extension": ".py",
   "mimetype": "text/x-python",
   "name": "python",
   "nbconvert_exporter": "python",
   "pygments_lexer": "ipython3",
   "version": "3.6.9"
  }
 },
 "nbformat": 4,
 "nbformat_minor": 2
}
