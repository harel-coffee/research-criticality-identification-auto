{
 "cells": [
  {
   "cell_type": "markdown",
   "metadata": {},
   "source": [
    "\\# Developer: Ali Hashaam (ali.hashaam@initos.com) <br>\n",
    "\\# 2nd February 2019 <br>\n",
    "\n",
    "\\# © 2019 initOS GmbH <br>\n",
    "\\# License MIT <br>\n",
    "\n",
    "\\# Library for TSVM and SelfLearning taken from https://github.com/tmadl/semisup-learn <br>\n",
    "\\# Library for lagrangean-S3VM taken from https://github.com/fbagattini/lagrangean-s3vm <br>"
   ]
  },
  {
   "cell_type": "code",
   "execution_count": 1,
   "metadata": {},
   "outputs": [],
   "source": [
    "import re, random, scipy\n",
    "import pandas as pd\n",
    "import numpy as np\n",
    "from sklearn.svm import SVC\n",
    "from sklearn.feature_extraction.text import TfidfVectorizer\n",
    "from sklearn.model_selection import StratifiedShuffleSplit\n",
    "from methods.qns3vm import QN_S3VM\n",
    "from sklearn.metrics import classification_report\n",
    "from lagrangian_s3vm import *\n",
    "from utils import *\n",
    "from sklearn.externals import joblib\n",
    "from collections import Counter\n",
    "import time\n",
    "import matplotlib.pyplot as plt\n",
    "%matplotlib inline\n",
    "from __future__ import division"
   ]
  },
  {
   "cell_type": "code",
   "execution_count": 13,
   "metadata": {},
   "outputs": [],
   "source": [
    "regex_square_brackets = re.compile(r'(\\[)|(\\])')\n",
    "bugs = pd.read_csv('../datasets/lexical_semantic_preprocessed_mantis_bugs_less_columns_with_class_expansion.csv')\n",
    "bug_notes = pd.read_csv('../datasets/lexical_semantic_preprocessed_mantis_bugnotes.csv')\n",
    "\n",
    "bug_notes['bug_note'] = bug_notes['bug_note'].str.replace(regex_square_brackets, '')\n",
    "bugs['additional_information'] = bugs['additional_information'].str.replace(regex_square_brackets, '')\n",
    "bugs['description'] = bugs['description'].str.replace(regex_square_brackets, '')\n",
    "bugs['summary'] = bugs['summary'].str.replace(regex_square_brackets, '')\n",
    "df_bug_note_table = bug_notes.groupby(['bug_id'])['bug_note'].apply(','.join).to_frame('bug_notes').reset_index()\n",
    "\n",
    "result = pd.merge(bugs, df_bug_note_table, how='left', left_on='id', right_on='bug_id')\n",
    "result['textual_data'] = result['summary'].fillna('') + ',' + result['description'].fillna('') + ',' + result['additional_information'].fillna('') + ',' + result['bug_notes'].fillna('')\n",
    "result['textual_data'] = result['textual_data'].str.replace(\" \", \"\")\n",
    "result.sort_values(by=['class'], inplace=True)\n",
    "result.reset_index(drop=True, inplace= True)"
   ]
  },
  {
   "cell_type": "code",
   "execution_count": 14,
   "metadata": {},
   "outputs": [
    {
     "name": "stdout",
     "output_type": "stream",
     "text": [
      " 1    2591\n",
      "-1    1104\n",
      "Name: class, dtype: int64\n"
     ]
    }
   ],
   "source": [
    "result.loc[result['class']=='critical', 'class'] = -1\n",
    "result.loc[result['class']=='non-critical', 'class'] = 1\n",
    "unlabelled_index = result[(result['class'].isnull())].index\n",
    "labelled_index = result[~(result['class'].isnull())].index\n",
    "print result['class'].value_counts()"
   ]
  },
  {
   "cell_type": "code",
   "execution_count": 15,
   "metadata": {},
   "outputs": [],
   "source": [
    "def lagrangian_s3vm(df, classifier_name):\n",
    "    for no_of_features in [100, 500, 1000]:\n",
    "        print(\"\"\"####################### Running for Number of features {} ############################\"\"\".format(no_of_features))\n",
    "        tfidf_vectorizer = TfidfVectorizer(max_df=0.95, min_df=2, max_features=no_of_features, stop_words='english')\n",
    "        X = tfidf_vectorizer.fit_transform(df['textual_data'])\n",
    "        Y = np.array(df['class'])\n",
    "        #print(\"members for classes {}\".format(\",\".join(\"(%s,%s)\" % tup for tup in sorted(Counter(Y).items()))))\n",
    "        X_U = X[unlabelled_index]\n",
    "        X_l = X[labelled_index]\n",
    "        Y_l = Y[labelled_index]\n",
    "        stratified_shuffle_split = StratifiedShuffleSplit(n_splits=1, test_size=0.6, random_state=0)\n",
    "        scores = []\n",
    "        iteration = 1\n",
    "        for train_index, test_index in stratified_shuffle_split.split(X_l, Y_l):\n",
    "            X_train = X_l[train_index].copy()\n",
    "            Y_train = Y_l[train_index].copy()\n",
    "            X_test = X_l[test_index].copy()\n",
    "            Y_test = Y_l[test_index].copy()\n",
    "            svc = get_best_estimator_by_cv(X_train.toarray(), Y_train.astype(float), 5)\n",
    "            classifier = lagrangian_s3vm_train(X_train.toarray(),\n",
    "                                                  Y_train.astype(float),\n",
    "                                                  X_U.toarray(),\n",
    "                                                  svc,\n",
    "                                                  r=0.5)\n",
    "            joblib.dump(classifier, 'models/{}_{}_{}.pkl'.format(classifier_name, no_of_features, iteration))\n",
    "            joblib.dump(X_test, 'models/X_test_{}_{}_{}.pkl'.format(classifier_name, no_of_features, iteration))\n",
    "            joblib.dump(Y_test, 'models/Y_test_{}_{}_{}.pkl'.format(classifier_name, no_of_features, iteration))\n",
    "            score = classifier.score(X_test.toarray(), Y_test.astype(float))\n",
    "            scores.append(score)\n",
    "            iteration += 1\n",
    "        print \"{} average score: {}\".format(classifier_name, np.mean(scores))"
   ]
  },
  {
   "cell_type": "code",
   "execution_count": 17,
   "metadata": {},
   "outputs": [
    {
     "name": "stdout",
     "output_type": "stream",
     "text": [
      "####################### Running for Number of features 100 ############################\n",
      "Lagrangian S3VM average score: 0.801533603969\n",
      "####################### Running for Number of features 500 ############################\n",
      "Lagrangian S3VM average score: 0.823635543527\n",
      "####################### Running for Number of features 1000 ############################\n",
      "Lagrangian S3VM average score: 0.822282363554\n",
      "--- 150.562000036 seconds ---\n"
     ]
    }
   ],
   "source": [
    "start_time = time.time()\n",
    "lagrangian_s3vm(result, 'Lagrangian S3VM')\n",
    "print(\"--- %s seconds ---\" % (time.time() - start_time))"
   ]
  },
  {
   "cell_type": "code",
   "execution_count": 18,
   "metadata": {},
   "outputs": [],
   "source": [
    "# took --- 170.966814041 seconds --- to execute"
   ]
  },
  {
   "cell_type": "code",
   "execution_count": 8,
   "metadata": {},
   "outputs": [],
   "source": [
    "def get_results(classifier):\n",
    "    dict_features = {}\n",
    "    dict_acc = {}\n",
    "    for features in [500]:\n",
    "        model = joblib.load('models/{}_{}_{}.pkl'.format(classifier, features, 1))\n",
    "        x_tst = joblib.load('models/X_test_{}_{}_{}.pkl'.format(classifier, features, 1))\n",
    "        y_tst = joblib.load('models/Y_test_{}_{}_{}.pkl'.format(classifier, features, 1))\n",
    "        acc = model.score(x_tst.toarray(), y_tst.astype(int))\n",
    "        y_pred = model.predict(x_tst.toarray())\n",
    "        result = classification_report(y_tst.astype(int), y_pred.astype(int), output_dict=True)\n",
    "        dict_features[str(features)] = pd.DataFrame(result)\n",
    "        dict_features[str(features)].transpose().to_csv('{}_{}_latex_table_report.csv'.format(classifier, features))\n",
    "        dict_acc[str(features)] = acc\n",
    "    print dict_features['500']\n",
    "    arrays = [[\"Precision\", \"Precision\", \"Precision\", \"Recall\", \"Recall\", \"Recall\", \"F1-score\", \"F1-score\", \n",
    "               \"F1-score\"], ['Critical', 'Non-Critical', 'Weighted Avg.', 'Critical', 'Non-Critical', \n",
    "                                       'Weighted Avg.', 'Critical', 'Non-Critical', 'Weighted Avg.']]\n",
    "    MI = pd.MultiIndex.from_arrays(arrays, names=('Measures', 'Classes'))\n",
    "    vals = [[round(dict_features[str(features)].loc['precision', '-1'], 2)],\n",
    "             [round(dict_features[str(features)].loc['precision', '1'], 2)],\n",
    "             [round(dict_features[str(features)].loc['precision', 'weighted avg'], 2)],\n",
    "             [round(dict_features[str(features)].loc['recall', '-1'], 2)],\n",
    "             [round(dict_features[str(features)].loc['recall', '1'], 2)],\n",
    "             [round(dict_features[str(features)].loc['recall', 'weighted avg'], 2)],\n",
    "             [round(dict_features[str(features)].loc['f1-score', '-1'], 2)],\n",
    "             [round(dict_features[str(features)].loc['f1-score', '1'], 2)],\n",
    "             [round(dict_features[str(features)].loc['f1-score', 'weighted avg'], 2)]]\n",
    "             #[round(dict_acc[str(features)],2)]]\n",
    "    df = pd.DataFrame(vals, index=MI, columns=['vals'])  \n",
    "    df = df.unstack().transpose().reset_index(level=0, drop=True)\n",
    "    ax = df.plot(kind='bar', figsize=(8,6), rot=False)\n",
    "    patches, labels = ax.get_legend_handles_labels()\n",
    "    ax.legend(patches, labels, loc='upper left')\n",
    "    #vals = [[round(dict_features['500'].loc['precision', 'weighted avg'], 2), \n",
    "    #         round(dict_features['500'].loc['recall', 'weighted avg'], 2),\n",
    "    #         round(dict_features['500'].loc['f1-score', 'weighted avg'], 2),\n",
    "    #         round(dict_acc['500'],2)]]\n",
    "    #columns=[\"Precision\", \"Recall\", \"F1-score\", \"Accuracy\"]\n",
    "    #df = pd.DataFrame(vals, columns=columns)  \n",
    "    #df = df.transpose()\n",
    "    #ax = df.plot(kind='bar', figsize=(8,6), rot=False, legend=False)\n",
    "    plt.xlabel('Evaluation Measure {}'.format(classifier), fontsize=12)\n",
    "    plt.savefig('{}_results.pdf'.format(classifier), dpi=720)\n",
    "    \n",
    "    return df"
   ]
  },
  {
   "cell_type": "code",
   "execution_count": 9,
   "metadata": {},
   "outputs": [
    {
     "name": "stdout",
     "output_type": "stream",
     "text": [
      "                   -1            1    macro avg    micro avg  weighted avg\n",
      "f1-score     0.650581     0.882051     0.766316     0.823636      0.812934\n",
      "precision    0.796499     0.830682     0.813590     0.823636      0.820475\n",
      "recall       0.549849     0.940193     0.745021     0.823636      0.823636\n",
      "support    662.000000  1555.000000  2217.000000  2217.000000   2217.000000\n"
     ]
    },
    {
     "data": {
      "image/png": "[encoded data removed]",
      "text/plain": [
       "<Figure size 576x432 with 1 Axes>"
      ]
     },
     "metadata": {
      "needs_background": "light"
     },
     "output_type": "display_data"
    }
   ],
   "source": [
    "df = get_results('Lagrangian S3VM')"
   ]
  },
  {
   "cell_type": "code",
   "execution_count": 1,
   "metadata": {},
   "outputs": [],
   "source": []
  },
  {
   "cell_type": "code",
   "execution_count": null,
   "metadata": {},
   "outputs": [],
   "source": []
  }
 ],
 "metadata": {
  "kernelspec": {
   "display_name": "Python 3",
   "language": "python",
   "name": "python3"
  },
  "language_info": {
   "codemirror_mode": {
    "name": "ipython",
    "version": 3
   },
   "file_extension": ".py",
   "mimetype": "text/x-python",
   "name": "python",
   "nbconvert_exporter": "python",
   "pygments_lexer": "ipython3",
   "version": "3.6.9"
  }
 },
 "nbformat": 4,
 "nbformat_minor": 2
}
