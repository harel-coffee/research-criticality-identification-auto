{
 "cells": [
  {
   "cell_type": "markdown",
   "metadata": {},
   "source": [
    "\\# Developer: Ali Hashaam (ali.hashaam@initos.com) <br>\n",
    "\\# 27th January 2019 <br>\n",
    "\n",
    "\\# © 2019 initOS GmbH <br>\n",
    "\\# License MIT <br>"
   ]
  },
  {
   "cell_type": "code",
   "execution_count": 2,
   "metadata": {},
   "outputs": [
    {
     "name": "stderr",
     "output_type": "stream",
     "text": [
      "/home/ali/.local/lib/python3.6/site-packages/sklearn/externals/joblib/__init__.py:15: DeprecationWarning: sklearn.externals.joblib is deprecated in 0.21 and will be removed in 0.23. Please import this functionality directly from joblib, which can be installed with: pip install joblib. If this warning is raised when loading pickled models, you may need to re-serialize those models with scikit-learn 0.21+.\n",
      "  warnings.warn(msg, category=DeprecationWarning)\n"
     ]
    }
   ],
   "source": [
    "from __future__ import division\n",
    "from sklearn.semi_supervised import LabelPropagation, LabelSpreading\n",
    "import pandas as pd\n",
    "import numpy as np\n",
    "import re, random\n",
    "from sklearn.model_selection import StratifiedShuffleSplit\n",
    "from sklearn.feature_extraction.text import TfidfVectorizer\n",
    "from collections import Counter\n",
    "from sklearn.externals import joblib\n",
    "from sklearn.metrics import classification_report\n",
    "from sklearn.metrics import classification_report\n",
    "import matplotlib.pyplot as plt\n",
    "%matplotlib inline\n",
    "import time\n",
    "from sklearn.metrics import accuracy_score"
   ]
  },
  {
   "cell_type": "code",
   "execution_count": 3,
   "metadata": {},
   "outputs": [],
   "source": [
    "regex_square_brackets = re.compile(r'(\\[)|(\\])')"
   ]
  },
  {
   "cell_type": "code",
   "execution_count": 33,
   "metadata": {},
   "outputs": [],
   "source": [
    "bugs = pd.read_csv('../datasets/lexical_semantic_preprocessed_mantis_bugs_less_columns_with_class_expansion.csv')\n",
    "bug_notes = pd.read_csv('../datasets/lexical_semantic_preprocessed_mantis_bugnotes.csv')"
   ]
  },
  {
   "cell_type": "code",
   "execution_count": 34,
   "metadata": {},
   "outputs": [],
   "source": [
    "bug_notes['bug_note'] = bug_notes['bug_note'].str.replace(regex_square_brackets, '')\n",
    "bugs['additional_information'] = bugs['additional_information'].str.replace(regex_square_brackets, '')\n",
    "bugs['description'] = bugs['description'].str.replace(regex_square_brackets, '')\n",
    "bugs['summary'] = bugs['summary'].str.replace(regex_square_brackets, '')\n",
    "df_bug_note_table = bug_notes.groupby(['bug_id'])['bug_note'].apply(','.join).to_frame('bug_notes').reset_index()\n",
    "result = pd.merge(bugs, df_bug_note_table, how='left', left_on='id', right_on='bug_id')\n",
    "result['textual_data'] = result['summary'].fillna('') + ',' + result['description'].fillna('') + ',' + result['additional_information'].fillna('') + ',' + result['bug_notes'].fillna('')"
   ]
  },
  {
   "cell_type": "code",
   "execution_count": 35,
   "metadata": {},
   "outputs": [],
   "source": [
    "result['textual_data'] = result['textual_data'].str.replace(\" \", \"\")\n",
    "result.sort_values(by=['class'], inplace=True)\n",
    "result.reset_index(drop=True, inplace= True)"
   ]
  },
  {
   "cell_type": "code",
   "execution_count": 36,
   "metadata": {},
   "outputs": [
    {
     "name": "stdout",
     "output_type": "stream",
     "text": [
      "1    2591\n",
      "0    1104\n",
      "Name: class, dtype: int64\n"
     ]
    }
   ],
   "source": [
    "result.loc[result['class']=='critical', 'class'] = 0\n",
    "result.loc[result['class']=='non-critical', 'class'] = 1\n",
    "unlabelled_index = result[(result['class'].isnull())].index\n",
    "labelled_index = result[~(result['class'].isnull())].index\n",
    "print result['class'].value_counts()"
   ]
  },
  {
   "cell_type": "markdown",
   "metadata": {},
   "source": [
    "# Label Spreading and Propogation"
   ]
  },
  {
   "cell_type": "code",
   "execution_count": 37,
   "metadata": {},
   "outputs": [],
   "source": [
    "def text_based_classification(df, classifier, classifier_name, label_type):\n",
    "    for no_of_features in [100, 500, 1000]:\n",
    "        print(\"\"\"####################### Running for Number of features {} ############################\"\"\".format(no_of_features))\n",
    "        tfidf_vectorizer = TfidfVectorizer(max_df=0.95, min_df=2, max_features=no_of_features, stop_words='english')\n",
    "        X = tfidf_vectorizer.fit_transform(df['textual_data']).toarray()\n",
    "        Y = np.array(df['class'])\n",
    "        #print(\"members for classes {}\".format(\",\".join(\"(%s,%s)\" % tup for tup in sorted(Counter(Y).items()))))\n",
    "        X_U = X[unlabelled_index]\n",
    "        X_l = X[labelled_index]\n",
    "        Y_l = Y[labelled_index]\n",
    "        stratified_shuffle_split = StratifiedShuffleSplit(n_splits=1, test_size=0.6, random_state=0)\n",
    "        scores = []\n",
    "        iteration = 1\n",
    "        for train_index, test_index in stratified_shuffle_split.split(X_l, Y_l):\n",
    "            #X_train = X_l[train_index].copy()\n",
    "            #Y_train = Y_l[train_index].copy()\n",
    "            X_test = X_l[test_index].copy()\n",
    "            Y_test = Y_l[test_index].copy()\n",
    "            X_l_u = np.vstack((X_l, X_U))\n",
    "            Y_U = np.full((X_U.shape[0], ), -1)\n",
    "            if label_type == 'int':\n",
    "                Y_l_u = np.concatenate((Y_l, Y_U))\n",
    "            else:\n",
    "                Y_l_u = np.concatenate((Y_l, Y_U)).astype(float)\n",
    "            classifier.fit(X_l_u, Y_l_u)\n",
    "            joblib.dump(classifier, 'models/{}_{}_{}.pkl'.format(classifier_name, no_of_features, iteration))\n",
    "            joblib.dump(X_l, 'models/X_test_{}_{}_{}.pkl'.format(classifier_name, no_of_features, iteration))\n",
    "            joblib.dump(Y_l, 'models/Y_test_{}_{}_{}.pkl'.format(classifier_name, no_of_features, iteration))\n",
    "            #score = classifier.score(X_test, Y_test.astype(float))\n",
    "            #scores.append(score)\n",
    "            iteration += 1\n",
    "        #print \"{} average score: {}\".format(classifier_name, np.mean(scores))\n",
    "    return classifier"
   ]
  },
  {
   "cell_type": "code",
   "execution_count": 24,
   "metadata": {},
   "outputs": [
    {
     "name": "stdout",
     "output_type": "stream",
     "text": [
      "####################### Running for Number of features 100 ############################\n",
      "####################### Running for Number of features 500 ############################\n",
      "####################### Running for Number of features 1000 ############################\n",
      "--- 873.825999975 seconds ---\n"
     ]
    }
   ],
   "source": [
    "start_time = time.time()\n",
    "ls = text_based_classification(result, LabelPropagation(n_jobs=-1), 'LabelPropogation', 'float')\n",
    "print(\"--- %s seconds ---\" % (time.time() - start_time))"
   ]
  },
  {
   "cell_type": "code",
   "execution_count": 13,
   "metadata": {},
   "outputs": [],
   "source": [
    "#it took 347 seconds to execute label propogatoion\n",
    "#it took 25.9317 seconds to execute label spreading"
   ]
  },
  {
   "cell_type": "code",
   "execution_count": 25,
   "metadata": {},
   "outputs": [],
   "source": [
    "model = joblib.load('models/{}_{}_{}.pkl'.format(\"LabelPropogation\", 500, 3))\n",
    "x = joblib.load('models/X_test_{}_{}_{}.pkl'.format(\"LabelPropogation\", 500, 3))\n",
    "y = joblib.load('models/Y_test_{}_{}_{}.pkl'.format(\"LabelPropogation\", 500, 3))"
   ]
  },
  {
   "cell_type": "code",
   "execution_count": 29,
   "metadata": {},
   "outputs": [
    {
     "name": "stdout",
     "output_type": "stream",
     "text": [
      "members for classes (0,662),(1,1555)\n"
     ]
    }
   ],
   "source": [
    "accuracy_score(y_tst.astype(data_type), model.transduction_[:2217].astype(data_type))"
   ]
  },
  {
   "cell_type": "code",
   "execution_count": 30,
   "metadata": {},
   "outputs": [],
   "source": [
    "result = classification_report(y.astype(float), model.transduction_[:2217].astype(float), output_dict=True)"
   ]
  },
  {
   "cell_type": "code",
   "execution_count": 38,
   "metadata": {},
   "outputs": [
    {
     "name": "stdout",
     "output_type": "stream",
     "text": [
      "####################### Running for Number of features 100 ############################\n",
      "####################### Running for Number of features 500 ############################\n",
      "####################### Running for Number of features 1000 ############################\n",
      "--- 169.430999994 seconds ---\n"
     ]
    }
   ],
   "source": [
    "start_time = time.time()\n",
    "label_spreading = text_based_classification(result, LabelSpreading(n_jobs=-1), 'LabelSpreading', 'float')\n",
    "print(\"--- %s seconds ---\" % (time.time() - start_time))"
   ]
  },
  {
   "cell_type": "code",
   "execution_count": 72,
   "metadata": {},
   "outputs": [],
   "source": [
    "def get_results(classifier, data_type):\n",
    "    dict_features = {}\n",
    "    dict_acc = {}\n",
    "    for features in [500]:\n",
    "        model = joblib.load('models/{}_{}_{}.pkl'.format(classifier, features, 3))\n",
    "        x_tst = joblib.load('models/X_test_{}_{}_{}.pkl'.format(classifier, features, 3))\n",
    "        y_tst = joblib.load('models/Y_test_{}_{}_{}.pkl'.format(classifier, features, 3))\n",
    "        acc = accuracy_score(y_tst.astype(data_type), model.transduction_[:2217].astype(data_type))\n",
    "        result = classification_report(y_tst.astype(data_type), model.transduction_[:2217].astype(data_type), output_dict=True)\n",
    "        dict_features[str(features)] = pd.DataFrame(result)\n",
    "        dict_features[str(features)].transpose().to_csv('{}_{}_latex_table_report.csv'.format(classifier, features))\n",
    "        dict_acc[str(features)] = acc\n",
    "    print(dict_features[str(500)])\n",
    "    arrays = [[\"Precision\", \"Precision\", \"Precision\", \"Recall\", \"Recall\", \"Recall\", \"F1-score\", \"F1-score\", \n",
    "               \"F1-score\"], ['Critical', 'Non-Critical', 'Weighted Avg.', 'Critical', 'Non-Critical', \n",
    "                                       'Weighted Avg.', 'Critical', 'Non-Critical', 'Weighted Avg.']]\n",
    "    MI = pd.MultiIndex.from_arrays(arrays, names=('Measures', 'Classes'))\n",
    "    vals = [[round(dict_features[str(features)].loc['precision', '0.0'], 2)],\n",
    "             [round(dict_features[str(features)].loc['precision', '1.0'], 2)],\n",
    "             [round(dict_features[str(features)].loc['precision', 'weighted avg'], 2)],\n",
    "             [round(dict_features[str(features)].loc['recall', '0.0'], 2)],\n",
    "             [round(dict_features[str(features)].loc['recall', '1.0'], 2)],\n",
    "             [round(dict_features[str(features)].loc['recall', 'weighted avg'], 2)],\n",
    "             [round(dict_features[str(features)].loc['f1-score', '0.0'], 2)],\n",
    "             [round(dict_features[str(features)].loc['f1-score', '1.0'], 2)],\n",
    "             [round(dict_features[str(features)].loc['f1-score', 'weighted avg'], 2)]]\n",
    "             #[round(dict_acc[str(features)],2)]]\n",
    "    df = pd.DataFrame(vals, index=MI, columns=['vals'])  \n",
    "    df = df.unstack().transpose().reset_index(level=0, drop=True)\n",
    "    ax = df.plot(kind='bar', figsize=(8,6), rot=False)\n",
    "    \n",
    "    patches, labels = ax.get_legend_handles_labels()\n",
    "    ax.legend(patches, labels, loc='upper left')\n",
    "    plt.xlabel('Evaluation Measure {}'.format(classifier), fontsize=12)\n",
    "    plt.savefig('{}_results.pdf'.format(classifier), dpi=720)\n",
    "    return df"
   ]
  },
  {
   "cell_type": "code",
   "execution_count": 82,
   "metadata": {},
   "outputs": [
    {
     "name": "stderr",
     "output_type": "stream",
     "text": [
      "/home/ali/.local/lib/python3.6/site-packages/sklearn/base.py:306: UserWarning: Trying to unpickle estimator LabelPropagation from version 0.20.3 when using version 0.21.3. This might lead to breaking code or invalid results. Use at your own risk.\n",
      "  UserWarning)\n"
     ]
    },
    {
     "name": "stdout",
     "output_type": "stream",
     "text": [
      "                  0.0          1.0  accuracy    macro avg  weighted avg\n",
      "precision    0.310142     0.708546  0.556157     0.509344      0.589582\n",
      "recall       0.397281     0.623794  0.556157     0.510538      0.556157\n",
      "f1-score     0.348344     0.663475  0.556157     0.505910      0.569376\n",
      "support    662.000000  1555.000000  0.556157  2217.000000   2217.000000\n"
     ]
    },
    {
     "data": {
      "image/png": "[encoded data removed]",
      "text/plain": [
       "<Figure size 576x432 with 1 Axes>"
      ]
     },
     "metadata": {
      "needs_background": "light"
     },
     "output_type": "display_data"
    }
   ],
   "source": [
    "label_propogate_report = get_results('LabelPropogation', float)"
   ]
  },
  {
   "cell_type": "code",
   "execution_count": 83,
   "metadata": {},
   "outputs": [
    {
     "name": "stderr",
     "output_type": "stream",
     "text": [
      "/home/ali/.local/lib/python3.6/site-packages/sklearn/base.py:306: UserWarning: Trying to unpickle estimator LabelSpreading from version 0.20.3 when using version 0.21.3. This might lead to breaking code or invalid results. Use at your own risk.\n",
      "  UserWarning)\n"
     ]
    },
    {
     "name": "stdout",
     "output_type": "stream",
     "text": [
      "                  0.0          1.0  accuracy    macro avg  weighted avg\n",
      "precision    0.300787     0.702276   0.58728     0.501532      0.582391\n",
      "recall       0.288520     0.714469   0.58728     0.501495      0.587280\n",
      "f1-score     0.294526     0.708320   0.58728     0.501423      0.584760\n",
      "support    662.000000  1555.000000   0.58728  2217.000000   2217.000000\n"
     ]
    },
    {
     "data": {
      "image/png": "[encoded data removed]",
      "text/plain": [
       "<Figure size 576x432 with 1 Axes>"
      ]
     },
     "metadata": {
      "needs_background": "light"
     },
     "output_type": "display_data"
    }
   ],
   "source": [
    "label_spread_report = get_results('LabelSpreading', float)"
   ]
  },
  {
   "cell_type": "code",
   "execution_count": 84,
   "metadata": {},
   "outputs": [],
   "source": [
    "label_propogate_report = label_propogate_report.rename({'vals': 'Label Propogation'}, axis=1)\n",
    "label_spread_report = label_spread_report.rename({0: 'Label Spreading'}, axis=1)"
   ]
  },
  {
   "cell_type": "code",
   "execution_count": 85,
   "metadata": {},
   "outputs": [],
   "source": [
    "label_result = pd.concat([label_propogate_report, label_spread_report], axis=1)"
   ]
  },
  {
   "cell_type": "code",
   "execution_count": 86,
   "metadata": {},
   "outputs": [
    {
     "data": {
      "text/html": [
       "<div>\n",
       "<style scoped>\n",
       "    .dataframe tbody tr th:only-of-type {\n",
       "        vertical-align: middle;\n",
       "    }\n",
       "\n",
       "    .dataframe tbody tr th {\n",
       "        vertical-align: top;\n",
       "    }\n",
       "\n",
       "    .dataframe thead th {\n",
       "        text-align: right;\n",
       "    }\n",
       "</style>\n",
       "<table border=\"1\" class=\"dataframe\">\n",
       "  <thead>\n",
       "    <tr style=\"text-align: right;\">\n",
       "      <th>Measures</th>\n",
       "      <th>F1-score</th>\n",
       "      <th>Precision</th>\n",
       "      <th>Recall</th>\n",
       "      <th>F1-score</th>\n",
       "      <th>Precision</th>\n",
       "      <th>Recall</th>\n",
       "    </tr>\n",
       "    <tr>\n",
       "      <th>Classes</th>\n",
       "      <th></th>\n",
       "      <th></th>\n",
       "      <th></th>\n",
       "      <th></th>\n",
       "      <th></th>\n",
       "      <th></th>\n",
       "    </tr>\n",
       "  </thead>\n",
       "  <tbody>\n",
       "    <tr>\n",
       "      <td>Critical</td>\n",
       "      <td>0.35</td>\n",
       "      <td>0.31</td>\n",
       "      <td>0.40</td>\n",
       "      <td>0.29</td>\n",
       "      <td>0.30</td>\n",
       "      <td>0.29</td>\n",
       "    </tr>\n",
       "    <tr>\n",
       "      <td>Non-Critical</td>\n",
       "      <td>0.66</td>\n",
       "      <td>0.71</td>\n",
       "      <td>0.62</td>\n",
       "      <td>0.71</td>\n",
       "      <td>0.70</td>\n",
       "      <td>0.71</td>\n",
       "    </tr>\n",
       "    <tr>\n",
       "      <td>Weighted Avg.</td>\n",
       "      <td>0.57</td>\n",
       "      <td>0.59</td>\n",
       "      <td>0.56</td>\n",
       "      <td>0.58</td>\n",
       "      <td>0.58</td>\n",
       "      <td>0.59</td>\n",
       "    </tr>\n",
       "  </tbody>\n",
       "</table>\n",
       "</div>"
      ],
      "text/plain": [
       "Measures       F1-score  Precision  Recall  F1-score  Precision  Recall\n",
       "Classes                                                                \n",
       "Critical           0.35       0.31    0.40      0.29       0.30    0.29\n",
       "Non-Critical       0.66       0.71    0.62      0.71       0.70    0.71\n",
       "Weighted Avg.      0.57       0.59    0.56      0.58       0.58    0.59"
      ]
     },
     "execution_count": 86,
     "metadata": {},
     "output_type": "execute_result"
    }
   ],
   "source": [
    "label_result"
   ]
  },
  {
   "cell_type": "code",
   "execution_count": 62,
   "metadata": {},
   "outputs": [
    {
     "data": {
      "image/png": "[encoded data removed]",
      "text/plain": [
       "<Figure size 576x432 with 1 Axes>"
      ]
     },
     "metadata": {
      "needs_background": "light"
     },
     "output_type": "display_data"
    }
   ],
   "source": [
    "ax = label_result.plot(kind='bar', figsize=(8,6), rot=False)\n",
    "plt.xlabel('Features', fontsize=12)\n",
    "plt.savefig('{}_results.pdf'.format('Label_Propogate_Spread'), dpi=720)"
   ]
  },
  {
   "cell_type": "code",
   "execution_count": 5,
   "metadata": {},
   "outputs": [],
   "source": [
    "def get_acc(classifier, data_type):\n",
    "    dict_features = {}\n",
    "    dict_acc = {}\n",
    "    for features in [100, 500, 1000]:\n",
    "        model = joblib.load('models/{}_{}_{}.pkl'.format(classifier, features, 3))\n",
    "        x_tst = joblib.load('models/X_test_{}_{}_{}.pkl'.format(classifier, features, 3))\n",
    "        y_tst = joblib.load('models/Y_test_{}_{}_{}.pkl'.format(classifier, features, 3))\n",
    "        acc = accuracy_score(y_tst.astype(data_type), model.transduction_[:2217].astype(data_type))\n",
    "        print features, acc"
   ]
  },
  {
   "cell_type": "code",
   "execution_count": 6,
   "metadata": {},
   "outputs": [
    {
     "name": "stdout",
     "output_type": "stream",
     "text": [
      "100 0.5904375281912494\n",
      "500 0.5561569688768606\n",
      "1000 0.5354082092918359\n"
     ]
    }
   ],
   "source": [
    "get_acc('LabelPropogation', float)"
   ]
  },
  {
   "cell_type": "code",
   "execution_count": 7,
   "metadata": {},
   "outputs": [
    {
     "name": "stdout",
     "output_type": "stream",
     "text": [
      "100 0.5944970681100586\n",
      "500 0.5872801082543978\n",
      "1000 0.5949481281010375\n"
     ]
    }
   ],
   "source": [
    "get_acc('LabelSpreading', float)"
   ]
  }
 ],
 "metadata": {
  "kernelspec": {
   "display_name": "Python 3",
   "language": "python",
   "name": "python3"
  },
  "language_info": {
   "codemirror_mode": {
    "name": "ipython",
    "version": 3
   },
   "file_extension": ".py",
   "mimetype": "text/x-python",
   "name": "python",
   "nbconvert_exporter": "python",
   "pygments_lexer": "ipython3",
   "version": "3.6.9"
  }
 },
 "nbformat": 4,
 "nbformat_minor": 2
}
