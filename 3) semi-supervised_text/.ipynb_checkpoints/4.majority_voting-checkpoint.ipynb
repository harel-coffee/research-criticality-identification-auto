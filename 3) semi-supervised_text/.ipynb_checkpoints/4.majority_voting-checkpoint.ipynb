{
 "cells": [
  {
   "cell_type": "markdown",
   "metadata": {},
   "source": [
    "\\# Developer: Ali Hashaam (ali.hashaam@initos.com) <br>\n",
    "\\# 10th February 2019 <br>\n",
    "\n",
    "\\# © 2019 initOS GmbH <br>\n",
    "\\# License MIT <br>\n",
    "\n",
    "\n",
    "\\# Library for TSVM and SelfLearning taken from https://github.com/tmadl/semisup-learn <br>\n",
    "\\# Library for lagrangean-S3VM taken from https://github.com/fbagattini/lagrangean-s3vm <br>"
   ]
  },
  {
   "cell_type": "code",
   "execution_count": 1,
   "metadata": {},
   "outputs": [],
   "source": [
    "import re, random, scipy\n",
    "import pandas as pd\n",
    "import numpy as np\n",
    "from sklearn.feature_extraction.text import TfidfVectorizer\n",
    "from mlxtend.classifier import EnsembleVoteClassifier\n",
    "from sklearn.externals import joblib\n",
    "from sklearn.metrics import classification_report\n",
    "from sklearn.model_selection import StratifiedShuffleSplit\n",
    "\n",
    "import matplotlib.pyplot as plt\n",
    "%matplotlib inline\n",
    "from sklearn.metrics import accuracy_score"
   ]
  },
  {
   "cell_type": "code",
   "execution_count": 2,
   "metadata": {},
   "outputs": [],
   "source": [
    "regex_square_brackets = re.compile(r'(\\[)|(\\])')\n",
    "bugs = pd.read_csv('../datasets/lexical_semantic_preprocessed_mantis_bugs_less_columns_with_class_expansion.csv')\n",
    "bug_notes = pd.read_csv('../datasets/lexical_semantic_preprocessed_mantis_bugnotes.csv')\n",
    "\n",
    "bug_notes['bug_note'] = bug_notes['bug_note'].str.replace(regex_square_brackets, '')\n",
    "bugs['additional_information'] = bugs['additional_information'].str.replace(regex_square_brackets, '')\n",
    "bugs['description'] = bugs['description'].str.replace(regex_square_brackets, '')\n",
    "bugs['summary'] = bugs['summary'].str.replace(regex_square_brackets, '')\n",
    "df_bug_note_table = bug_notes.groupby(['bug_id'])['bug_note'].apply(','.join).to_frame('bug_notes').reset_index()\n",
    "result = pd.merge(bugs, df_bug_note_table, how='left', left_on='id', right_on='bug_id')\n",
    "result['textual_data'] = result['summary'].fillna('') + ',' + result['description'].fillna('') + ',' + result['additional_information'].fillna('') + ',' + result['bug_notes'].fillna('')\n",
    "\n",
    "result['textual_data'] = result['textual_data'].str.replace(\" \", \"\")\n",
    "result.sort_values(by=['class'], inplace=True)\n",
    "result.reset_index(drop=True, inplace= True)"
   ]
  },
  {
   "cell_type": "code",
   "execution_count": 3,
   "metadata": {},
   "outputs": [],
   "source": [
    "tfidf_vectorizer = TfidfVectorizer(max_df=0.95, min_df=2, max_features=500, stop_words='english')\n",
    "X_tf = tfidf_vectorizer.fit_transform(result['textual_data']).toarray()"
   ]
  },
  {
   "cell_type": "code",
   "execution_count": 4,
   "metadata": {},
   "outputs": [],
   "source": [
    "tsvm_model = joblib.load('models/TSVM_500_3.pkl')\n",
    "st_mnb = joblib.load('models/selfLearning_Logistic Regression_500_3.pkl')\n",
    "lgs3vm_mnb = joblib.load('models/Lagrangian S3VM_500_1.pkl')"
   ]
  },
  {
   "cell_type": "code",
   "execution_count": 5,
   "metadata": {},
   "outputs": [],
   "source": [
    "tsvm_predicted_y = tsvm_model.predict(X_tf)\n",
    "result['qnsvm'] = tsvm_predicted_y"
   ]
  },
  {
   "cell_type": "code",
   "execution_count": 6,
   "metadata": {},
   "outputs": [],
   "source": [
    "langragian_svm_predicted_y = lgs3vm_mnb.predict(X_tf)\n",
    "result['langragian_svms'] = langragian_svm_predicted_y"
   ]
  },
  {
   "cell_type": "code",
   "execution_count": 7,
   "metadata": {},
   "outputs": [],
   "source": [
    "Y_Pred = st_mnb.predict(X_tf)\n",
    "result['st_mnb'] = Y_Pred"
   ]
  },
  {
   "cell_type": "code",
   "execution_count": 8,
   "metadata": {},
   "outputs": [
    {
     "data": {
      "text/plain": [
       "1.0    7730\n",
       "0.0    1485\n",
       "Name: qnsvm, dtype: int64"
      ]
     },
     "execution_count": 8,
     "metadata": {},
     "output_type": "execute_result"
    }
   ],
   "source": [
    "result['qnsvm'].value_counts()"
   ]
  },
  {
   "cell_type": "code",
   "execution_count": 9,
   "metadata": {},
   "outputs": [
    {
     "data": {
      "text/plain": [
       " 1.0    7181\n",
       "-1.0    2034\n",
       "Name: langragian_svms, dtype: int64"
      ]
     },
     "execution_count": 9,
     "metadata": {},
     "output_type": "execute_result"
    }
   ],
   "source": [
    "result['langragian_svms'].value_counts()"
   ]
  },
  {
   "cell_type": "code",
   "execution_count": 10,
   "metadata": {},
   "outputs": [
    {
     "data": {
      "text/plain": [
       "1.0    6184\n",
       "0.0    3031\n",
       "Name: st_mnb, dtype: int64"
      ]
     },
     "execution_count": 10,
     "metadata": {},
     "output_type": "execute_result"
    }
   ],
   "source": [
    "result['st_mnb'].value_counts()"
   ]
  },
  {
   "cell_type": "code",
   "execution_count": 11,
   "metadata": {},
   "outputs": [],
   "source": [
    "result.loc[result['langragian_svms']==-1.0, 'langragian_svms'] = 0"
   ]
  },
  {
   "cell_type": "code",
   "execution_count": 12,
   "metadata": {},
   "outputs": [
    {
     "data": {
      "text/plain": [
       "1.0    7181\n",
       "0.0    2034\n",
       "Name: langragian_svms, dtype: int64"
      ]
     },
     "execution_count": 12,
     "metadata": {},
     "output_type": "execute_result"
    }
   ],
   "source": [
    "result['langragian_svms'].value_counts()"
   ]
  },
  {
   "cell_type": "code",
   "execution_count": 13,
   "metadata": {},
   "outputs": [],
   "source": [
    "ensemble_df = result[['id', 'qnsvm', 'langragian_svms', 'st_mnb', 'class']].copy()"
   ]
  },
  {
   "cell_type": "code",
   "execution_count": 14,
   "metadata": {},
   "outputs": [
    {
     "data": {
      "text/plain": [
       "non-critical    2591\n",
       "critical        1104\n",
       "Name: class, dtype: int64"
      ]
     },
     "execution_count": 14,
     "metadata": {},
     "output_type": "execute_result"
    }
   ],
   "source": [
    "ensemble_df['class'].value_counts()"
   ]
  },
  {
   "cell_type": "code",
   "execution_count": 15,
   "metadata": {},
   "outputs": [],
   "source": [
    "mostCommonVote=[]\n",
    "for row in ensemble_df[['qnsvm', 'langragian_svms', 'st_mnb']].values:\n",
    "    votes, values = np.unique(row, return_counts=True)\n",
    "    mostCommonVote.append( votes[np.argmax(values)])"
   ]
  },
  {
   "cell_type": "code",
   "execution_count": 16,
   "metadata": {},
   "outputs": [],
   "source": [
    "ensemble_df['pred_class'] = mostCommonVote"
   ]
  },
  {
   "cell_type": "code",
   "execution_count": 17,
   "metadata": {},
   "outputs": [
    {
     "data": {
      "text/plain": [
       "1.0    7167\n",
       "0.0    2048\n",
       "Name: pred_class, dtype: int64"
      ]
     },
     "execution_count": 17,
     "metadata": {},
     "output_type": "execute_result"
    }
   ],
   "source": [
    "ensemble_df['pred_class'].value_counts()"
   ]
  },
  {
   "cell_type": "code",
   "execution_count": 18,
   "metadata": {},
   "outputs": [],
   "source": [
    "ensemble_df.to_csv('../datasets/unigram_based_majority_voting_classifier.csv', index=False)"
   ]
  },
  {
   "cell_type": "code",
   "execution_count": 2,
   "metadata": {},
   "outputs": [],
   "source": [
    "ensemble_df = pd.read_csv('../datasets/unigram_based_majority_voting_classifier.csv')"
   ]
  },
  {
   "cell_type": "code",
   "execution_count": 3,
   "metadata": {},
   "outputs": [],
   "source": [
    "ensemble_df.loc[ensemble_df['class']=='critical', 'class'] = 0\n",
    "ensemble_df.loc[ensemble_df['class']=='non-critical', 'class'] = 1\n",
    "unlabelled_index = ensemble_df[(ensemble_df['class'].isnull())].index\n",
    "labelled_index = ensemble_df[~(ensemble_df['class'].isnull())].index"
   ]
  },
  {
   "cell_type": "code",
   "execution_count": null,
   "metadata": {},
   "outputs": [],
   "source": [
    "X_l = X_tf[labelled_index]\n",
    "Y_l = np.array(ensemble_df['class'])[labelled_index]\n",
    "Y_pred = np.array(ensemble_df['pred_class'])[labelled_index]\n",
    "stratified_shuffle_split = StratifiedShuffleSplit(n_splits=3, test_size=0.6, random_state=0)\n",
    "scores = []\n",
    "iteration = 1\n",
    "for train_index, test_index in stratified_shuffle_split.split(X_l, Y_l):\n",
    "    X_train = X_l[train_index].copy()\n",
    "    Y_train = Y_l[train_index].copy()\n",
    "    X_test = X_l[test_index].copy()\n",
    "    Y_test = Y_l[test_index].copy()\n",
    "    Y_predicted = Y_pred[test_index].copy()"
   ]
  },
  {
   "cell_type": "code",
   "execution_count": 22,
   "metadata": {},
   "outputs": [],
   "source": [
    "classifications = classification_report(Y_test.astype(float), Y_predicted.astype(float), output_dict=True)\n",
    "classifications = pd.DataFrame(classifications)\n",
    "classifications.transpose().to_csv('ensemble_latex_table_report.csv')"
   ]
  },
  {
   "cell_type": "code",
   "execution_count": 8,
   "metadata": {},
   "outputs": [],
   "source": [
    "classifications = pd.read_csv('ensemble_latex_table_report.csv', index_col=0)"
   ]
  },
  {
   "cell_type": "code",
   "execution_count": 16,
   "metadata": {},
   "outputs": [],
   "source": [
    "classifications = classifications.transpose()"
   ]
  },
  {
   "cell_type": "code",
   "execution_count": 14,
   "metadata": {},
   "outputs": [],
   "source": [
    "dict_features = {}\n",
    "dict_acc = {}\n",
    "features = 500\n",
    "#acc = accuracy_score(Y_test.astype(float), Y_predicted.astype(float))\n",
    "#dict_features[str(500)] = classifications\n",
    "#vals = [[round(dict_features['500'].loc['precision', 'weighted avg'], 2), \n",
    "#         round(dict_features['500'].loc['recall', 'weighted avg'], 2),\n",
    "#         round(dict_features['500'].loc['f1-score', 'weighted avg'], 2),\n",
    "#         round(acc,2)]]\n",
    "#columns=[\"Precision\", \"Recall\", \"F1-score\", \"Accuracy\"]\n",
    "#df = pd.DataFrame(vals, columns=columns)  \n",
    "#df = df.transpose()"
   ]
  },
  {
   "cell_type": "code",
   "execution_count": 20,
   "metadata": {},
   "outputs": [
    {
     "data": {
      "image/png": "[encoded data removed]",
      "text/plain": [
       "<Figure size 576x432 with 1 Axes>"
      ]
     },
     "metadata": {
      "needs_background": "light"
     },
     "output_type": "display_data"
    }
   ],
   "source": [
    "arrays = [[\"Precision\", \"Precision\", \"Precision\", \"Recall\", \"Recall\", \"Recall\", \"F1-score\", \"F1-score\", \n",
    "               \"F1-score\"], ['Critical', 'Non-Critical', 'Weighted Avg.', 'Critical', 'Non-Critical', \n",
    "                                       'Weighted Avg.', 'Critical', 'Non-Critical', 'Weighted Avg.']]\n",
    "MI = pd.MultiIndex.from_arrays(arrays, names=('Measures', 'Classes'))\n",
    "vals = [[round(classifications.loc['precision', '0.0'], 2)],\n",
    "         [round(classifications.loc['precision', '1.0'], 2)],\n",
    "         [round(classifications.loc['precision', 'weighted avg'], 2)],\n",
    "         [round(classifications.loc['recall', '0.0'], 2)],\n",
    "         [round(classifications.loc['recall', '1.0'], 2)],\n",
    "         [round(classifications.loc['recall', 'weighted avg'], 2)],\n",
    "         [round(classifications.loc['f1-score', '0.0'], 2)],\n",
    "         [round(classifications.loc['f1-score', '1.0'], 2)],\n",
    "         [round(classifications.loc['f1-score', 'weighted avg'], 2)]]\n",
    "         #[round(dict_acc[str(features)],2)]]\n",
    "df = pd.DataFrame(vals, index=MI, columns=['vals'])  \n",
    "df = df.unstack().transpose().reset_index(level=0, drop=True)\n",
    "ax = df.plot(kind='bar', figsize=(8,6), rot=False)\n",
    "patches, labels = ax.get_legend_handles_labels()\n",
    "ax.legend(patches, labels, loc='upper left')\n",
    "plt.xlabel('Evaluation Measure Ensemble', fontsize=12)\n",
    "plt.savefig('ensemble_text_results.pdf', dpi=720)"
   ]
  },
  {
   "cell_type": "code",
   "execution_count": 21,
   "metadata": {},
   "outputs": [],
   "source": [
    "#ax = df.plot(kind='bar', figsize=(8,6), rot=False, legend=False)\n"
   ]
  },
  {
   "cell_type": "code",
   "execution_count": 29,
   "metadata": {},
   "outputs": [],
   "source": [
    "from sklearn.metrics import confusion_matrix\n",
    "from sklearn.utils.multiclass import unique_labels\n",
    "\n",
    "def plot_confusion_matrix(y_true, y_pred, classes,\n",
    "                          normalize=False,\n",
    "                          title=None,\n",
    "                          cmap=plt.cm.Blues):\n",
    "    \"\"\"\n",
    "    This function prints and plots the confusion matrix.\n",
    "    Normalization can be applied by setting `normalize=True`.\n",
    "    \"\"\"\n",
    "    if not title:\n",
    "        if normalize:\n",
    "            title = 'Normalized confusion matrix'\n",
    "        else:\n",
    "            title = 'Confusion matrix, without normalization'\n",
    "\n",
    "    # Compute confusion matrix\n",
    "    cm = confusion_matrix(y_true, y_pred)\n",
    "    # Only use the labels that appear in the data\n",
    "    #classes = classes[unique_labels(y_true, y_pred)]\n",
    "    if normalize:\n",
    "        cm = cm.astype('float') / cm.sum(axis=1)[:, np.newaxis]\n",
    "        print(\"Normalized confusion matrix\")\n",
    "    else:\n",
    "        print('Confusion matrix, without normalization')\n",
    "\n",
    "    print(cm)\n",
    "\n",
    "    fig, ax = plt.subplots()\n",
    "    im = ax.imshow(cm, interpolation='nearest', cmap=cmap)\n",
    "    ax.figure.colorbar(im, ax=ax)\n",
    "    # We want to show all ticks...\n",
    "    ax.set(xticks=np.arange(cm.shape[1]),\n",
    "           yticks=np.arange(cm.shape[0]),\n",
    "           # ... and label them with the respective list entries\n",
    "           xticklabels=['Critical', 'Non-Critical'], yticklabels=['Critical', 'Non-Critical'],\n",
    "           title=title,\n",
    "           ylabel='True label',\n",
    "           xlabel='Predicted label')\n",
    "\n",
    "    # Rotate the tick labels and set their alignment.\n",
    "    plt.setp(ax.get_xticklabels(), rotation=45, ha=\"right\",\n",
    "             rotation_mode=\"anchor\")\n",
    "\n",
    "    # Loop over data dimensions and create text annotations.\n",
    "    fmt = '.2f' if normalize else 'd'\n",
    "    thresh = cm.max() / 2.\n",
    "    for i in range(cm.shape[0]):\n",
    "        for j in range(cm.shape[1]):\n",
    "            ax.text(j, i, format(cm[i, j], fmt),\n",
    "                    ha=\"center\", va=\"center\",\n",
    "                    color=\"white\" if cm[i, j] > thresh else \"black\")\n",
    "    fig.tight_layout()\n",
    "    plt.savefig('Confusion_matrix(Ensemble).pdf', bbox_inches='tight')\n",
    "    return ax"
   ]
  },
  {
   "cell_type": "code",
   "execution_count": 30,
   "metadata": {},
   "outputs": [
    {
     "name": "stdout",
     "output_type": "stream",
     "text": [
      "Normalized confusion matrix\n",
      "[[0.56 0.44]\n",
      " [0.05 0.95]]\n"
     ]
    },
    {
     "data": {
      "image/png": "[encoded data removed]",
      "text/plain": [
       "<Figure size 432x288 with 2 Axes>"
      ]
     },
     "metadata": {
      "needs_background": "light"
     },
     "output_type": "display_data"
    }
   ],
   "source": [
    "np.set_printoptions(precision=2)\n",
    "\n",
    "# Plot non-normalized confusion matrix\n",
    "plot_confusion_matrix(Y_test.astype(float), Y_predicted.astype(float), classes=[-1, 1], normalize=True,\n",
    "                      title='Normalized Confusion matrix')\n",
    "\n",
    "plt.show()"
   ]
  },
  {
   "cell_type": "code",
   "execution_count": null,
   "metadata": {},
   "outputs": [],
   "source": [
    "L_S3VM = [0.8015, 0.8236, 0.8222]\n",
    "TSVM = [0.8195, 0.7898, 0.7762]\n",
    "Label_P = [0.7528, 0.6116, 0.5661]\n",
    "Label_S = [0.7555, 0.6333, 0.5990]\n",
    "ST_MNB = [0.7014, 0.7181, 0.7337]\n",
    "ST_LR = [0.7695, 0.7603,  0.7584]\n",
    "ST_SVM = [0.7014, 0.7014, 0.7014]"
   ]
  },
  {
   "cell_type": "code",
   "execution_count": 7,
   "metadata": {},
   "outputs": [],
   "source": [
    "dict_algos = {\"Lagrangean S3VM\" : [0.8015, 0.8236, 0.8222], \n",
    "              \"QN-S3VM\" : [0.8195, 0.7898, 0.7762], \n",
    "              \"Label Propagation\" : [0.59, 0.56, 0.53], \n",
    "              \"Label Spreading\" : [0.59, 0.58, 0.58], \n",
    "              \"ST MNB\" : [0.7014, 0.7181, 0.7337], \n",
    "              \"ST LR\" : [0.7695, 0.7603,  0.7584], \n",
    "              \"ST SVM\" : [0.7014, 0.7014, 0.7014]}\n",
    "df = pd.DataFrame(dict_algos, index=[100, 500, 1000])  "
   ]
  },
  {
   "cell_type": "code",
   "execution_count": 8,
   "metadata": {},
   "outputs": [
    {
     "data": {
      "text/html": [
       "<div>\n",
       "<style scoped>\n",
       "    .dataframe tbody tr th:only-of-type {\n",
       "        vertical-align: middle;\n",
       "    }\n",
       "\n",
       "    .dataframe tbody tr th {\n",
       "        vertical-align: top;\n",
       "    }\n",
       "\n",
       "    .dataframe thead th {\n",
       "        text-align: right;\n",
       "    }\n",
       "</style>\n",
       "<table border=\"1\" class=\"dataframe\">\n",
       "  <thead>\n",
       "    <tr style=\"text-align: right;\">\n",
       "      <th></th>\n",
       "      <th>Label Propagation</th>\n",
       "      <th>Label Spreading</th>\n",
       "      <th>Lagrangean S3VM</th>\n",
       "      <th>QN-S3VM</th>\n",
       "      <th>ST LR</th>\n",
       "      <th>ST MNB</th>\n",
       "      <th>ST SVM</th>\n",
       "    </tr>\n",
       "  </thead>\n",
       "  <tbody>\n",
       "    <tr>\n",
       "      <th>100</th>\n",
       "      <td>0.59</td>\n",
       "      <td>0.59</td>\n",
       "      <td>0.8015</td>\n",
       "      <td>0.8195</td>\n",
       "      <td>0.7695</td>\n",
       "      <td>0.7014</td>\n",
       "      <td>0.7014</td>\n",
       "    </tr>\n",
       "    <tr>\n",
       "      <th>500</th>\n",
       "      <td>0.56</td>\n",
       "      <td>0.58</td>\n",
       "      <td>0.8236</td>\n",
       "      <td>0.7898</td>\n",
       "      <td>0.7603</td>\n",
       "      <td>0.7181</td>\n",
       "      <td>0.7014</td>\n",
       "    </tr>\n",
       "    <tr>\n",
       "      <th>1000</th>\n",
       "      <td>0.53</td>\n",
       "      <td>0.58</td>\n",
       "      <td>0.8222</td>\n",
       "      <td>0.7762</td>\n",
       "      <td>0.7584</td>\n",
       "      <td>0.7337</td>\n",
       "      <td>0.7014</td>\n",
       "    </tr>\n",
       "  </tbody>\n",
       "</table>\n",
       "</div>"
      ],
      "text/plain": [
       "      Label Propagation  Label Spreading  Lagrangean S3VM  QN-S3VM   ST LR  \\\n",
       "100                0.59             0.59           0.8015   0.8195  0.7695   \n",
       "500                0.56             0.58           0.8236   0.7898  0.7603   \n",
       "1000               0.53             0.58           0.8222   0.7762  0.7584   \n",
       "\n",
       "      ST MNB  ST SVM  \n",
       "100   0.7014  0.7014  \n",
       "500   0.7181  0.7014  \n",
       "1000  0.7337  0.7014  "
      ]
     },
     "execution_count": 8,
     "metadata": {},
     "output_type": "execute_result"
    }
   ],
   "source": [
    "df"
   ]
  },
  {
   "cell_type": "code",
   "execution_count": 9,
   "metadata": {},
   "outputs": [
    {
     "data": {
      "image/png": "[encoded data removed]",
      "text/plain": [
       "<Figure size 576x432 with 1 Axes>"
      ]
     },
     "metadata": {
      "needs_background": "light"
     },
     "output_type": "display_data"
    }
   ],
   "source": [
    "df.plot(figsize=(8,6), xticks=df.index)\n",
    "plt.savefig('Accuracy_scores_for_features.pdf', bbox_inches='tight')"
   ]
  },
  {
   "cell_type": "code",
   "execution_count": 31,
   "metadata": {},
   "outputs": [],
   "source": [
    "# Time Plot\n",
    "\n",
    "\n",
    "#Self Training MNB 14.52\n",
    "#Self Training LR 35.85\n",
    "#Self Training SVM 8436.44\n",
    "#Lagrangean-S3VM 170.96"
   ]
  },
  {
   "cell_type": "code",
   "execution_count": 33,
   "metadata": {},
   "outputs": [],
   "source": [
    "L_S3VM = [[0.8015, 0.8236, 0.8222]]\n",
    "columns=[\"100\", \"500\", \"1000\"]\n",
    "L_S3VM_df = pd.DataFrame(L_S3VM, columns=columns)  \n",
    "L_S3VM_dfs = L_S3VM_df.transpose()"
   ]
  },
  {
   "cell_type": "code",
   "execution_count": 35,
   "metadata": {},
   "outputs": [
    {
     "data": {
      "text/html": [
       "<div>\n",
       "<style scoped>\n",
       "    .dataframe tbody tr th:only-of-type {\n",
       "        vertical-align: middle;\n",
       "    }\n",
       "\n",
       "    .dataframe tbody tr th {\n",
       "        vertical-align: top;\n",
       "    }\n",
       "\n",
       "    .dataframe thead th {\n",
       "        text-align: right;\n",
       "    }\n",
       "</style>\n",
       "<table border=\"1\" class=\"dataframe\">\n",
       "  <thead>\n",
       "    <tr style=\"text-align: right;\">\n",
       "      <th></th>\n",
       "      <th>0</th>\n",
       "    </tr>\n",
       "  </thead>\n",
       "  <tbody>\n",
       "    <tr>\n",
       "      <th>100</th>\n",
       "      <td>0.8015</td>\n",
       "    </tr>\n",
       "    <tr>\n",
       "      <th>500</th>\n",
       "      <td>0.8236</td>\n",
       "    </tr>\n",
       "    <tr>\n",
       "      <th>1000</th>\n",
       "      <td>0.8222</td>\n",
       "    </tr>\n",
       "  </tbody>\n",
       "</table>\n",
       "</div>"
      ],
      "text/plain": [
       "           0\n",
       "100   0.8015\n",
       "500   0.8236\n",
       "1000  0.8222"
      ]
     },
     "execution_count": 35,
     "metadata": {},
     "output_type": "execute_result"
    }
   ],
   "source": [
    "L_S3VM_dfs"
   ]
  },
  {
   "cell_type": "code",
   "execution_count": null,
   "metadata": {},
   "outputs": [],
   "source": []
  }
 ],
 "metadata": {
  "kernelspec": {
   "display_name": "Python 3",
   "language": "python",
   "name": "python3"
  },
  "language_info": {
   "codemirror_mode": {
    "name": "ipython",
    "version": 3
   },
   "file_extension": ".py",
   "mimetype": "text/x-python",
   "name": "python",
   "nbconvert_exporter": "python",
   "pygments_lexer": "ipython3",
   "version": "3.6.9"
  }
 },
 "nbformat": 4,
 "nbformat_minor": 2
}
