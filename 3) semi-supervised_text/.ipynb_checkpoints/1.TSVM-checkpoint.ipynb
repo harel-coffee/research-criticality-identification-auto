{
 "cells": [
  {
   "cell_type": "markdown",
   "metadata": {},
   "source": [
    "\\# Developer: Ali Hashaam (ali.hashaam@initos.com) <br>\n",
    "\\# 25th January 2019 <br>\n",
    "\n",
    "\\# © 2019 initOS GmbH <br>\n",
    "\\# License MIT <br>"
   ]
  },
  {
   "cell_type": "code",
   "execution_count": 1,
   "metadata": {},
   "outputs": [],
   "source": [
    "from sklearn.semi_supervised import LabelPropagation, LabelSpreading\n",
    "import pandas as pd\n",
    "import numpy as np\n",
    "import re, random\n",
    "from sklearn.model_selection import StratifiedShuffleSplit\n",
    "from sklearn.feature_extraction.text import TfidfVectorizer\n",
    "from frameworks.SelfLearning import *\n",
    "from collections import Counter\n",
    "from sklearn.externals import joblib\n",
    "from methods.scikitTSVM import SKTSVM\n",
    "from methods.qns3vm import QN_S3VM\n",
    "from sklearn.metrics import classification_report\n",
    "from utils import *\n",
    "from sklearn.metrics import classification_report\n",
    "import matplotlib.pyplot as plt\n",
    "%matplotlib inline\n",
    "from __future__ import division\n",
    "import time"
   ]
  },
  {
   "cell_type": "code",
   "execution_count": 2,
   "metadata": {},
   "outputs": [],
   "source": [
    "regex_square_brackets = re.compile(r'(\\[)|(\\])')"
   ]
  },
  {
   "cell_type": "code",
   "execution_count": 3,
   "metadata": {},
   "outputs": [],
   "source": [
    "bugs = pd.read_csv('../datasets/lexical_semantic_preprocessed_mantis_bugs_less_columns_with_class_expansion.csv')\n",
    "bug_notes = pd.read_csv('../datasets/lexical_semantic_preprocessed_mantis_bugnotes.csv')"
   ]
  },
  {
   "cell_type": "code",
   "execution_count": 4,
   "metadata": {},
   "outputs": [],
   "source": [
    "bug_notes['bug_note'] = bug_notes['bug_note'].str.replace(regex_square_brackets, '')\n",
    "bugs['additional_information'] = bugs['additional_information'].str.replace(regex_square_brackets, '')\n",
    "bugs['description'] = bugs['description'].str.replace(regex_square_brackets, '')\n",
    "bugs['summary'] = bugs['summary'].str.replace(regex_square_brackets, '')\n",
    "df_bug_note_table = bug_notes.groupby(['bug_id'])['bug_note'].apply(','.join).to_frame('bug_notes').reset_index()\n",
    "result = pd.merge(bugs, df_bug_note_table, how='left', left_on='id', right_on='bug_id')\n",
    "result['textual_data'] = result['summary'].fillna('') + ',' + result['description'].fillna('') + ',' + result['additional_information'].fillna('') + ',' + result['bug_notes'].fillna('')"
   ]
  },
  {
   "cell_type": "code",
   "execution_count": 5,
   "metadata": {},
   "outputs": [],
   "source": [
    "result['textual_data'] = result['textual_data'].str.replace(\" \", \"\")\n",
    "result.sort_values(by=['class'], inplace=True)\n",
    "result.reset_index(drop=True, inplace= True)"
   ]
  },
  {
   "cell_type": "code",
   "execution_count": 6,
   "metadata": {},
   "outputs": [
    {
     "name": "stdout",
     "output_type": "stream",
     "text": [
      "1    2591\n",
      "0    1104\n",
      "Name: class, dtype: int64\n"
     ]
    }
   ],
   "source": [
    "result.loc[result['class']=='critical', 'class'] = 0\n",
    "result.loc[result['class']=='non-critical', 'class'] = 1\n",
    "unlabelled_index = result[(result['class'].isnull())].index\n",
    "labelled_index = result[~(result['class'].isnull())].index\n",
    "print result['class'].value_counts()"
   ]
  },
  {
   "cell_type": "markdown",
   "metadata": {},
   "source": [
    "# Baseline"
   ]
  },
  {
   "cell_type": "code",
   "execution_count": 15,
   "metadata": {},
   "outputs": [],
   "source": [
    "def text_based_classification_baseline(df, classifier, classifier_name, baseline):\n",
    "    for no_of_features in [100, 500, 1000]:\n",
    "        print(\"\"\"####################### Running for Number of features {} ############################\"\"\".format(no_of_features))\n",
    "        tfidf_vectorizer = TfidfVectorizer(max_df=0.95, min_df=2, max_features=no_of_features, stop_words='english')\n",
    "        X = tfidf_vectorizer.fit_transform(df['textual_data']).toarray()\n",
    "        Y = np.array(df['class'])\n",
    "        #print(\"members for classes {}\".format(\",\".join(\"(%s,%s)\" % tup for tup in sorted(Counter(Y).items()))))\n",
    "        X_U = X[unlabelled_index]\n",
    "        X_l = X[labelled_index]\n",
    "        Y_l = Y[labelled_index]\n",
    "        stratified_shuffle_split = StratifiedShuffleSplit(n_splits=3, test_size=0.6, random_state=0)\n",
    "        scores = []\n",
    "        iteration = 1\n",
    "        for train_index, test_index in stratified_shuffle_split.split(X_l, Y_l):\n",
    "            X_train = X_l[train_index].copy()\n",
    "            Y_train = Y_l[train_index].copy()\n",
    "            X_test = X_l[test_index].copy()\n",
    "            Y_test = Y_l[test_index].copy()\n",
    "            classifier.fit(X_train, Y_train.astype(float))\n",
    "            joblib.dump(classifier, 'models/{}_{}_{}_B.pkl'.format(classifier_name, no_of_features, iteration))\n",
    "            joblib.dump(X_test, 'models/X_test_{}_{}_{}_B.pkl'.format(classifier_name, no_of_features, iteration))\n",
    "            joblib.dump(Y_test, 'models/Y_test_{}_{}_{}_B.pkl'.format(classifier_name, no_of_features, iteration))\n",
    "            score = classifier.score(X_test, Y_test.astype(float))\n",
    "            scores.append(score)\n",
    "            iteration += 1\n",
    "        print \"{} average score: {}\".format(classifier_name, np.mean(scores))\n",
    "    return classifier"
   ]
  },
  {
   "cell_type": "code",
   "execution_count": 18,
   "metadata": {},
   "outputs": [
    {
     "name": "stdout",
     "output_type": "stream",
     "text": [
      "####################### Running for Number of features 100 ############################\n",
      "SVM_Basline average score: 0.701999699293\n",
      "####################### Running for Number of features 500 ############################\n",
      "SVM_Basline average score: 0.701398285972\n",
      "####################### Running for Number of features 1000 ############################\n",
      "SVM_Basline average score: 0.701398285972\n"
     ]
    }
   ],
   "source": [
    "from sklearn import svm\n",
    "clf = svm.SVC()\n",
    "svm_B = text_based_classification_baseline(result, clf, 'SVM_Basline', 'float')"
   ]
  },
  {
   "cell_type": "code",
   "execution_count": 2,
   "metadata": {},
   "outputs": [],
   "source": [
    "baseline_1 = joblib.load('models/{}_{}_{}_B.pkl'.format('SVM_Basline', 100, 3))\n",
    "x_tst = joblib.load('models/X_test_{}_{}_{}_B.pkl'.format('SVM_Basline', 100, 3))\n",
    "y_tst = joblib.load('models/Y_test_{}_{}_{}_B.pkl'.format('SVM_Basline', 100, 3))"
   ]
  },
  {
   "cell_type": "code",
   "execution_count": 3,
   "metadata": {},
   "outputs": [],
   "source": [
    "b1_acc = baseline_1.score(x_tst, y_tst.astype(float))"
   ]
  },
  {
   "cell_type": "code",
   "execution_count": 4,
   "metadata": {},
   "outputs": [],
   "source": [
    "y_pred = baseline_1.predict(x_tst)\n",
    "result = classification_report(y_tst.astype(float), y_pred.astype(float), output_dict=True)\n",
    "df_100 = pd.DataFrame(result)"
   ]
  },
  {
   "cell_type": "code",
   "execution_count": 14,
   "metadata": {},
   "outputs": [],
   "source": [
    "baseline_2 = joblib.load('models/{}_{}_{}_B.pkl'.format('SVM_Basline', 500, 3))\n",
    "x_tst = joblib.load('models/X_test_{}_{}_{}_B.pkl'.format('SVM_Basline', 500, 3))\n",
    "y_tst = joblib.load('models/Y_test_{}_{}_{}_B.pkl'.format('SVM_Basline', 500, 3))\n",
    "b2_acc = baseline_2.score(x_tst, y_tst.astype(float))"
   ]
  },
  {
   "cell_type": "code",
   "execution_count": 15,
   "metadata": {},
   "outputs": [],
   "source": [
    "y_pred = baseline_2.predict(x_tst)\n",
    "result = classification_report(y_tst.astype(float), y_pred.astype(float), output_dict=True)\n",
    "df_500 = pd.DataFrame(result)"
   ]
  },
  {
   "cell_type": "code",
   "execution_count": 13,
   "metadata": {},
   "outputs": [],
   "source": [
    "from sklearn.metrics import confusion_matrix\n",
    "from sklearn.utils.multiclass import unique_labels\n",
    "\n",
    "def plot_confusion_matrix(y_true, y_pred, classes,\n",
    "                          normalize=False,\n",
    "                          title=None,\n",
    "                          cmap=plt.cm.Blues):\n",
    "    \"\"\"\n",
    "    This function prints and plots the confusion matrix.\n",
    "    Normalization can be applied by setting `normalize=True`.\n",
    "    \"\"\"\n",
    "    if not title:\n",
    "        if normalize:\n",
    "            title = 'Normalized confusion matrix'\n",
    "        else:\n",
    "            title = 'Confusion matrix, without normalization'\n",
    "\n",
    "    # Compute confusion matrix\n",
    "    cm = confusion_matrix(y_true, y_pred)\n",
    "    # Only use the labels that appear in the data\n",
    "    #classes = classes[unique_labels(y_true, y_pred)]\n",
    "    if normalize:\n",
    "        cm = cm.astype('float') / cm.sum(axis=1)[:, np.newaxis]\n",
    "        print(\"Normalized confusion matrix\")\n",
    "    else:\n",
    "        print('Confusion matrix, without normalization')\n",
    "\n",
    "    print(cm)\n",
    "\n",
    "    fig, ax = plt.subplots()\n",
    "    im = ax.imshow(cm, interpolation='nearest', cmap=cmap)\n",
    "    ax.figure.colorbar(im, ax=ax)\n",
    "    # We want to show all ticks...\n",
    "    ax.set(xticks=np.arange(cm.shape[1]),\n",
    "           yticks=np.arange(cm.shape[0]),\n",
    "           # ... and label them with the respective list entries\n",
    "           xticklabels=['Critical', 'Non-Critical'], yticklabels=['Critical', 'Non-Critical'],\n",
    "           title=title,\n",
    "           ylabel='True label',\n",
    "           xlabel='Predicted label')\n",
    "\n",
    "    # Rotate the tick labels and set their alignment.\n",
    "    plt.setp(ax.get_xticklabels(), rotation=45, ha=\"right\",\n",
    "             rotation_mode=\"anchor\")\n",
    "\n",
    "    # Loop over data dimensions and create text annotations.\n",
    "    fmt = '.2f' if normalize else 'd'\n",
    "    thresh = cm.max() / 2.\n",
    "    for i in range(cm.shape[0]):\n",
    "        for j in range(cm.shape[1]):\n",
    "            ax.text(j, i, format(cm[i, j], fmt),\n",
    "                    ha=\"center\", va=\"center\",\n",
    "                    color=\"white\" if cm[i, j] > thresh else \"black\")\n",
    "    fig.tight_layout()\n",
    "    plt.savefig('Confusion_matrix(baseline).pdf', bbox_inches='tight')\n",
    "    return ax"
   ]
  },
  {
   "cell_type": "code",
   "execution_count": 18,
   "metadata": {},
   "outputs": [
    {
     "name": "stdout",
     "output_type": "stream",
     "text": [
      "Normalized confusion matrix\n",
      "[[0. 1.]\n",
      " [0. 1.]]\n"
     ]
    },
    {
     "data": {
      "image/png": "[encoded data removed]",
      "text/plain": [
       "<Figure size 432x288 with 2 Axes>"
      ]
     },
     "metadata": {
      "needs_background": "light"
     },
     "output_type": "display_data"
    }
   ],
   "source": [
    "np.set_printoptions(precision=2)\n",
    "\n",
    "# Plot non-normalized confusion matrix\n",
    "#plot_confusion_matrix(y_tst.astype(int), y_pred.astype(float), classes=[-1, 1],\n",
    "#                      title='Confusion matrix, without normalization')\n",
    "# Plot normalized confusion matrix\n",
    "plot_confusion_matrix(y_tst.astype(int), y_pred.astype(float), classes=[-1, 1], normalize=True,\n",
    "                      title='Normalized confusion matrix')\n",
    "\n",
    "plt.show()"
   ]
  },
  {
   "cell_type": "code",
   "execution_count": 7,
   "metadata": {},
   "outputs": [],
   "source": [
    "baseline_3 = joblib.load('models/{}_{}_{}_B.pkl'.format('SVM_Basline', 1000, 3))\n",
    "x_tst = joblib.load('models/X_test_{}_{}_{}_B.pkl'.format('SVM_Basline', 1000, 3))\n",
    "y_tst = joblib.load('models/Y_test_{}_{}_{}_B.pkl'.format('SVM_Basline', 1000, 3))\n",
    "b3_acc = baseline_3.score(x_tst, y_tst.astype(float))"
   ]
  },
  {
   "cell_type": "code",
   "execution_count": 8,
   "metadata": {},
   "outputs": [],
   "source": [
    "y_pred = baseline_3.predict(x_tst)\n",
    "result = classification_report(y_tst.astype(float), y_pred.astype(float), output_dict=True)\n",
    "df_1000 = pd.DataFrame(result)"
   ]
  },
  {
   "cell_type": "code",
   "execution_count": 9,
   "metadata": {},
   "outputs": [],
   "source": [
    "vals = [[round(df_500.loc['precision', 'weighted avg'], 2),\n",
    "        round(df_500.loc['recall', 'weighted avg'], 2),\n",
    "        round(df_500.loc['f1-score', 'weighted avg'], 2),\n",
    "       round(b2_acc,2)]]\n",
    "columns=[\"Precision\", \"Recall\", \"F1-score\", \"Accuracy\"]\n",
    "df = pd.DataFrame(vals, columns=[\"Precision\", \"Recall\", \"F1-score\", \"Accuracy\"])"
   ]
  },
  {
   "cell_type": "code",
   "execution_count": 10,
   "metadata": {},
   "outputs": [],
   "source": [
    "df = df.transpose()"
   ]
  },
  {
   "cell_type": "code",
   "execution_count": 11,
   "metadata": {},
   "outputs": [],
   "source": [
    "df = df.sort_index(ascending=True)"
   ]
  },
  {
   "cell_type": "code",
   "execution_count": 12,
   "metadata": {},
   "outputs": [
    {
     "data": {
      "text/html": [
       "<div>\n",
       "<style scoped>\n",
       "    .dataframe tbody tr th:only-of-type {\n",
       "        vertical-align: middle;\n",
       "    }\n",
       "\n",
       "    .dataframe tbody tr th {\n",
       "        vertical-align: top;\n",
       "    }\n",
       "\n",
       "    .dataframe thead th {\n",
       "        text-align: right;\n",
       "    }\n",
       "</style>\n",
       "<table border=\"1\" class=\"dataframe\">\n",
       "  <thead>\n",
       "    <tr style=\"text-align: right;\">\n",
       "      <th></th>\n",
       "      <th>0</th>\n",
       "    </tr>\n",
       "  </thead>\n",
       "  <tbody>\n",
       "    <tr>\n",
       "      <th>Accuracy</th>\n",
       "      <td>0.70</td>\n",
       "    </tr>\n",
       "    <tr>\n",
       "      <th>F1-score</th>\n",
       "      <td>0.58</td>\n",
       "    </tr>\n",
       "    <tr>\n",
       "      <th>Precision</th>\n",
       "      <td>0.49</td>\n",
       "    </tr>\n",
       "    <tr>\n",
       "      <th>Recall</th>\n",
       "      <td>0.70</td>\n",
       "    </tr>\n",
       "  </tbody>\n",
       "</table>\n",
       "</div>"
      ],
      "text/plain": [
       "              0\n",
       "Accuracy   0.70\n",
       "F1-score   0.58\n",
       "Precision  0.49\n",
       "Recall     0.70"
      ]
     },
     "execution_count": 12,
     "metadata": {},
     "output_type": "execute_result"
    }
   ],
   "source": [
    "df"
   ]
  },
  {
   "cell_type": "code",
   "execution_count": 36,
   "metadata": {},
   "outputs": [
    {
     "data": {
      "image/png": "[encoded data removed]",
      "text/plain": [
       "<Figure size 576x432 with 1 Axes>"
      ]
     },
     "metadata": {
      "needs_background": "light"
     },
     "output_type": "display_data"
    }
   ],
   "source": [
    "ax = df.plot(kind='bar', figsize=(8,6), rot=False, legend=False)\n",
    "plt.xlabel('Evaluation Measures', fontsize=12)\n",
    "plt.savefig('baseline_results.pdf', dpi=720)"
   ]
  },
  {
   "cell_type": "markdown",
   "metadata": {},
   "source": [
    "# Advanced"
   ]
  },
  {
   "cell_type": "code",
   "execution_count": 8,
   "metadata": {},
   "outputs": [],
   "source": [
    "def text_based_classification(df, classifier, classifier_name, label_type):\n",
    "    for no_of_features in [500]:\n",
    "        print(\"\"\"####################### Running for Number of features {} ############################\"\"\".format(no_of_features))\n",
    "        tfidf_vectorizer = TfidfVectorizer(max_df=0.95, min_df=2, max_features=no_of_features, stop_words='english')\n",
    "        X = tfidf_vectorizer.fit_transform(df['textual_data']).toarray()\n",
    "        Y = np.array(df['class'])\n",
    "        #print(\"members for classes {}\".format(\",\".join(\"(%s,%s)\" % tup for tup in sorted(Counter(Y).items()))))\n",
    "        X_U = X[unlabelled_index]\n",
    "        X_l = X[labelled_index]\n",
    "        Y_l = Y[labelled_index]\n",
    "        stratified_shuffle_split = StratifiedShuffleSplit(n_splits=1, test_size=0.6, random_state=0)\n",
    "        scores = []\n",
    "        iteration = 1\n",
    "        for train_index, test_index in stratified_shuffle_split.split(X_l, Y_l):\n",
    "            X_train = X_l[train_index].copy()\n",
    "            Y_train = Y_l[train_index].copy()\n",
    "            X_test = X_l[test_index].copy()\n",
    "            Y_test = Y_l[test_index].copy()\n",
    "            X_l_u = np.vstack((X_train, X_U))\n",
    "            Y_U = np.full((X_U.shape[0], ), -1)\n",
    "            if label_type == 'int':\n",
    "                Y_l_u = np.concatenate((Y_train, Y_U))\n",
    "            else:\n",
    "                Y_l_u = np.concatenate((Y_train, Y_U)).astype(float)\n",
    "            classifier.fit(X_l_u, Y_l_u)\n",
    "            #joblib.dump(classifier, 'models/{}_{}_{}.pkl'.format(classifier_name, no_of_features, iteration))\n",
    "            #joblib.dump(X_test, 'models/X_test_{}_{}_{}.pkl'.format(classifier_name, no_of_features, iteration))\n",
    "            #joblib.dump(Y_test, 'models/Y_test_{}_{}_{}.pkl'.format(classifier_name, no_of_features, iteration))\n",
    "            score = classifier.score(X_test, Y_test.astype(float))\n",
    "            scores.append(score)\n",
    "            iteration += 1\n",
    "        print \"{} average score: {}\".format(classifier_name, np.mean(scores))\n",
    "    return classifier"
   ]
  },
  {
   "cell_type": "code",
   "execution_count": 9,
   "metadata": {},
   "outputs": [
    {
     "name": "stdout",
     "output_type": "stream",
     "text": [
      "####################### Running for Number of features 500 ############################\n",
      "TSVM average score: 0.790708164186\n",
      "--- 123.897639036 seconds ---\n"
     ]
    }
   ],
   "source": [
    "start_time = time.time()\n",
    "tsvm = text_based_classification(result, SKTSVM(), 'TSVM', 'int')\n",
    "print(\"--- %s seconds ---\" % (time.time() - start_time))"
   ]
  },
  {
   "cell_type": "code",
   "execution_count": 10,
   "metadata": {},
   "outputs": [],
   "source": [
    "x_tst = joblib.load('models/X_test_{}_{}_{}.pkl'.format('TSVM', 500, 3))"
   ]
  },
  {
   "cell_type": "code",
   "execution_count": 12,
   "metadata": {},
   "outputs": [],
   "source": [
    "y_pred = tsvm.predict(x_tst)"
   ]
  },
  {
   "cell_type": "code",
   "execution_count": 13,
   "metadata": {},
   "outputs": [
    {
     "data": {
      "text/plain": [
       "[(0.0, 439), (1.0, 1778)]"
      ]
     },
     "execution_count": 13,
     "metadata": {},
     "output_type": "execute_result"
    }
   ],
   "source": [
    "[tup for tup in sorted(Counter(y_pred).items())]"
   ]
  },
  {
   "cell_type": "code",
   "execution_count": 5,
   "metadata": {},
   "outputs": [],
   "source": [
    "def get_results(classifier, data_type):\n",
    "    dict_features = {}\n",
    "    dict_acc = {}\n",
    "    for features in [500]:#[100, 500, 1000]:\n",
    "        model = joblib.load('models/{}_{}_{}.pkl'.format(classifier, features, 3))\n",
    "        x_tst = joblib.load('models/X_test_{}_{}_{}.pkl'.format(classifier, features, 3))\n",
    "        y_tst = joblib.load('models/Y_test_{}_{}_{}.pkl'.format(classifier, features, 3))\n",
    "        acc = model.score(x_tst, y_tst.astype(data_type))\n",
    "        y_pred = model.predict(x_tst)\n",
    "        result = classification_report(y_tst.astype(data_type), y_pred.astype(data_type), output_dict=True)\n",
    "        dict_features[str(features)] = pd.DataFrame(result)\n",
    "        dict_features[str(features)].transpose().to_csv('{}_{}_latex_table_report.csv'.format(classifier, features))\n",
    "        dict_acc[str(features)] = acc\n",
    "    arrays = [[\"Precision\", \"Precision\", \"Precision\", \"Recall\", \"Recall\", \"Recall\", \"F1-score\", \"F1-score\", \n",
    "               \"F1-score\"], ['Critical', 'Non-Critical', 'Weighted Avg.', 'Critical', 'Non-Critical', \n",
    "                                       'Weighted Avg.', 'Critical', 'Non-Critical', 'Weighted Avg.']]\n",
    "    MI = pd.MultiIndex.from_arrays(arrays, names=('Measures', 'Classes'))\n",
    "    vals = [[round(dict_features[str(features)].loc['precision', '0'], 2)],\n",
    "             [round(dict_features[str(features)].loc['precision', '1'], 2)],\n",
    "             [round(dict_features[str(features)].loc['precision', 'weighted avg'], 2)],\n",
    "             [round(dict_features[str(features)].loc['recall', '0'], 2)],\n",
    "             [round(dict_features[str(features)].loc['recall', '1'], 2)],\n",
    "             [round(dict_features[str(features)].loc['recall', 'weighted avg'], 2)],\n",
    "             [round(dict_features[str(features)].loc['f1-score', '0'], 2)],\n",
    "             [round(dict_features[str(features)].loc['f1-score', '1'], 2)],\n",
    "             [round(dict_features[str(features)].loc['f1-score', 'weighted avg'], 2)]]\n",
    "             #[round(dict_acc[str(features)],2)]]\n",
    "    df = pd.DataFrame(vals, index=MI, columns=['vals'])  \n",
    "    df = df.unstack().transpose().reset_index(level=0, drop=True)\n",
    "    ax = df.plot(kind='bar', figsize=(8,6), rot=False)\n",
    "    patches, labels = ax.get_legend_handles_labels()\n",
    "    ax.legend(patches, labels, loc='best')\n",
    "    #df = pd.DataFrame({'100': {'f1-score': round(dict_features['100'].loc['f1-score', 'weighted avg']*100, 2), 'accuracy': round(dict_acc['100']*100,2)},\n",
    "    #               '500': {'f1-score': round(dict_features['500'].loc['f1-score', 'weighted avg']*100, 2), 'accuracy': round(dict_acc['500']*100,2)},\n",
    "    #               '1000': {'f1-score': round(dict_features['1000'].loc['f1-score', 'weighted avg']*100, 2), 'accuracy': round(dict_acc['1000']*100,2)}})\n",
    "    #vals = [[round(dict_features['500'].loc['precision', 'weighted avg'], 2), \n",
    "    #         round(dict_features['500'].loc['recall', 'weighted avg'], 2),\n",
    "    #         round(dict_features['500'].loc['f1-score', 'weighted avg'], 2),\n",
    "    #         round(dict_acc['500'],2)]]\n",
    "    #columns=[\"Precision\", \"Recall\", \"F1-score\", \"Accuracy\"]\n",
    "    #df = pd.DataFrame(vals, columns=columns)  \n",
    "    #df = df.transpose()\n",
    "    #ax = df.plot(kind='bar', figsize=(8,6), rot=False, legend=False)\n",
    "    plt.xlabel('Evaluation Measure QN-S3VM'.format(classifier), fontsize=12)\n",
    "    plt.savefig('{}_results.pdf'.format(classifier), dpi=720)\n",
    "    return df"
   ]
  },
  {
   "cell_type": "code",
   "execution_count": 6,
   "metadata": {},
   "outputs": [
    {
     "data": {
      "image/png": "[encoded data removed]",
      "text/plain": [
       "<Figure size 576x432 with 1 Axes>"
      ]
     },
     "metadata": {
      "needs_background": "light"
     },
     "output_type": "display_data"
    }
   ],
   "source": [
    "tsvm_report = get_results('TSVM', 'int')"
   ]
  },
  {
   "cell_type": "code",
   "execution_count": 2,
   "metadata": {},
   "outputs": [],
   "source": [
    "def get_acc(classifier, data_type):\n",
    "    dict_features = {}\n",
    "    dict_acc = {}\n",
    "    for features in [100, 500, 1000]:\n",
    "        model = joblib.load('models/{}_{}_{}.pkl'.format(classifier, features, 3))\n",
    "        x_tst = joblib.load('models/X_test_{}_{}_{}.pkl'.format(classifier, features, 3))\n",
    "        y_tst = joblib.load('models/Y_test_{}_{}_{}.pkl'.format(classifier, features, 3))\n",
    "        acc = model.score(x_tst, y_tst.astype(data_type))\n",
    "        print features, acc"
   ]
  },
  {
   "cell_type": "code",
   "execution_count": 3,
   "metadata": {},
   "outputs": [
    {
     "name": "stdout",
     "output_type": "stream",
     "text": [
      "100 0.8195760036084799\n",
      "500 0.7898060442038791\n",
      "1000 0.7762742444745151\n"
     ]
    }
   ],
   "source": [
    "get_acc('TSVM', 'int')"
   ]
  },
  {
   "cell_type": "code",
   "execution_count": null,
   "metadata": {},
   "outputs": [],
   "source": []
  },
  {
   "cell_type": "code",
   "execution_count": null,
   "metadata": {},
   "outputs": [],
   "source": []
  }
 ],
 "metadata": {
  "kernelspec": {
   "display_name": "Python 3",
   "language": "python",
   "name": "python3"
  },
  "language_info": {
   "codemirror_mode": {
    "name": "ipython",
    "version": 3
   },
   "file_extension": ".py",
   "mimetype": "text/x-python",
   "name": "python",
   "nbconvert_exporter": "python",
   "pygments_lexer": "ipython3",
   "version": "3.6.9"
  }
 },
 "nbformat": 4,
 "nbformat_minor": 2
}
