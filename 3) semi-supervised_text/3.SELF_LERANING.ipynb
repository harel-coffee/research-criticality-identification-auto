{
 "cells": [
  {
   "cell_type": "markdown",
   "metadata": {},
   "source": [
    "\\# Developer: Ali Hashaam (ali.hashaam@initos.com) <br>\n",
    "\\# 3rd February 2019 <br>\n",
    "\n",
    "\\# © 2019 initOS GmbH <br>\n",
    "\\# License MIT <br>\n",
    "\n",
    "\n",
    "\\# Library for TSVM and SelfLearning taken from https://github.com/tmadl/semisup-learn <br>\n",
    "\\# Thanks to the authors for brilliant work\n"
   ]
  },
  {
   "cell_type": "code",
   "execution_count": 1,
   "metadata": {},
   "outputs": [],
   "source": [
    "from sklearn.svm import SVC\n",
    "import pandas as pd\n",
    "import numpy as np\n",
    "from __future__ import division\n",
    "import re\n",
    "from sklearn.model_selection import StratifiedShuffleSplit\n",
    "from sklearn.feature_extraction.text import TfidfVectorizer, CountVectorizer\n",
    "from frameworks.SelfLearning import *\n",
    "from collections import Counter\n",
    "from sklearn.naive_bayes import MultinomialNB\n",
    "from sklearn.linear_model import LogisticRegression\n",
    "from sklearn.model_selection import GridSearchCV\n",
    "from sklearn.externals import joblib\n",
    "import time\n",
    "import matplotlib.pyplot as plt\n",
    "from sklearn.metrics import classification_report"
   ]
  },
  {
   "cell_type": "code",
   "execution_count": 3,
   "metadata": {},
   "outputs": [],
   "source": [
    "regex_square_brackets = re.compile(r'(\\[)|(\\])')"
   ]
  },
  {
   "cell_type": "code",
   "execution_count": 4,
   "metadata": {},
   "outputs": [],
   "source": [
    "bugs = pd.read_csv('../datasets/lexical_semantic_preprocessed_mantis_bugs_less_columns_with_class_expansion.csv')\n",
    "bug_notes = pd.read_csv('../datasets/lexical_semantic_preprocessed_mantis_bugnotes.csv')"
   ]
  },
  {
   "cell_type": "code",
   "execution_count": 5,
   "metadata": {},
   "outputs": [],
   "source": [
    "bug_notes['bug_note'] = bug_notes['bug_note'].str.replace(regex_square_brackets, '')\n",
    "bugs['additional_information'] = bugs['additional_information'].str.replace(regex_square_brackets, '')\n",
    "bugs['description'] = bugs['description'].str.replace(regex_square_brackets, '')\n",
    "bugs['summary'] = bugs['summary'].str.replace(regex_square_brackets, '')\n",
    "df_bug_note_table = bug_notes.groupby(['bug_id'])['bug_note'].apply(','.join).to_frame('bug_notes').reset_index()\n",
    "result = pd.merge(bugs, df_bug_note_table, how='left', left_on='id', right_on='bug_id')\n",
    "result['textual_data'] = result['summary'].fillna('') + ',' + result['description'].fillna('') + ',' + result['additional_information'].fillna('') + ',' + result['bug_notes'].fillna('')"
   ]
  },
  {
   "cell_type": "code",
   "execution_count": 6,
   "metadata": {},
   "outputs": [],
   "source": [
    "result['textual_data'] = result['textual_data'].str.replace(\" \", \"\")\n",
    "result.sort_values(by=['class'], inplace=True)\n",
    "result.reset_index(drop=True, inplace= True)"
   ]
  },
  {
   "cell_type": "code",
   "execution_count": 7,
   "metadata": {},
   "outputs": [
    {
     "name": "stdout",
     "output_type": "stream",
     "text": [
      "1    2591\n",
      "0    1104\n",
      "Name: class, dtype: int64\n"
     ]
    }
   ],
   "source": [
    "result.loc[result['class']=='critical', 'class'] = 0\n",
    "result.loc[result['class']=='non-critical', 'class'] = 1\n",
    "unlabelled_index = result[(result['class'].isnull())].index\n",
    "labelled_index = result[~(result['class'].isnull())].index\n",
    "print result['class'].value_counts()"
   ]
  },
  {
   "cell_type": "code",
   "execution_count": 8,
   "metadata": {},
   "outputs": [],
   "source": [
    "def apply_self_learning_model(X_train, Y_train, X_test, Y_test, X_U, sklearn_classifier, classifier, n_o_f, iteration):\n",
    "    X = np.vstack((X_train, X_U))\n",
    "    Y_U = np.full((X_U.shape[0], ), -1, dtype=float)\n",
    "    Y = np.concatenate((Y_train, Y_U)).astype(float)\n",
    "    if classifier=='SVM':\n",
    "        C=[1/100, 1/10, 1, 10, 100]\n",
    "        gamma=[]\n",
    "        gamma += [1/X.shape[1]]\n",
    "        kernel=['rbf']\n",
    "        params_grid = [\n",
    "          {'C': C,\n",
    "           'gamma': gamma,\n",
    "           'kernel': kernel}\n",
    "        ]\n",
    "        gs = GridSearchCV(SVC(probability=True), params_grid, cv=3)\n",
    "        gs.fit(X, Y)\n",
    "        sklearn_classifier = gs.best_estimator_\n",
    "    slm = SelfLearningModel(sklearn_classifier)\n",
    "    slm.fit(X, Y)\n",
    "    joblib.dump(slm, 'models/selfLearning_{}_{}_{}.pkl'.format(classifier, n_o_f, iteration))\n",
    "    joblib.dump(X_test, 'models/X_test_{}_{}_{}.pkl'.format(classifier, n_o_f, iteration))\n",
    "    joblib.dump(Y_test, 'models/Y_test_{}_{}_{}.pkl'.format(classifier, n_o_f, iteration))\n",
    "    score = slm.score(X_test, Y_test.astype(float))\n",
    "    return score"
   ]
  },
  {
   "cell_type": "code",
   "execution_count": 9,
   "metadata": {},
   "outputs": [],
   "source": [
    "def SLM(X_l, Y_l, X_U, sklearn_classifier, classifier, n_o_f):\n",
    "    stratified_shuffle_split = StratifiedShuffleSplit(n_splits=3, test_size=0.6, random_state=0)\n",
    "    scores = []\n",
    "    iteration = 1\n",
    "    for train_index, test_index in stratified_shuffle_split.split(X_l, Y_l):\n",
    "        X_train = X_l[train_index].copy()\n",
    "        Y_train = Y_l[train_index].copy()\n",
    "        X_test = X_l[test_index].copy()\n",
    "        Y_test = Y_l[test_index].copy()\n",
    "        score = apply_self_learning_model(X_train, Y_train, X_test, Y_test, X_U, \n",
    "                                          sklearn_classifier, classifier, n_o_f, iteration)\n",
    "        scores.append(score)\n",
    "        iteration += 1\n",
    "    print \"self-learning {} average score: {}\".format(classifier, np.mean(scores))"
   ]
  },
  {
   "cell_type": "code",
   "execution_count": 10,
   "metadata": {},
   "outputs": [],
   "source": [
    "def main(df, sklearn_classifier, features_list, classifier, unlabelled_index, labelled_index):\n",
    "    results = {}\n",
    "    for no_of_features in features_list:\n",
    "        print(\"\"\"####################### Running for Number of features {} ############################\"\"\".format(no_of_features))\n",
    "        tfidf_vectorizer = TfidfVectorizer(max_df=0.95, min_df=2, max_features=no_of_features, stop_words='english')\n",
    "        X = tfidf_vectorizer.fit_transform(df['textual_data']).toarray()\n",
    "        Y = np.array(df['class'])\n",
    "        #print(\"members for classes {}\".format(\",\".join(\"(%s,%s)\" % tup for tup in sorted(Counter(Y).items()))))\n",
    "        X_U = X[unlabelled_index]\n",
    "        X_l = X[labelled_index]\n",
    "        Y_l = Y[labelled_index]\n",
    "        # without sample\n",
    "        print(\"####################### Running without Sampling ############################\")\n",
    "        SLM(X_l.copy(), Y_l.copy(), X_U.copy(), sklearn_classifier, classifier, no_of_features)\n",
    "        # with oversampling\n",
    "        #print(\"#######################Running with oversampling############################\")\n",
    "        #smote = SMOTE('minority')\n",
    "        #x_OS, y_OS = smote.fit_sample(X.copy(), Y.copy())\n",
    "        #slm_OS = SLM(x_OS, y_OS, sklearn_classifier, classifier)\n",
    "        # with undersampling\n",
    "        #print(\"#######################Running with undersampling############################\")\n",
    "        #enn = RepeatedEditedNearestNeighbours()\n",
    "        #x_US, y_US = enn.fit_resample(X.copy(), Y.copy())\n",
    "        #slm_US = SLM(x_US, y_US, sklearn_classifier, classifier)\n",
    "        #results[str(no_of_features)] = [slm]#, slm_OS, slm_US]\n",
    "    #return results"
   ]
  },
  {
   "cell_type": "code",
   "execution_count": 10,
   "metadata": {},
   "outputs": [
    {
     "name": "stdout",
     "output_type": "stream",
     "text": [
      "####################### Running for Number of features 100 ############################\n",
      "####################### Running without Sampling ############################\n",
      "self-learning Multinomial Naive Bayes average score: 0.701398285972\n",
      "####################### Running for Number of features 500 ############################\n",
      "####################### Running without Sampling ############################\n",
      "self-learning Multinomial Naive Bayes average score: 0.718087505638\n",
      "####################### Running for Number of features 1000 ############################\n",
      "####################### Running without Sampling ############################\n",
      "self-learning Multinomial Naive Bayes average score: 0.733724251992\n",
      "--- 14.5179240704 seconds ---\n"
     ]
    }
   ],
   "source": [
    "start_time = time.time()\n",
    "sklearn_mnb = MultinomialNB(alpha=.01)\n",
    "mnb_results = main(result, sklearn_mnb, [100, 500, 1000], 'Multinomial Naive Bayes', \n",
    "                   unlabelled_index, labelled_index)\n",
    "print(\"--- %s seconds ---\" % (time.time() - start_time))"
   ]
  },
  {
   "cell_type": "code",
   "execution_count": 11,
   "metadata": {},
   "outputs": [
    {
     "name": "stdout",
     "output_type": "stream",
     "text": [
      "####################### Running for Number of features 100 ############################\n",
      "####################### Running without Sampling ############################\n",
      "self-learning Logistic Regression average score: 0.76950834461\n",
      "####################### Running for Number of features 500 ############################\n",
      "####################### Running without Sampling ############################\n",
      "self-learning Logistic Regression average score: 0.76033679146\n",
      "####################### Running for Number of features 1000 ############################\n",
      "####################### Running without Sampling ############################\n",
      "self-learning Logistic Regression average score: 0.758382198166\n",
      "--- 35.8555099964 seconds ---\n"
     ]
    }
   ],
   "source": [
    "start_time = time.time()\n",
    "sklearn_lr = LogisticRegression(n_jobs=-1, class_weight='balanced')\n",
    "lr_results = main(result, sklearn_lr, [100, 500, 1000], 'Logistic Regression', unlabelled_index, labelled_index)\n",
    "print(\"--- %s seconds ---\" % (time.time() - start_time))"
   ]
  },
  {
   "cell_type": "code",
   "execution_count": 12,
   "metadata": {},
   "outputs": [
    {
     "name": "stdout",
     "output_type": "stream",
     "text": [
      "####################### Running for Number of features 100 ############################\n",
      "####################### Running without Sampling ############################\n",
      "self-learning SVM average score: 0.701398285972\n",
      "####################### Running for Number of features 500 ############################\n",
      "####################### Running without Sampling ############################\n",
      "self-learning SVM average score: 0.701398285972\n",
      "####################### Running for Number of features 1000 ############################\n",
      "####################### Running without Sampling ############################\n",
      "self-learning SVM average score: 0.701398285972\n",
      "--- 8436.44068599 seconds ---\n"
     ]
    }
   ],
   "source": [
    "start_time = time.time()\n",
    "sklearn_svm = sklearn.svm.SVC(kernel=\"rbf\", probability=True, class_weight='balanced')\n",
    "svm_results = main(result, sklearn_svm, [100, 500, 1000], 'SVM', unlabelled_index, labelled_index)\n",
    "print(\"--- %s seconds ---\" % (time.time() - start_time))"
   ]
  },
  {
   "cell_type": "code",
   "execution_count": null,
   "metadata": {},
   "outputs": [],
   "source": []
  },
  {
   "cell_type": "code",
   "execution_count": 19,
   "metadata": {},
   "outputs": [],
   "source": [
    "def get_results(classifier, data_type):\n",
    "    dict_features = {}\n",
    "    dict_acc = {}\n",
    "    for features in [500]:\n",
    "        model = joblib.load('models/selfLearning_{}_{}_{}.pkl'.format(classifier, features, 3))\n",
    "        x_tst = joblib.load('models/X_test_{}_{}_{}.pkl'.format(classifier, features, 3))\n",
    "        y_tst = joblib.load('models/Y_test_{}_{}_{}.pkl'.format(classifier, features, 3))\n",
    "        acc = model.score(x_tst, y_tst.astype(data_type))\n",
    "        y_pred = model.predict(x_tst)\n",
    "        result = classification_report(y_tst.astype(data_type), y_pred.astype(data_type), output_dict=True)\n",
    "        dict_features[str(features)] = pd.DataFrame(result)\n",
    "        dict_features[str(features)].transpose().to_csv('ST_{}_{}_latex_table_report.csv'.format(classifier, features))\n",
    "        dict_acc[str(features)] = acc\n",
    "    #vals = [[round(dict_features['500'].loc['precision', 'weighted avg'], 2), \n",
    "    #         round(dict_features['500'].loc['recall', 'weighted avg'], 2),\n",
    "    #         round(dict_features['500'].loc['f1-score', 'weighted avg'], 2),\n",
    "    #         round(dict_acc['500'],2)]]\n",
    "    #columns=[\"Precision\", \"Recall\", \"F1-score\", \"Accuracy\"]\n",
    "    arrays = [[\"Precision\", \"Precision\", \"Precision\", \"Recall\", \"Recall\", \"Recall\", \"F1-score\", \"F1-score\", \n",
    "               \"F1-score\"], ['Critical', 'Non-Critical', 'Weighted Avg.', 'Critical', 'Non-Critical', \n",
    "                                       'Weighted Avg.', 'Critical', 'Non-Critical', 'Weighted Avg.']]\n",
    "    MI = pd.MultiIndex.from_arrays(arrays, names=('Measures', 'Classes'))\n",
    "    vals = [[round(dict_features[str(features)].loc['precision', '0.0'], 2)],\n",
    "             [round(dict_features[str(features)].loc['precision', '1.0'], 2)],\n",
    "             [round(dict_features[str(features)].loc['precision', 'weighted avg'], 2)],\n",
    "             [round(dict_features[str(features)].loc['recall', '0.0'], 2)],\n",
    "             [round(dict_features[str(features)].loc['recall', '1.0'], 2)],\n",
    "             [round(dict_features[str(features)].loc['recall', 'weighted avg'], 2)],\n",
    "             [round(dict_features[str(features)].loc['f1-score', '0.0'], 2)],\n",
    "             [round(dict_features[str(features)].loc['f1-score', '1.0'], 2)],\n",
    "             [round(dict_features[str(features)].loc['f1-score', 'weighted avg'], 2)]]\n",
    "             #[round(dict_acc[str(features)],2)]]\n",
    "    df = pd.DataFrame(vals, index=MI, columns=['vals'])  \n",
    "    df = df.unstack().transpose().reset_index(level=0, drop=True)\n",
    "    ax = df.plot(kind='bar', figsize=(8,6), rot=False)\n",
    "    patches, labels = ax.get_legend_handles_labels()\n",
    "    ax.legend(patches, labels, loc='best')\n",
    "    plt.xlabel('Evaluation Measure ST MNB', fontsize=12)\n",
    "    plt.savefig('{}_results.pdf'.format(classifier), dpi=720)    \n",
    "    return df"
   ]
  },
  {
   "cell_type": "code",
   "execution_count": 20,
   "metadata": {},
   "outputs": [
    {
     "data": {
      "image/png": "[encoded data removed]",
      "text/plain": [
       "<Figure size 576x432 with 1 Axes>"
      ]
     },
     "metadata": {
      "needs_background": "light"
     },
     "output_type": "display_data"
    }
   ],
   "source": [
    "self_training_mnb = get_results('Multinomial Naive Bayes', float)"
   ]
  },
  {
   "cell_type": "code",
   "execution_count": null,
   "metadata": {},
   "outputs": [],
   "source": []
  },
  {
   "cell_type": "code",
   "execution_count": 14,
   "metadata": {},
   "outputs": [
    {
     "data": {
      "image/png": "[encoded data removed]",
      "text/plain": [
       "<Figure size 576x432 with 1 Axes>"
      ]
     },
     "metadata": {
      "needs_background": "light"
     },
     "output_type": "display_data"
    }
   ],
   "source": [
    "self_training_lr = get_results('Logistic Regression', float)"
   ]
  },
  {
   "cell_type": "code",
   "execution_count": 18,
   "metadata": {},
   "outputs": [
    {
     "data": {
      "image/png": "[encoded data removed]",
      "text/plain": [
       "<Figure size 576x432 with 1 Axes>"
      ]
     },
     "metadata": {
      "needs_background": "light"
     },
     "output_type": "display_data"
    }
   ],
   "source": [
    "self_training_svm = get_results('SVM', float)"
   ]
  },
  {
   "cell_type": "code",
   "execution_count": 28,
   "metadata": {},
   "outputs": [],
   "source": [
    "#self_training_mnb = self_training_mnb.rename({'accuracy': 'Self-Training MNB Accuracy', \n",
    "#                                                        'f1-score': 'Self-Training MNB f1-score'}, axis=1)\n",
    "#self_training_svm = self_training_svm.rename({'accuracy': 'Self-Training SVM Accuracy', \n",
    "#                                                        'f1-score': 'Self-Training SVM f1-score'}, axis=1)\n",
    "#self_training_lr = self_training_lr.rename({'accuracy': 'Self-Training Logistic Regression Accuracy', \n",
    "#                                                        'f1-score': 'Self-Training Logistic Regression f1-score'}, axis=1)"
   ]
  },
  {
   "cell_type": "code",
   "execution_count": 17,
   "metadata": {},
   "outputs": [],
   "source": [
    "self_training_mnb = self_training_mnb.rename({0: 'Multinomial Naive Bayes'}, axis=1)\n",
    "self_training_svm = self_training_svm.rename({0: 'SVMs'}, axis=1)\n",
    "self_training_lr = self_training_lr.rename({0: 'Logistic Regression'}, axis=1)"
   ]
  },
  {
   "cell_type": "code",
   "execution_count": 18,
   "metadata": {},
   "outputs": [],
   "source": [
    "st_result = pd.concat([self_training_mnb, self_training_svm, self_training_lr], axis=1)"
   ]
  },
  {
   "cell_type": "code",
   "execution_count": 19,
   "metadata": {},
   "outputs": [
    {
     "data": {
      "text/html": [
       "<div>\n",
       "<style scoped>\n",
       "    .dataframe tbody tr th:only-of-type {\n",
       "        vertical-align: middle;\n",
       "    }\n",
       "\n",
       "    .dataframe tbody tr th {\n",
       "        vertical-align: top;\n",
       "    }\n",
       "\n",
       "    .dataframe thead th {\n",
       "        text-align: right;\n",
       "    }\n",
       "</style>\n",
       "<table border=\"1\" class=\"dataframe\">\n",
       "  <thead>\n",
       "    <tr style=\"text-align: right;\">\n",
       "      <th></th>\n",
       "      <th>Multinomial Naive Bayes</th>\n",
       "      <th>SVMs</th>\n",
       "      <th>Logistic Regression</th>\n",
       "    </tr>\n",
       "  </thead>\n",
       "  <tbody>\n",
       "    <tr>\n",
       "      <th>Precision</th>\n",
       "      <td>0.80</td>\n",
       "      <td>0.49</td>\n",
       "      <td>0.79</td>\n",
       "    </tr>\n",
       "    <tr>\n",
       "      <th>Recall</th>\n",
       "      <td>0.72</td>\n",
       "      <td>0.70</td>\n",
       "      <td>0.78</td>\n",
       "    </tr>\n",
       "    <tr>\n",
       "      <th>F1-score</th>\n",
       "      <td>0.62</td>\n",
       "      <td>0.58</td>\n",
       "      <td>0.79</td>\n",
       "    </tr>\n",
       "    <tr>\n",
       "      <th>Accuracy</th>\n",
       "      <td>0.72</td>\n",
       "      <td>0.70</td>\n",
       "      <td>0.78</td>\n",
       "    </tr>\n",
       "  </tbody>\n",
       "</table>\n",
       "</div>"
      ],
      "text/plain": [
       "           Multinomial Naive Bayes  SVMs  Logistic Regression\n",
       "Precision                     0.80  0.49                 0.79\n",
       "Recall                        0.72  0.70                 0.78\n",
       "F1-score                      0.62  0.58                 0.79\n",
       "Accuracy                      0.72  0.70                 0.78"
      ]
     },
     "execution_count": 19,
     "metadata": {},
     "output_type": "execute_result"
    }
   ],
   "source": [
    "st_result"
   ]
  },
  {
   "cell_type": "code",
   "execution_count": 20,
   "metadata": {},
   "outputs": [
    {
     "data": {
      "image/png": "[encoded data removed]",
      "text/plain": [
       "<Figure size 576x432 with 1 Axes>"
      ]
     },
     "metadata": {
      "needs_background": "light"
     },
     "output_type": "display_data"
    }
   ],
   "source": [
    "ax = st_result.plot(kind='bar', figsize=(8,6), rot=False)\n",
    "plt.xlabel('Features', fontsize=12)\n",
    "plt.savefig('{}_results.pdf'.format('SelfTraining'), dpi=720)"
   ]
  },
  {
   "cell_type": "markdown",
   "metadata": {},
   "source": [
    "# Get predictions from Logistic Regression Self training for Ensemble"
   ]
  },
  {
   "cell_type": "code",
   "execution_count": 44,
   "metadata": {},
   "outputs": [],
   "source": [
    "self_training_lr = LogisticRegression(n_jobs=-1, class_weight='balanced')\n",
    "df = result.copy()"
   ]
  },
  {
   "cell_type": "code",
   "execution_count": 45,
   "metadata": {},
   "outputs": [
    {
     "name": "stdout",
     "output_type": "stream",
     "text": [
      "0.728461885431\n",
      "0.771763644565\n",
      "0.780784844384\n"
     ]
    }
   ],
   "source": [
    "tfidf_vectorizer = TfidfVectorizer(max_df=0.95, min_df=2, max_features=500, stop_words='english')\n",
    "X_tf = tfidf_vectorizer.fit_transform(df['textual_data']).toarray()\n",
    "Y_tf = np.array(df['class'])\n",
    "X_U = X_tf[unlabelled_index]\n",
    "X_l = X_tf[labelled_index]\n",
    "Y_l = Y_tf[labelled_index]\n",
    "stratified_shuffle_split = StratifiedShuffleSplit(n_splits=3, test_size=0.6, random_state=0)\n",
    "scores = []\n",
    "iteration = 1\n",
    "for train_index, test_index in stratified_shuffle_split.split(X_l, Y_l):\n",
    "    X_train = X_l[train_index].copy()\n",
    "    Y_train = Y_l[train_index].copy()\n",
    "    X_test = X_l[test_index].copy()\n",
    "    Y_test = Y_l[test_index].copy()\n",
    "    X = np.vstack((X_train, X_U))\n",
    "    Y_U = np.full((X_U.shape[0], ), -1, dtype=float)\n",
    "    Y = np.concatenate((Y_train, Y_U)).astype(float)\n",
    "\n",
    "    slm = SelfLearningModel(self_training_lr)\n",
    "    slm.fit(X, Y)\n",
    "    print slm.score(X_test, Y_test.astype(float))"
   ]
  },
  {
   "cell_type": "code",
   "execution_count": 46,
   "metadata": {},
   "outputs": [],
   "source": [
    "Y_Pred = slm.predict(X_tf)"
   ]
  },
  {
   "cell_type": "code",
   "execution_count": 49,
   "metadata": {},
   "outputs": [],
   "source": [
    "df['ST_MNB'] = Y_Pred"
   ]
  },
  {
   "cell_type": "code",
   "execution_count": 51,
   "metadata": {},
   "outputs": [],
   "source": [
    "tsvm_model = joblib.load('models/TSVM_500_3.pkl')"
   ]
  },
  {
   "cell_type": "code",
   "execution_count": null,
   "metadata": {},
   "outputs": [],
   "source": [
    "Y_Pred_tsvm = tsvm_model.predict(X_tf)"
   ]
  },
  {
   "cell_type": "code",
   "execution_count": null,
   "metadata": {},
   "outputs": [],
   "source": []
  }
 ],
 "metadata": {
  "kernelspec": {
   "display_name": "Python 3",
   "language": "python",
   "name": "python3"
  },
  "language_info": {
   "codemirror_mode": {
    "name": "ipython",
    "version": 3
   },
   "file_extension": ".py",
   "mimetype": "text/x-python",
   "name": "python",
   "nbconvert_exporter": "python",
   "pygments_lexer": "ipython3",
   "version": "3.6.9"
  }
 },
 "nbformat": 4,
 "nbformat_minor": 2
}
