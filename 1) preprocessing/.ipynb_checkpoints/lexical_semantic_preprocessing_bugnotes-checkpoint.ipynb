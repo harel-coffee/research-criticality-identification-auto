{
 "cells": [
  {
   "cell_type": "code",
   "execution_count": 2,
   "metadata": {},
   "outputs": [],
   "source": [
    "import numpy as np\n",
    "import pandas as pd\n",
    "import nltk, os\n",
    "from nltk.corpus import sentiwordnet as swn\n",
    "from pprint import pprint\n",
    "from nltk.stem.wordnet import WordNetLemmatizer\n",
    "from nltk.corpus import wordnet\n",
    "import itertools, string, re, unidecode, icu, time, pickle\n",
    "from gensim.models import Phrases\n",
    "from gensim.models.phrases import Phraser\n",
    "from nltk import bigrams\n",
    "from langdetect import detect\n",
    "from textblob import TextBlob\n",
    "from pattern.en import sentiment"
   ]
  },
  {
   "cell_type": "code",
   "execution_count": 2,
   "metadata": {},
   "outputs": [],
   "source": [
    "# Regex to remove urls and emails from text\n",
    "regex_urls = re.compile('http\\S+')\n",
    "regex_emails = re.compile('\\S*@\\S*\\s?')"
   ]
  },
  {
   "cell_type": "markdown",
   "metadata": {},
   "source": [
    "The casefold() method is removes all case distinctions present in a string. It is used for caseless matching, \n",
    "i.e. ignores cases when comparing. <br>\n",
    "For example, German lowercase letter ß is equivalent to ss. However, since ß is already lowercase, \n",
    "lower() method does nothing to it. But, casefold() converts it to ss"
   ]
  },
  {
   "cell_type": "code",
   "execution_count": 3,
   "metadata": {},
   "outputs": [],
   "source": [
    "CharsSet = \"ascii\" # The Character set to be used as the default one when interpreting texts\n",
    "casefold = lambda u: unicode(icu.UnicodeString(u).foldCase()).encode(CharsSet, \"ignore\")"
   ]
  },
  {
   "cell_type": "code",
   "execution_count": 4,
   "metadata": {},
   "outputs": [],
   "source": [
    "def getWordnetPos(_treebank_tag):\n",
    "    \"\"\"\n",
    "    Translate the tree bank PoS tags to the WordNet's\n",
    "    \n",
    "    > Parameters:\n",
    "        _treebank_tag : str     | The tag to be translated\n",
    "    \n",
    "    > Returns:\n",
    "        The relevant WordNet PoS tag\n",
    "    https://stackoverflow.com/a/15590384/3429115\n",
    "    \"\"\"\n",
    "    if _treebank_tag.startswith('J'):\n",
    "        return wordnet.ADJ\n",
    "    elif _treebank_tag.startswith('V'):\n",
    "        return wordnet.VERB\n",
    "    elif _treebank_tag.startswith('N'):\n",
    "        return wordnet.NOUN\n",
    "    elif _treebank_tag.startswith('R'):\n",
    "        return wordnet.ADV\n",
    "    else:\n",
    "        return '' # CAUTION! It will remove all the words but the four above! implicit stopwords and punctioation removal somehow\n"
   ]
  },
  {
   "cell_type": "code",
   "execution_count": 5,
   "metadata": {},
   "outputs": [],
   "source": [
    "def lemmatizeTaggedTerms(_tgdSentsMTX, _isFlattened = True, _oddTokensBehaviour = 3):\n",
    "    \"\"\"\n",
    "    Infer the lemmatized form of tokens with their PoS tags.\n",
    "    \n",
    "    > Parameters:\n",
    "        _tgdSentsMTX : collection of pairs: token - PoS tag | The Token/Tag collection from which we want to find lemmas\n",
    "        \n",
    "        _isFlattened : bool                                 | True if the collection is an array rather than a matrix\n",
    "        \n",
    "        _oddTokensBehaviour : bool                          | What to do when an odd non-English or non-lingual token is encountered,\n",
    "                                                            | if 1, such token is not lemmatized and included as-is,\n",
    "                                                            | if 2, such token is  to be in ASCII form, ignoring non-ascii chars,\n",
    "                                                            | if 3, such token is included after replacing the odd chars with '?'.\n",
    "                                                            | 0 (and otherwise), such token is discarded.\n",
    "                                                            \n",
    "    > Returns:\n",
    "        The lemmatized list of tokens according to the selected behaviour.\n",
    "    \n",
    "    \"\"\"\n",
    "    lemmatizer = WordNetLemmatizer()\n",
    "    lemmatizedSentsMTX = []\n",
    "    for pair in _tgdSentsMTX:\n",
    "        WordNetTag = getWordnetPos(str(pair[1]));\n",
    "        if (len(WordNetTag) > 0): # Ensure there is a mapping to WordNet categories, ignore punctuations, propositions, determinants, etc.\n",
    "            # Append the lemmatized token to the sentence list after decoding foreign letters\n",
    "            # If lemmatizing fails, often due to non-English characters, kepp the word as it is:\n",
    "            try:\n",
    "                lemma = lemmatizer.lemmatize(pair[0], WordNetTag)\n",
    "                lemmatizedSentsMTX.append(lemma)\n",
    "            except UnicodeDecodeError: # This code won't be entered at all, since the controlle will convert the unicode to the ASCII chars only\n",
    "                if (_oddTokensBehaviour == 1):\n",
    "                    lemmatizedSentsMTX.append(pair[0])\n",
    "                elif (_oddTokensBehaviour == 2):\n",
    "                    lemmatizedSentsMTX.append(lemmatizer.lemmatize(unicode(pair[0], errors=\"ignore\").encode(CharsSet,\"ignore\"), WordNetTag))\n",
    "                elif (_oddTokensBehaviour == 3):\n",
    "                    lemmatizedSentsMTX.append(lemmatizer.lemmatize(unicode(pair[0], errors=\"replace\").encode(CharsSet,\"replace\"), WordNetTag))\n",
    "                        \n",
    "    return lemmatizedSentsMTX"
   ]
  },
  {
   "cell_type": "code",
   "execution_count": 6,
   "metadata": {},
   "outputs": [],
   "source": [
    "def tagPoS(_text):\n",
    "    \"\"\"\n",
    "    TagPoS will find the PoS tags for a review, which is of a multiple sentences, preserving the sentences' boundaries.    \n",
    "    \n",
    "    > Parameters:\n",
    "        _text : str                 | the text of the review in str format.\n",
    "\n",
    "    > Returns:\n",
    "    the returned object is a mere array of words' tags, but the sentences boundaries would have been \n",
    "    taken into consideration nevertheless.\n",
    "    \n",
    "        Additionally, _removePunt will be taken into consideration as well.\n",
    "    \n",
    "    > Comments:\n",
    "        As said, it is NOT recommended to remove the punctuation blindly. However, this ability is offered. A better way is to remove \n",
    "    the punctuation from the output depending on smart PoS tagging, where the tag is \".\" === a punctuation.\n",
    "    \n",
    "        Also, It is not recommended to remove stop words before this stage, the outputs will contain all part of speeches, and afterwards \n",
    "    we can remove everything but adjectives, nouns, verbs, and adverbs, a smarter way to get the essence of a sentence.\n",
    "    \n",
    "        The main function here is documented on: http://www.nltk.org/api/nltk.tag.html#nltk.tag.pos_tag_sents\n",
    "    \"\"\"\n",
    "    #if not(isinstance(_text, unicode)):\n",
    "        #_text = unicode(_text, errors=\"ignore\");        \n",
    "    listSentences = nltk.sent_tokenize(_text);\n",
    "    # But even sentences need to be an array of words, so we have to tokenise further, making each sentence array distinguishable by rows\n",
    "    # Convert the list of sentences to a list of list of words:\n",
    "    matrixSentences = [];\n",
    "    for sentence in listSentences:\n",
    "        if not (isinstance(sentence, str)):\n",
    "            sentence = sentence.encode(CharsSet,\"ignore\");            \n",
    "        sentence = sentence.translate(None, string.punctuation)\n",
    "        # Append non-empty sentences:\n",
    "        if (len(sentence) > 0):\n",
    "            # Back to unicode:\n",
    "            sentence = unicode(sentence, errors=\"ignore\")\n",
    "            # bigram[nltk.word_tokenize(sentence)] will place _ with in multiword phrases if present, any. \n",
    "            #matrixSentences.append(bigram[nltk.word_tokenize(sentence)])\n",
    "            matrixSentences.append(nltk.word_tokenize(sentence))\n",
    "    # Now let's try to PoS on the sentences of the text:\n",
    "    taggedTokens = nltk.pos_tag_sents(matrixSentences)\n",
    "    taggedTokens = list(itertools.chain.from_iterable(taggedTokens))\n",
    "    return taggedTokens"
   ]
  },
  {
   "cell_type": "code",
   "execution_count": 7,
   "metadata": {},
   "outputs": [],
   "source": [
    "def lemmatizeText(_text, _oddCharsBehaviour = 1):\n",
    "    \"\"\"\n",
    "    The main controller to lemmatize a text and return the list of lemmatized tokens.\n",
    "    \n",
    "    This controller takes care of: replacing foreign accents with most likely letters, casefolding, \n",
    "    removing newlines and tabs, replacing \" with ', removing punctuation after expanding abbreviations \n",
    "    for the sake of a better effectiveness, stopping, tokenizing, generating the PoS tags, and \n",
    "    generating lemmas of the text depending on PoS tags.\n",
    "    lemmatizeTaggedTerms\n",
    "    :parameters:\n",
    "        _text : unicode             | The text to tokenize and lemmatize, in unicode, which will be converted to str \n",
    "                                    | after proper processing\n",
    "        \n",
    "        _enAbbrvDict : dictionary   | Holds the english abbreviations' shorthands and expansions, used when \n",
    "                                    | removing punctuation\n",
    "        \n",
    "        _oddCharsBehaviour : bool   | What to do when an odd non-English or non-lingual token is encountered,\n",
    "                                    | if 1, such token is not lemmatized and included as-is,\n",
    "                                    | if 2, such token is  to be in ASCII form, ignoring non-ascii chars,\n",
    "                                    | if 3, such token is included after replacing the odd chars with '?'.\n",
    "                                    | 0 (and otherwise), such token is discarded.\n",
    "    \n",
    "    :returns:\n",
    "        A list of lemmatized tokens which belong to the inputted _text and semantic orientation(SO) score\n",
    "    \"\"\"    \n",
    "    # First, strip the unicode of accents, replace with ß with ss\n",
    "    _text = unidecode.unidecode(_text)\n",
    "    taggedText = tagPoS(casefold(_text))\n",
    "    return lemmatizeTaggedTerms(taggedText, _oddTokensBehaviour = _oddCharsBehaviour)"
   ]
  },
  {
   "cell_type": "code",
   "execution_count": 8,
   "metadata": {},
   "outputs": [],
   "source": [
    "def intensify_polarity(is_customer, row, col, pole):\n",
    "    if is_customer:\n",
    "        row[col+'_polarity'] = 'extremely_'+pole\n",
    "    else:\n",
    "        row[col+'_polarity'] = pole\n",
    "    return row"
   ]
  },
  {
   "cell_type": "code",
   "execution_count": 9,
   "metadata": {},
   "outputs": [],
   "source": [
    "def get_polarity(row, col, is_customer):\n",
    "    if (row[col+'_textblob_SO'] > 0 and row[col+'_pattern_SO'] > 0) or \\\n",
    "        (row[col+'_textblob_SO'] == 0 and row[col+'_pattern_SO'] > 0) or \\\n",
    "        (row[col+'_textblob_SO'] > 0 and row[col+'_pattern_SO'] == 0):\n",
    "        row = intensify_polarity(is_customer, row, col, 'positive')\n",
    "        \n",
    "    elif (row[col+'_textblob_SO'] < 0 and row[col+'_pattern_SO'] < 0) or \\\n",
    "        (row[col+'_textblob_SO'] == 0 and row[col+'_pattern_SO'] < 0) or \\\n",
    "        (row[col+'_textblob_SO'] < 0 and row[col+'_pattern_SO'] == 0):\n",
    "        row = intensify_polarity(is_customer, row, col, 'negative')\n",
    "        \n",
    "    elif row[col+'_textblob_SO'] == 0 and row[col+'_pattern_SO'] == 0:\n",
    "        row[col+'_polarity'] = 'neutral'\n",
    "    else:\n",
    "        if abs(row[col+'_textblob_SO']) > abs(row[col+'_pattern_SO']):\n",
    "            if row[col+'_textblob_SO'] > 0:\n",
    "                row = intensify_polarity(is_customer, row, col, 'positive')\n",
    "            else:\n",
    "                row = intensify_polarity(is_customer, row, col, 'negative')\n",
    "        else:\n",
    "            if row[col+'_pattern_SO'] > 0:\n",
    "                row = intensify_polarity(is_customer, row, col, 'positive')\n",
    "            else:\n",
    "                row = intensify_polarity(is_customer, row, col, 'negative')\n",
    "    return row"
   ]
  },
  {
   "cell_type": "code",
   "execution_count": 15,
   "metadata": {},
   "outputs": [],
   "source": [
    "def apply_lemmatization(row, textual_columns, users_df):\n",
    "    \"\"\"\n",
    "    apply lematizeText Function on every row of dataset.\n",
    "    \n",
    "    :parameters:\n",
    "        row : pandas Dataframe row | row to be processed\n",
    "\n",
    "    :returns:\n",
    "        processed row\n",
    "    \"\"\"\n",
    "    try:\n",
    "        if users_df.loc[row['bug_note_reporter_id'], 'roles'] in ['Customers', 'Customers Suppliers', 'initOS Suppliers', \n",
    "                                                                 'Partner']:\n",
    "            is_customer = True\n",
    "        else:\n",
    "            is_customer = False\n",
    "    except:\n",
    "        is_customer = False\n",
    "    for col in textual_columns:\n",
    "        # Remove hyperlinks\n",
    "        _text = re.sub(regex_urls, \" \", row[col])\n",
    "        _text = re.sub(regex_emails, \" \", _text)\n",
    "        _text = unicode(_text, \"utf-8\")\n",
    "        tb_so = TextBlob(_text)\n",
    "        row[col+'_textblob_SO'] = tb_so.sentiment.polarity\n",
    "        row[col+'_textblob_subjectivity'] = tb_so.sentiment.subjectivity\n",
    "        pt_so = sentiment(_text)\n",
    "        row[col+'_pattern_SO'] = pt_so[0]\n",
    "        row[col+'_pattern_subjectivity'] = pt_so[1]\n",
    "        row = get_polarity(row, col, is_customer)\n",
    "        row[col] = lemmatizeText(_text)\n",
    "    return row"
   ]
  },
  {
   "cell_type": "code",
   "execution_count": 16,
   "metadata": {},
   "outputs": [],
   "source": [
    "def pre_process_data(df, textual_columns, users_df):\n",
    "    \"\"\"\n",
    "        remove the null values and then apply apply_lemmatization.\n",
    "\n",
    "        :parameters:\n",
    "            df : pandas Dataframe Object | Dataframe to be processed\n",
    "    \n",
    "        :returns:\n",
    "            Processed Dataframe\n",
    "\n",
    "    \"\"\"\n",
    "    df = df.apply(lambda row: apply_lemmatization(row, textual_columns, users_df),axis=1)\n",
    "    return df"
   ]
  },
  {
   "cell_type": "code",
   "execution_count": 17,
   "metadata": {},
   "outputs": [],
   "source": [
    "if __name__ == '__main__':\n",
    "    df = pd.read_csv('../datasets/mantis_bug_notes_en.csv')\n",
    "    users_df = pd.read_csv('../datasets/mantis_user_groups.csv', index_col='user_id')\n",
    "    preprocessed = pre_process_data(df, ['bug_note'], users_df)\n",
    "    preprocessed.to_csv('../datasets/lexical_semantic_preprocessed_mantis_bugnotes.csv', encoding='utf-8', index=False)"
   ]
  },
  {
   "cell_type": "code",
   "execution_count": 19,
   "metadata": {},
   "outputs": [
    {
     "data": {
      "text/plain": [
       "positive              24514\n",
       "neutral               16764\n",
       "negative               9762\n",
       "extremely_positive     1570\n",
       "extremely_negative      727\n",
       "Name: bug_note_polarity, dtype: int64"
      ]
     },
     "execution_count": 19,
     "metadata": {},
     "output_type": "execute_result"
    }
   ],
   "source": [
    "preprocessed['bug_note_polarity'].value_counts()"
   ]
  },
  {
   "cell_type": "code",
   "execution_count": 57,
   "metadata": {},
   "outputs": [],
   "source": [
    "df_bug_history_table = pd.read_csv('../datasets/mantis_bugs_history.csv')\n",
    "df_bug_history_table.fillna('', inplace=True)\n",
    "df_bug_history_table['date_modified'] = pd.to_datetime(df_bug_history_table['date_modified'], unit='s')"
   ]
  },
  {
   "cell_type": "code",
   "execution_count": 58,
   "metadata": {},
   "outputs": [],
   "source": [
    "status_changes = df_bug_history_table[((df_bug_history_table['field_name']=='priority') & \n",
    "                      (df_bug_history_table['new_value'] > df_bug_history_table['old_value']) &\n",
    "                     (df_bug_history_table['new_value'] > 30)) | \n",
    "                     ((df_bug_history_table['field_name']=='severity') & \n",
    "                      (df_bug_history_table['new_value'] > df_bug_history_table['old_value']) &\n",
    "                     (df_bug_history_table['new_value'] > 50))]"
   ]
  },
  {
   "cell_type": "code",
   "execution_count": 46,
   "metadata": {},
   "outputs": [],
   "source": [
    "df = pd.read_csv('../datasets/lexical_semantic_preprocessed_mantis_bugnotes.csv')"
   ]
  },
  {
   "cell_type": "code",
   "execution_count": 47,
   "metadata": {},
   "outputs": [],
   "source": [
    "df_dates = pd.read_csv('../datasets/mantis_bug_notes_dates.csv')"
   ]
  },
  {
   "cell_type": "code",
   "execution_count": null,
   "metadata": {},
   "outputs": [],
   "source": []
  },
  {
   "cell_type": "code",
   "execution_count": null,
   "metadata": {},
   "outputs": [],
   "source": []
  },
  {
   "cell_type": "code",
   "execution_count": 45,
   "metadata": {},
   "outputs": [
    {
     "data": {
      "text/html": [
       "<div>\n",
       "<style scoped>\n",
       "    .dataframe tbody tr th:only-of-type {\n",
       "        vertical-align: middle;\n",
       "    }\n",
       "\n",
       "    .dataframe tbody tr th {\n",
       "        vertical-align: top;\n",
       "    }\n",
       "\n",
       "    .dataframe thead th {\n",
       "        text-align: right;\n",
       "    }\n",
       "</style>\n",
       "<table border=\"1\" class=\"dataframe\">\n",
       "  <thead>\n",
       "    <tr style=\"text-align: right;\">\n",
       "      <th></th>\n",
       "      <th>bug_id</th>\n",
       "      <th>bug_note</th>\n",
       "      <th>bug_note_reporter_id</th>\n",
       "      <th>bug_note_translation_status</th>\n",
       "      <th>bugnote_id</th>\n",
       "    </tr>\n",
       "  </thead>\n",
       "  <tbody>\n",
       "    <tr>\n",
       "      <th>0</th>\n",
       "      <td>12</td>\n",
       "      <td>The one compatible Java VM must be installed o...</td>\n",
       "      <td>3</td>\n",
       "      <td>English</td>\n",
       "      <td>1</td>\n",
       "    </tr>\n",
       "    <tr>\n",
       "      <th>1</th>\n",
       "      <td>12</td>\n",
       "      <td>The problem could be reconstructed and the ins...</td>\n",
       "      <td>3</td>\n",
       "      <td>English</td>\n",
       "      <td>2</td>\n",
       "    </tr>\n",
       "    <tr>\n",
       "      <th>2</th>\n",
       "      <td>12</td>\n",
       "      <td>The problem is now edited User55 User3</td>\n",
       "      <td>3</td>\n",
       "      <td>English</td>\n",
       "      <td>3</td>\n",
       "    </tr>\n",
       "    <tr>\n",
       "      <th>3</th>\n",
       "      <td>12</td>\n",
       "      <td>The problem is fixed and the JVM installed. Fr...</td>\n",
       "      <td>3</td>\n",
       "      <td>English</td>\n",
       "      <td>4</td>\n",
       "    </tr>\n",
       "    <tr>\n",
       "      <th>4</th>\n",
       "      <td>10</td>\n",
       "      <td>IPhone is not yet connected to the Exchange</td>\n",
       "      <td>3</td>\n",
       "      <td>English</td>\n",
       "      <td>5</td>\n",
       "    </tr>\n",
       "  </tbody>\n",
       "</table>\n",
       "</div>"
      ],
      "text/plain": [
       "   bug_id                                           bug_note  \\\n",
       "0      12  The one compatible Java VM must be installed o...   \n",
       "1      12  The problem could be reconstructed and the ins...   \n",
       "2      12             The problem is now edited User55 User3   \n",
       "3      12  The problem is fixed and the JVM installed. Fr...   \n",
       "4      10        IPhone is not yet connected to the Exchange   \n",
       "\n",
       "   bug_note_reporter_id bug_note_translation_status  bugnote_id  \n",
       "0                     3                     English           1  \n",
       "1                     3                     English           2  \n",
       "2                     3                     English           3  \n",
       "3                     3                     English           4  \n",
       "4                     3                     English           5  "
      ]
     },
     "execution_count": 45,
     "metadata": {},
     "output_type": "execute_result"
    }
   ],
   "source": [
    "df.head()"
   ]
  },
  {
   "cell_type": "code",
   "execution_count": null,
   "metadata": {},
   "outputs": [],
   "source": []
  }
 ],
 "metadata": {
  "kernelspec": {
   "display_name": "Python 2",
   "language": "python",
   "name": "python2"
  },
  "language_info": {
   "codemirror_mode": {
    "name": "ipython",
    "version": 2
   },
   "file_extension": ".py",
   "mimetype": "text/x-python",
   "name": "python",
   "nbconvert_exporter": "python",
   "pygments_lexer": "ipython2",
   "version": "2.7.15rc1"
  }
 },
 "nbformat": 4,
 "nbformat_minor": 2
}
