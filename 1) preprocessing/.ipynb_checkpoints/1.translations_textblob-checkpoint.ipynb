{
 "cells": [
  {
   "cell_type": "markdown",
   "metadata": {},
   "source": [
    "\\# Developer: Ali Hashaam (ali.hashaam@initos.com) <br>\n",
    "\\# 15th December 2018 <br>\n",
    "\n",
    "\\# © 2019 initOS GmbH <br>\n",
    "\\# License MIT <br>\n",
    "\n",
    "The code is responsible to translating Mantis German data to English. In order to obtain unilingual model, we have to bring all data into one format"
   ]
  },
  {
   "cell_type": "code",
   "execution_count": 1,
   "metadata": {},
   "outputs": [],
   "source": [
    "from textblob import TextBlob\n",
    "import unidecode, string\n",
    "import pandas as pd\n",
    "import logging, os, re, string, time\n",
    "from textblob.exceptions import NotTranslated, TranslatorError"
   ]
  },
  {
   "cell_type": "code",
   "execution_count": 2,
   "metadata": {},
   "outputs": [],
   "source": [
    "regex_tab_newlines = re.compile(r'(\\n+)|(\\r+)|(\\t+)')\n",
    "regex_doublequotes = re.compile(r'\\\"+')\n",
    "remove_html_tags = re.compile(r'<[^>]+>')"
   ]
  },
  {
   "cell_type": "code",
   "execution_count": 6,
   "metadata": {},
   "outputs": [],
   "source": [
    "def establish_logger(plateform):\n",
    "    filepath = 'logs/mantis_translation.log'\n",
    "    if os.path.exists(filepath):\n",
    "        os.remove(filepath)\n",
    "    logger = logging.getLogger(plateform+\"_translator\")\n",
    "    logger.setLevel(logging.INFO)\n",
    "    fh = logging.FileHandler(filepath)\n",
    "    fh.setLevel(logging.INFO)\n",
    "    formatter = logging.Formatter(\"%(asctime)s - %(name)s - %(levelname)s - %(message)s\")\n",
    "    fh.setFormatter(formatter)\n",
    "    logger.addHandler(fh)\n",
    "    return logger"
   ]
  },
  {
   "cell_type": "code",
   "execution_count": null,
   "metadata": {},
   "outputs": [],
   "source": [
    "def remove_null(df):\n",
    "    \"\"\"\n",
    "    Takes in data and remove the records with any null values.\n",
    "        > Parameters:\n",
    "            df : pandas Dataframe Object | Dataframe to be processed\n",
    "    \n",
    "        > Returns:\n",
    "            Dataframe without null values\n",
    "    \"\"\"\n",
    "    # Check for null values in data\n",
    "    null_rows = df[df.isnull().all(axis=1)]\n",
    "    if len(null_rows):\n",
    "        # if all values are null in a row then drop that row\n",
    "        df = df.dropna(how='all')\n",
    "        print(\"Rows with all null values dropped!!!\")\n",
    "    df = df.fillna('')\n",
    "    return df"
   ]
  },
  {
   "cell_type": "code",
   "execution_count": 16,
   "metadata": {},
   "outputs": [],
   "source": [
    "def translate_bugs(row, t_cols, id_col):\n",
    "    \"\"\"First remove the unncessary punctuations and then translate it and set the status of translation in \n",
    "    another column\"\"\"\n",
    "    global logger\n",
    "    for col in t_cols:\n",
    "        text = re.sub(regex_tab_newlines, \" \", row[col])\n",
    "        text = re.sub(remove_html_tags, \" \", text)\n",
    "        text = text.translate(None, '\"#<>\\\\^`{|}~')\n",
    "        text = unicode(text, \"utf-8\")\n",
    "        try:\n",
    "            if len(text):\n",
    "                row[col] = TextBlob(text).translate(to ='en').string\n",
    "        except TranslatorError as e:\n",
    "            print e\n",
    "            row[col+'_error'] = 'translation error'\n",
    "        except NotTranslated:\n",
    "            row[col+'_error'] = 'not translated'\n",
    "    logger.info('{} is done.'.format(row[id_col]))\n",
    "    return row"
   ]
  },
  {
   "cell_type": "code",
   "execution_count": 17,
   "metadata": {},
   "outputs": [],
   "source": [
    "if __name__ == '__main__':\n",
    "    logger = establish_logger('mantis')\n",
    "    dataset_dir = '../datasets'\n",
    "    for files in ['mantis_bug_notes', 'mantis_bugs']:\n",
    "        df = pd.read_csv('{}/{}.csv'.format(dataset_dir, files)).head(5)\n",
    "        df = df.fillna('')\n",
    "        df = remove_null(df)\n",
    "        if 'mantis_bug_notes' in files:\n",
    "            textual_cols = ['bug_note']\n",
    "            id_col = 'bugnote_id'\n",
    "        else:\n",
    "            textual_cols = ['summary', 'description', 'additional_information', 'steps_to_reproduce' ]\n",
    "            id_col = 'id'\n",
    "        df = df.apply(lambda x: translate_bugs(x, textual_cols, id_col), axis=1)\n",
    "        df.to_csv('{}/{}_en.csv'.format(dataset_dir, files), index=False, encoding='utf-8')"
   ]
  },
  {
   "cell_type": "code",
   "execution_count": null,
   "metadata": {},
   "outputs": [],
   "source": []
  },
  {
   "cell_type": "code",
   "execution_count": null,
   "metadata": {},
   "outputs": [],
   "source": []
  }
 ],
 "metadata": {
  "kernelspec": {
   "display_name": "Python 3",
   "language": "python",
   "name": "python3"
  },
  "language_info": {
   "codemirror_mode": {
    "name": "ipython",
    "version": 3
   },
   "file_extension": ".py",
   "mimetype": "text/x-python",
   "name": "python",
   "nbconvert_exporter": "python",
   "pygments_lexer": "ipython3",
   "version": "3.6.9"
  }
 },
 "nbformat": 4,
 "nbformat_minor": 2
}
