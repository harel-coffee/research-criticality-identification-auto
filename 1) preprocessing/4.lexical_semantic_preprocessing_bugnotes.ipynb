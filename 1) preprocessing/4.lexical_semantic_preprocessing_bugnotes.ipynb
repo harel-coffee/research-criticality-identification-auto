{
 "cells": [
  {
   "cell_type": "markdown",
   "metadata": {},
   "source": [
    "\\# Developer: Ali Hashaam (ali.hashaam@initos.com) <br>\n",
    "\\# 23rd December 2018 <br>\n",
    "\n",
    "\\# © 2019 initOS GmbH <br>\n",
    "\\# License MIT <br>"
   ]
  },
  {
   "cell_type": "code",
   "execution_count": 2,
   "metadata": {},
   "outputs": [],
   "source": [
    "import numpy as np\n",
    "import pandas as pd\n",
    "import nltk, os\n",
    "from nltk.corpus import sentiwordnet as swn\n",
    "from pprint import pprint\n",
    "from nltk.stem.wordnet import WordNetLemmatizer\n",
    "from nltk.corpus import wordnet\n",
    "import itertools, string, re, unidecode, icu, time, pickle\n",
    "from gensim.models import Phrases\n",
    "from gensim.models.phrases import Phraser\n",
    "from nltk import bigrams\n",
    "from textblob import TextBlob\n",
    "from pattern.en import sentiment\n",
    "from vaderSentiment.vaderSentiment import SentimentIntensityAnalyzer\n",
    "import operator\n",
    "import ast"
   ]
  },
  {
   "cell_type": "code",
   "execution_count": 3,
   "metadata": {},
   "outputs": [],
   "source": [
    "# Regex to remove urls and emails from text\n",
    "regex_urls = re.compile('http\\S+')\n",
    "regex_emails = re.compile('\\S*@\\S*\\s?')"
   ]
  },
  {
   "cell_type": "markdown",
   "metadata": {},
   "source": [
    "The casefold() method is removes all case distinctions present in a string. It is used for caseless matching, \n",
    "i.e. ignores cases when comparing. <br>\n",
    "For example, German lowercase letter ß is equivalent to ss. However, since ß is already lowercase, \n",
    "lower() method does nothing to it. But, casefold() converts it to ss"
   ]
  },
  {
   "cell_type": "code",
   "execution_count": 21,
   "metadata": {},
   "outputs": [],
   "source": [
    "CharsSet = \"ascii\" # The Character set to be used as the default one when interpreting texts\n",
    "casefold = lambda u: unicode(icu.UnicodeString(u).foldCase()).encode(CharsSet, \"ignore\")"
   ]
  },
  {
   "cell_type": "code",
   "execution_count": 44,
   "metadata": {},
   "outputs": [],
   "source": [
    "def getWordnetPos(_treebank_tag):\n",
    "    \"\"\"\n",
    "    Translate the tree bank PoS tags to the WordNet's\n",
    "    \n",
    "    > Parameters:\n",
    "        _treebank_tag : str     | The tag to be translated\n",
    "    \n",
    "    > Returns:\n",
    "        The relevant WordNet PoS tag\n",
    "    https://stackoverflow.com/a/15590384/3429115\n",
    "    \"\"\"\n",
    "    if _treebank_tag.startswith('J'):\n",
    "        return wordnet.ADJ\n",
    "    elif _treebank_tag.startswith('V'):\n",
    "        return wordnet.VERB\n",
    "    elif _treebank_tag.startswith('N'):\n",
    "        return wordnet.NOUN\n",
    "    elif _treebank_tag.startswith('R'):\n",
    "        return wordnet.ADV\n",
    "    else:\n",
    "        return '' # CAUTION! It will remove all the words but the four above! implicit stopwords and punctioation removal somehow\n"
   ]
  },
  {
   "cell_type": "code",
   "execution_count": 5,
   "metadata": {},
   "outputs": [],
   "source": [
    "def lemmatizeTaggedTerms(_tgdSentsMTX, _isFlattened = True, _oddTokensBehaviour = 3):\n",
    "    \"\"\"\n",
    "    Infer the lemmatized form of tokens with their PoS tags.\n",
    "    \n",
    "    > Parameters:\n",
    "        _tgdSentsMTX : collection of pairs: token - PoS tag | The Token/Tag collection from which we want to find lemmas\n",
    "        \n",
    "        _isFlattened : bool                                 | True if the collection is an array rather than a matrix\n",
    "        \n",
    "        _oddTokensBehaviour : bool                          | What to do when an odd non-English or non-lingual token is encountered,\n",
    "                                                            | if 1, such token is not lemmatized and included as-is,\n",
    "                                                            | if 2, such token is  to be in ASCII form, ignoring non-ascii chars,\n",
    "                                                            | if 3, such token is included after replacing the odd chars with '?'.\n",
    "                                                            | 0 (and otherwise), such token is discarded.\n",
    "                                                            \n",
    "    > Returns:\n",
    "        The lemmatized list of tokens according to the selected behaviour.\n",
    "    \n",
    "    \"\"\"\n",
    "    lemmatizer = WordNetLemmatizer()\n",
    "    lemmatizedSentsMTX = []\n",
    "    for pair in _tgdSentsMTX:\n",
    "        WordNetTag = getWordnetPos(str(pair[1]));\n",
    "        if (len(WordNetTag) > 0): # Ensure there is a mapping to WordNet categories, ignore punctuations, propositions, determinants, etc.\n",
    "            # Append the lemmatized token to the sentence list after decoding foreign letters\n",
    "            # If lemmatizing fails, often due to non-English characters, kepp the word as it is:\n",
    "            try:\n",
    "                lemma = lemmatizer.lemmatize(pair[0], WordNetTag)\n",
    "                lemmatizedSentsMTX.append(lemma)\n",
    "            except UnicodeDecodeError: # This code won't be entered at all, since the controlle will convert the unicode to the ASCII chars only\n",
    "                if (_oddTokensBehaviour == 1):\n",
    "                    lemmatizedSentsMTX.append(pair[0])\n",
    "                elif (_oddTokensBehaviour == 2):\n",
    "                    lemmatizedSentsMTX.append(lemmatizer.lemmatize(unicode(pair[0], errors=\"ignore\").encode(CharsSet,\"ignore\"), WordNetTag))\n",
    "                elif (_oddTokensBehaviour == 3):\n",
    "                    lemmatizedSentsMTX.append(lemmatizer.lemmatize(unicode(pair[0], errors=\"replace\").encode(CharsSet,\"replace\"), WordNetTag))\n",
    "                        \n",
    "    return lemmatizedSentsMTX"
   ]
  },
  {
   "cell_type": "code",
   "execution_count": 6,
   "metadata": {},
   "outputs": [],
   "source": [
    "def tagPoS(_text):\n",
    "    \"\"\"\n",
    "    TagPoS will find the PoS tags for a review, which is of a multiple sentences, preserving the sentences' boundaries.    \n",
    "    \n",
    "    > Parameters:\n",
    "        _text : str                 | the text of the review in str format.\n",
    "\n",
    "    > Returns:\n",
    "    the returned object is a mere array of words' tags, but the sentences boundaries would have been \n",
    "    taken into consideration nevertheless.\n",
    "    \n",
    "        Additionally, _removePunt will be taken into consideration as well.\n",
    "    \n",
    "    > Comments:\n",
    "        As said, it is NOT recommended to remove the punctuation blindly. However, this ability is offered. A better way is to remove \n",
    "    the punctuation from the output depending on smart PoS tagging, where the tag is \".\" === a punctuation.\n",
    "    \n",
    "        Also, It is not recommended to remove stop words before this stage, the outputs will contain all part of speeches, and afterwards \n",
    "    we can remove everything but adjectives, nouns, verbs, and adverbs, a smarter way to get the essence of a sentence.\n",
    "    \n",
    "        The main function here is documented on: http://www.nltk.org/api/nltk.tag.html#nltk.tag.pos_tag_sents\n",
    "    \"\"\"\n",
    "    #if not(isinstance(_text, unicode)):\n",
    "        #_text = unicode(_text, errors=\"ignore\");        \n",
    "    listSentences = nltk.sent_tokenize(_text);\n",
    "    # But even sentences need to be an array of words, so we have to tokenise further, making each sentence array distinguishable by rows\n",
    "    # Convert the list of sentences to a list of list of words:\n",
    "    matrixSentences = [];\n",
    "    for sentence in listSentences:\n",
    "        if not (isinstance(sentence, str)):\n",
    "            sentence = sentence.encode(CharsSet,\"ignore\");            \n",
    "        sentence = sentence.translate(None, string.punctuation)\n",
    "        # Append non-empty sentences:\n",
    "        if (len(sentence) > 0):\n",
    "            # Back to unicode:\n",
    "            sentence = unicode(sentence, errors=\"ignore\")\n",
    "            # bigram[nltk.word_tokenize(sentence)] will place _ with in multiword phrases if present, any. \n",
    "            #matrixSentences.append(bigram[nltk.word_tokenize(sentence)])\n",
    "            matrixSentences.append(nltk.word_tokenize(sentence))\n",
    "    # Now let's try to PoS on the sentences of the text:\n",
    "    taggedTokens = nltk.pos_tag_sents(matrixSentences)\n",
    "    taggedTokens = list(itertools.chain.from_iterable(taggedTokens))\n",
    "    return taggedTokens"
   ]
  },
  {
   "cell_type": "code",
   "execution_count": 7,
   "metadata": {},
   "outputs": [],
   "source": [
    "def lemmatizeText(_text, _oddCharsBehaviour = 1):\n",
    "    \"\"\"\n",
    "    The main controller to lemmatize a text and return the list of lemmatized tokens.\n",
    "    \n",
    "    This controller takes care of: replacing foreign accents with most likely letters, casefolding, \n",
    "    removing newlines and tabs, replacing \" with ', removing punctuation after expanding abbreviations \n",
    "    for the sake of a better effectiveness, stopping, tokenizing, generating the PoS tags, and \n",
    "    generating lemmas of the text depending on PoS tags.\n",
    "    lemmatizeTaggedTerms\n",
    "    :parameters:\n",
    "        _text : unicode             | The text to tokenize and lemmatize, in unicode, which will be converted to str \n",
    "                                    | after proper processing\n",
    "        \n",
    "        _enAbbrvDict : dictionary   | Holds the english abbreviations' shorthands and expansions, used when \n",
    "                                    | removing punctuation\n",
    "        \n",
    "        _oddCharsBehaviour : bool   | What to do when an odd non-English or non-lingual token is encountered,\n",
    "                                    | if 1, such token is not lemmatized and included as-is,\n",
    "                                    | if 2, such token is  to be in ASCII form, ignoring non-ascii chars,\n",
    "                                    | if 3, such token is included after replacing the odd chars with '?'.\n",
    "                                    | 0 (and otherwise), such token is discarded.\n",
    "    \n",
    "    :returns:\n",
    "        A list of lemmatized tokens which belong to the inputted _text and semantic orientation(SO) score\n",
    "    \"\"\"    \n",
    "    # First, strip the unicode of accents, replace with ß with ss\n",
    "    _text = unidecode.unidecode(_text)\n",
    "    taggedText = tagPoS(casefold(_text))\n",
    "    return lemmatizeTaggedTerms(taggedText, _oddTokensBehaviour = _oddCharsBehaviour)"
   ]
  },
  {
   "cell_type": "code",
   "execution_count": 8,
   "metadata": {},
   "outputs": [],
   "source": [
    "def intensify_polarity(is_customer, row, col, pole):\n",
    "    if is_customer:\n",
    "        row[col+'_polarity'] = 'extremely_'+pole\n",
    "    else:\n",
    "        row[col+'_polarity'] = pole\n",
    "    return row"
   ]
  },
  {
   "cell_type": "code",
   "execution_count": 9,
   "metadata": {},
   "outputs": [],
   "source": [
    "def get_polarity(row, col, is_customer):\n",
    "    if (row[col+'_textblob_SO'] > 0 and row[col+'_pattern_SO'] > 0) or \\\n",
    "        (row[col+'_textblob_SO'] == 0 and row[col+'_pattern_SO'] > 0) or \\\n",
    "        (row[col+'_textblob_SO'] > 0 and row[col+'_pattern_SO'] == 0):\n",
    "        row = intensify_polarity(is_customer, row, col, 'positive')\n",
    "        \n",
    "    elif (row[col+'_textblob_SO'] < 0 and row[col+'_pattern_SO'] < 0) or \\\n",
    "        (row[col+'_textblob_SO'] == 0 and row[col+'_pattern_SO'] < 0) or \\\n",
    "        (row[col+'_textblob_SO'] < 0 and row[col+'_pattern_SO'] == 0):\n",
    "        row = intensify_polarity(is_customer, row, col, 'negative')\n",
    "        \n",
    "    elif row[col+'_textblob_SO'] == 0 and row[col+'_pattern_SO'] == 0:\n",
    "        row[col+'_polarity'] = 'neutral'\n",
    "    else:\n",
    "        if abs(row[col+'_textblob_SO']) > abs(row[col+'_pattern_SO']):\n",
    "            if row[col+'_textblob_SO'] > 0:\n",
    "                row = intensify_polarity(is_customer, row, col, 'positive')\n",
    "            else:\n",
    "                row = intensify_polarity(is_customer, row, col, 'negative')\n",
    "        else:\n",
    "            if row[col+'_pattern_SO'] > 0:\n",
    "                row = intensify_polarity(is_customer, row, col, 'positive')\n",
    "            else:\n",
    "                row = intensify_polarity(is_customer, row, col, 'negative')\n",
    "    return row"
   ]
  },
  {
   "cell_type": "code",
   "execution_count": 10,
   "metadata": {},
   "outputs": [],
   "source": [
    "def apply_lemmatization(row, textual_columns, users_df, intense_bugnotes_list, analyser):\n",
    "    \"\"\"\n",
    "    apply lematizeText Function on every row of dataset.\n",
    "    \n",
    "    :parameters:\n",
    "        row : pandas Dataframe row | row to be processed\n",
    "\n",
    "    :returns:\n",
    "        processed row\n",
    "    \"\"\"\n",
    "    try:\n",
    "        if users_df.loc[row['bug_note_reporter_id'], 'roles'] in ['Customers', 'Customers Suppliers', 'initOS Suppliers', \n",
    "                                                                 'Partner']:\n",
    "            is_customer = True\n",
    "        else:\n",
    "            is_customer = False\n",
    "    except:\n",
    "        is_customer = False\n",
    "    for col in textual_columns:\n",
    "        # Remove hyperlinks\n",
    "        _text = re.sub(regex_urls, \" \", row[col])\n",
    "        _text = re.sub(regex_emails, \" \", _text)\n",
    "        _text = unicode(_text, \"utf-8\")\n",
    "        tb_so = TextBlob(_text)\n",
    "        row[col+'_textblob_SO'] = tb_so.sentiment.polarity\n",
    "        #row[col+'_textblob_subjectivity'] = tb_so.sentiment.subjectivity\n",
    "        pt_so = sentiment(_text)\n",
    "        row[col+'_pattern_SO'] = pt_so[0]\n",
    "        #row[col+'_pattern_subjectivity'] = pt_so[1]\n",
    "        row[col+'_vader_SO'] = analyser.polarity_scores(_text.encode('utf-8'))\n",
    "        if row['bugnote_id'] in intense_bugnotes_list or is_customer:\n",
    "            row[col+'_intensify'] = True\n",
    "            #row[col+'_polarity'] = 'extremely_negative'\n",
    "        #else:\n",
    "        #    row = get_polarity(row, col, is_customer)\n",
    "        row[col] = lemmatizeText(_text)\n",
    "    return row"
   ]
  },
  {
   "cell_type": "code",
   "execution_count": 11,
   "metadata": {},
   "outputs": [],
   "source": [
    "def pre_process_data(df, textual_columns, users_df, intense_bugnotes_list):\n",
    "    \"\"\"\n",
    "        remove the null values and then apply apply_lemmatization.\n",
    "\n",
    "        :parameters:\n",
    "            df : pandas Dataframe Object | Dataframe to be processed\n",
    "    \n",
    "        :returns:\n",
    "            Processed Dataframe\n",
    "\n",
    "    \"\"\"\n",
    "    analyser = SentimentIntensityAnalyzer()\n",
    "    df = df.apply(lambda row: apply_lemmatization(row, textual_columns, users_df, intense_bugnotes_list, analyser),axis=1)\n",
    "    return df"
   ]
  },
  {
   "cell_type": "code",
   "execution_count": 12,
   "metadata": {},
   "outputs": [],
   "source": [
    "def get_ids_to_intensify(df):\n",
    "    df_bug_history_table = pd.read_csv('../datasets/*******.csv')\n",
    "    df_bug_history_table.fillna('', inplace=True)\n",
    "    df_bug_history_table['date_modified'] = pd.to_datetime(df_bug_history_table['date_modified'], unit='s')\n",
    "    status_changes = df_bug_history_table[((df_bug_history_table['field_name']=='priority') & \n",
    "                      (df_bug_history_table['new_value'] > df_bug_history_table['old_value']) &\n",
    "                     (df_bug_history_table['new_value'] > '30')) | \n",
    "                     ((df_bug_history_table['field_name']=='severity') & \n",
    "                      (df_bug_history_table['new_value'] > df_bug_history_table['old_value']) &\n",
    "                     (df_bug_history_table['new_value'] > '50'))]\n",
    "    bugsnotes_to_consider = df[['bug_id', 'bugnote_id', 'date_submitted', 'last_modified']]\n",
    "    bugsnotes_to_consider = bugsnotes_to_consider[bugsnotes_to_consider['bug_id'].isin(status_changes['bug_id'])]\n",
    "    df3 = bugsnotes_to_consider.merge(status_changes, on = 'bug_id')\n",
    "    df3['isDateWithin1Hour?'] = (df3['last_modified'] - df3['date_modified']).astype('timedelta64[m]')\n",
    "    df3 = df3[(df3['isDateWithin1Hour?']<30) & (df3['isDateWithin1Hour?']>-30)]\n",
    "    intense_bugnotes_list = list(set(df3['bugnote_id']))\n",
    "    return intense_bugnotes_list"
   ]
  },
  {
   "cell_type": "code",
   "execution_count": 6,
   "metadata": {},
   "outputs": [],
   "source": [
    "def find_vader_polarity(row, text_columns):\n",
    "    for col in text_columns:\n",
    "        row[col+'_vader_SO'] = ast.literal_eval(row[col+'_vader_SO'])\n",
    "        pol_dict = {'neu': row[col+'_vader_SO']['neu'], 'pos':row[col+'_vader_SO']['pos'],\n",
    "                    'neg':row[col+'_vader_SO']['neg']}\n",
    "        \n",
    "        pol = max(pol_dict.iteritems(), key=operator.itemgetter(1))\n",
    "        row[col+'_vader_polarity'] = pol[0]\n",
    "        row[col+'_vader_polarity_weight'] = row[col+'_vader_SO']['compound']\n",
    "        \n",
    "        if (row[col+'_textblob_SO'] > 0):\n",
    "            row[col+'_textblob_polarity'] = 'pos'\n",
    "        elif (row[col+'_textblob_SO'] == 0):\n",
    "            row[col+'_textblob_polarity'] = 'neu'\n",
    "        else:\n",
    "            row[col+'_textblob_polarity'] = 'neg'\n",
    "        row[col+'_textblob_polarity_weight'] = row[col+'_textblob_SO']\n",
    "        \n",
    "        if (row[col+'_pattern_SO'] > 0.):\n",
    "            row[col+'_pattern_polarity'] = 'pos'\n",
    "        elif (row[col+'_pattern_SO'] == 0):\n",
    "            row[col+'_pattern_polarity'] = 'neu'\n",
    "        else:\n",
    "            row[col+'_pattern_polarity'] = 'neg'\n",
    "        row[col+'_pattern_polarity_weight'] = row[col+'_pattern_SO']\n",
    "    return row"
   ]
  },
  {
   "cell_type": "code",
   "execution_count": 13,
   "metadata": {},
   "outputs": [],
   "source": [
    "if __name__ == '__main__':\n",
    "    df = pd.read_csv('../datasets/*******.csv')\n",
    "    date_df = pd.read_csv('../datasets/mantis_bug_notes_dates.csv')\n",
    "    df = pd.merge(df, date_df, how='left', left_on='bugnote_id', right_on='bugnote_id')\n",
    "    df['date_submitted'] = pd.to_datetime(df['date_submitted'])\n",
    "    df['last_modified'] = pd.to_datetime(df['last_modified'])\n",
    "    users_df = pd.read_csv('../datasets/mantis_user_groups.csv', index_col='user_id')\n",
    "    intense_bugnotes_list = get_ids_to_intensify(df)\n",
    "    preprocessed = pre_process_data(df, ['bug_note'], users_df, intense_bugnotes_list)\n",
    "    preprocessed.to_csv('../datasets/lexical_semantic_preprocessed_mantis_bugnotes.csv', encoding='utf-8', index=False)"
   ]
  },
  {
   "cell_type": "code",
   "execution_count": 7,
   "metadata": {},
   "outputs": [],
   "source": [
    "preprocessed = pd.read_csv('../datasets/lexical_semantic_preprocessed_mantis_bugnotes.csv')\n",
    "preprocessed = preprocessed.apply(lambda x: find_vader_polarity(x, ['bug_note']), axis = 1)\n",
    "\n",
    "preprocessed.loc[(preprocessed['bug_note_vader_polarity']=='neu') & (preprocessed['bug_note_vader_polarity_weight']<-0.3),\n",
    "                 'bug_note_vader_polarity'] = 'neg'\n",
    "\n",
    "preprocessed.loc[(preprocessed['bug_note_vader_polarity']=='neu') & (preprocessed['bug_note_vader_polarity_weight']>0.3),\n",
    "                 'bug_note_vader_polarity'] = 'pos'\n",
    "\n",
    "preprocessed.loc[(preprocessed['bug_note_intensify']==True), 'bug_note_vader_polarity_weight'] = preprocessed['bug_note_vader_polarity_weight'] * 3\n",
    "\n",
    "\n",
    "\n",
    "for col in ['bug_note']:\n",
    "    preprocessed.loc[preprocessed[col].str.len()==0, col+'_vader_polarity'] = 'neu'\n",
    "preprocessed.to_csv('../datasets/lexical_semantic_preprocessed_mantis_bugnotes.csv', encoding='utf-8', index=False)"
   ]
  },
  {
   "cell_type": "code",
   "execution_count": 16,
   "metadata": {},
   "outputs": [
    {
     "data": {
      "text/plain": [
       "pos    23051\n",
       "neu    22485\n",
       "neg     7801\n",
       "Name: bug_note_vader_polarity, dtype: int64"
      ]
     },
     "execution_count": 16,
     "metadata": {},
     "output_type": "execute_result"
    }
   ],
   "source": [
    "preprocessed['bug_note_vader_polarity'].value_counts()"
   ]
  },
  {
   "cell_type": "code",
   "execution_count": 17,
   "metadata": {},
   "outputs": [
    {
     "data": {
      "text/plain": [
       "pos    26054\n",
       "neu    16772\n",
       "neg    10511\n",
       "Name: bug_note_pattern_polarity, dtype: int64"
      ]
     },
     "execution_count": 17,
     "metadata": {},
     "output_type": "execute_result"
    }
   ],
   "source": [
    "preprocessed['bug_note_pattern_polarity'].value_counts()"
   ]
  },
  {
   "cell_type": "code",
   "execution_count": 18,
   "metadata": {},
   "outputs": [
    {
     "data": {
      "text/plain": [
       "pos    26102\n",
       "neu    16811\n",
       "neg    10424\n",
       "Name: bug_note_textblob_polarity, dtype: int64"
      ]
     },
     "execution_count": 18,
     "metadata": {},
     "output_type": "execute_result"
    }
   ],
   "source": [
    "preprocessed['bug_note_textblob_polarity'].value_counts()"
   ]
  }
 ],
 "metadata": {
  "kernelspec": {
   "display_name": "Python 3",
   "language": "python",
   "name": "python3"
  },
  "language_info": {
   "codemirror_mode": {
    "name": "ipython",
    "version": 3
   },
   "file_extension": ".py",
   "mimetype": "text/x-python",
   "name": "python",
   "nbconvert_exporter": "python",
   "pygments_lexer": "ipython3",
   "version": "3.6.9"
  }
 },
 "nbformat": 4,
 "nbformat_minor": 2
}
